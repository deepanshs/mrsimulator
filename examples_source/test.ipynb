{
 "metadata": {
  "language_info": {
   "codemirror_mode": {
    "name": "ipython",
    "version": 3
   },
   "file_extension": ".py",
   "mimetype": "text/x-python",
   "name": "python",
   "nbconvert_exporter": "python",
   "pygments_lexer": "ipython3",
   "version": "3.8.10"
  },
  "orig_nbformat": 2,
  "kernelspec": {
   "name": "python3",
   "display_name": "Python 3.8.10 64-bit ('base': conda)"
  },
  "interpreter": {
   "hash": "26e7bac574f1c87cba1f09878c2397b7a022ba30a572deb2676ba55899bc93ff"
  }
 },
 "nbformat": 4,
 "nbformat_minor": 2,
 "cells": [
  {
   "cell_type": "code",
   "execution_count": 5,
   "metadata": {},
   "outputs": [],
   "source": [
    "from mrsimulator.methods import Method1D\n",
    "from mrsimulator import SpinSystem, Site, Coupling\n",
    "from mrsimulator.base_model import transition_connect_factor\n",
    "import numpy as np"
   ]
  },
  {
   "cell_type": "code",
   "execution_count": 12,
   "metadata": {},
   "outputs": [
    {
     "output_type": "execute_result",
     "data": {
      "text/plain": [
       "((-1+5.88832e-07j), (1+0j), (-1+5.88832e-07j))"
      ]
     },
     "metadata": {},
     "execution_count": 12
    }
   ],
   "source": [
    "\n",
    "\n",
    "a1 = transition_connect_factor(0.5, 0.5, -0.5, -0.5, 0.5, np.pi, np.pi/2)\n",
    "a2 = transition_connect_factor(0.5, 0.5, 0.5, -0.5, -0.5, np.pi, np.pi/2)\n",
    "# [-0.5, 0.5, 0.5, 0.5]\n",
    "a1, a2, a1*a2"
   ]
  },
  {
   "cell_type": "code",
   "execution_count": null,
   "metadata": {},
   "outputs": [],
   "source": []
  },
  {
   "cell_type": "code",
   "execution_count": null,
   "metadata": {},
   "outputs": [],
   "source": []
  },
  {
   "cell_type": "code",
   "execution_count": null,
   "metadata": {},
   "outputs": [],
   "source": []
  },
  {
   "cell_type": "code",
   "execution_count": 2,
   "metadata": {},
   "outputs": [],
   "source": [
    "site = Site(isotope=\"1H\", isotropic_chemical_shift=-31.3,)\n",
    "system = SpinSystem(sites=[site]*2)"
   ]
  },
  {
   "cell_type": "code",
   "execution_count": 14,
   "metadata": {},
   "outputs": [],
   "source": [
    "method = Method1D(\n",
    "    channels=['1H'],\n",
    "    spectral_dimensions=[\n",
    "        {\n",
    "            \"events\": [\n",
    "                {\n",
    "                    \"fraction\": 0.5,\n",
    "                    \"transition_query\": [{\"P\": [1, 1]}],\n",
    "                },\n",
    "                {\n",
    "                    \"fraction\": 0.5,\n",
    "                    \"transition_query\": [{\"P\": [-1]}],\n",
    "                },\n",
    "            ],\n",
    "        }\n",
    "    ],\n",
    ")"
   ]
  },
  {
   "cell_type": "code",
   "execution_count": 15,
   "metadata": {},
   "outputs": [
    {
     "output_type": "execute_result",
     "data": {
      "text/plain": [
       "[TransitionQuery(name=None, description=None, label=None, property_units={}, ch1=SymmetryQuery(name=None, description=None, label=None, property_units={}, P=[1, 1], D=None, F=None, transitions=None), ch2=None, ch3=None)]"
      ]
     },
     "metadata": {},
     "execution_count": 15
    }
   ],
   "source": [
    "method.spectral_dimensions[0].events[0].transition_query"
   ]
  },
  {
   "cell_type": "code",
   "execution_count": 16,
   "metadata": {
    "tags": []
   },
   "outputs": [
    {
     "output_type": "execute_result",
     "data": {
      "text/plain": [
       "|0.5, 0.5⟩⟨-0.5, -0.5| ⟶ |-0.5, -0.5⟩⟨-0.5, 0.5|"
      ]
     },
     "metadata": {},
     "execution_count": 16
    }
   ],
   "source": [
    "pths = method.get_transition_pathways(system)\n",
    "pths[0]"
   ]
  },
  {
   "cell_type": "code",
   "execution_count": 17,
   "metadata": {},
   "outputs": [
    {
     "output_type": "execute_result",
     "data": {
      "text/plain": [
       "[array([1., 1.]), array([ 0., -1.])]"
      ]
     },
     "metadata": {},
     "execution_count": 17
    }
   ],
   "source": [
    "[trans.P for trans in pths[0]]"
   ]
  },
  {
   "cell_type": "code",
   "execution_count": null,
   "metadata": {},
   "outputs": [],
   "source": []
  }
 ]
}
