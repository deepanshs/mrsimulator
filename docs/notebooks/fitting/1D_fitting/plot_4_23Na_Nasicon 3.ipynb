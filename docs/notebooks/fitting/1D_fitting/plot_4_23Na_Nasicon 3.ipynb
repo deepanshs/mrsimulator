{
  "cells": [
    {
      "cell_type": "code",
      "execution_count": null,
      "metadata": {
        "collapsed": false
      },
      "outputs": [],
      "source": [
        "# This cell is added by sphinx-gallery\n!pip install mrsimulator --quiet\n\n\n%matplotlib inline\n\nimport mrsimulator\nprint(f'You are using mrsimulator v{mrsimulator.__version__}')"
      ]
    },
    {
      "cell_type": "markdown",
      "metadata": {},
      "source": [
        "\n# \u00b2\u00b3Na MAS NMR of Nasicon\n"
      ]
    },
    {
      "cell_type": "markdown",
      "metadata": {},
      "source": [
        "The following is a least-squares fitting example of a $^{23}\\text{Na}$ MAS NMR\nspectrum of Nasicon, $\\text{NaZr}_2(\\text{PO}_4)_3$.\nThe following experimental dataset is a part of DMFIT [#f1]_ examples.\nWe thank Dr. Dominique Massiot for sharing the dataset.\n\n"
      ]
    },
    {
      "cell_type": "code",
      "execution_count": null,
      "metadata": {
        "collapsed": false
      },
      "outputs": [],
      "source": [
        "import csdmpy as cp\nimport matplotlib.pyplot as plt\nfrom lmfit import Minimizer\n\nfrom mrsimulator import Simulator, Site, SpinSystem\nfrom mrsimulator.methods import BlochDecayCTSpectrum\nfrom mrsimulator import signal_processing as sp\nfrom mrsimulator.utils import spectral_fitting as sf\nfrom mrsimulator.utils import get_spectral_dimensions"
      ]
    },
    {
      "cell_type": "markdown",
      "metadata": {},
      "source": [
        "## Import the dataset\n\n"
      ]
    },
    {
      "cell_type": "code",
      "execution_count": null,
      "metadata": {
        "collapsed": false
      },
      "outputs": [],
      "source": [
        "host = \"https://nmr.cemhti.cnrs-orleans.fr/Dmfit/Help/csdm/\"\nfilename = \"23Na QUAD MAS Nasicon.csdf\"\nexperiment = cp.load(host + filename)\n\n# standard deviation of noise from the dataset\nsigma = 0.2368151\n\n# For spectral fitting, we only focus on the real part of the complex dataset\nexperiment = experiment.real\n\n# Convert the coordinates along each dimension from Hz to ppm.\n_ = [item.to(\"ppm\", \"nmr_frequency_ratio\") for item in experiment.dimensions]\n\n# plot of the dataset.\nplt.figure(figsize=(4.25, 3.0))\nax = plt.subplot(projection=\"csdm\")\nax.plot(experiment, color=\"black\", linewidth=0.5, label=\"Experiment\")\nax.set_xlim(100, -150)\nplt.grid()\nplt.tight_layout()\nplt.show()"
      ]
    },
    {
      "cell_type": "markdown",
      "metadata": {},
      "source": [
        "## Create a fitting model\n**Spin System**\n\n"
      ]
    },
    {
      "cell_type": "code",
      "execution_count": null,
      "metadata": {
        "collapsed": false
      },
      "outputs": [],
      "source": [
        "Na23 = Site(\n    isotope=\"23Na\",\n    isotropic_chemical_shift=-20.0,  # in ppm\n    quadrupolar={\"Cq\": 2.3e6, \"eta\": 0.03},  # Cq in Hz\n)\nspin_systems = [SpinSystem(sites=[Na23])]"
      ]
    },
    {
      "cell_type": "markdown",
      "metadata": {},
      "source": [
        "**Method**\n\n"
      ]
    },
    {
      "cell_type": "code",
      "execution_count": null,
      "metadata": {
        "collapsed": false
      },
      "outputs": [],
      "source": [
        "# Get the spectral dimension parameters from the experiment.\nspectral_dims = get_spectral_dimensions(experiment)\n\nMAS_CT = BlochDecayCTSpectrum(\n    channels=[\"23Na\"],\n    magnetic_flux_density=9.395,  # in T\n    rotor_frequency=15000,  # in Hz\n    spectral_dimensions=spectral_dims,\n    experiment=experiment,  # add the measurement to the method.\n)\n\n# Optimize the script by pre-setting the transition pathways for each spin system from\n# the method.\nfor sys in spin_systems:\n    sys.transition_pathways = MAS_CT.get_transition_pathways(sys)"
      ]
    },
    {
      "cell_type": "markdown",
      "metadata": {},
      "source": [
        "**Guess Model Spectrum**\n\n"
      ]
    },
    {
      "cell_type": "code",
      "execution_count": null,
      "metadata": {
        "collapsed": false
      },
      "outputs": [],
      "source": [
        "# Simulation\n# ----------\nsim = Simulator(spin_systems=spin_systems, methods=[MAS_CT])\nsim.run()\n\n# Post Simulation Processing\n# --------------------------\nprocessor = sp.SignalProcessor(\n    operations=[\n        sp.IFFT(),\n        sp.apodization.Exponential(FWHM=\"100 Hz\"),\n        sp.FFT(),\n        sp.Scale(factor=200),\n    ]\n)\nprocessed_data = processor.apply_operations(data=sim.methods[0].simulation).real\n\n# Plot of the guess Spectrum\n# --------------------------\nplt.figure(figsize=(4.25, 3.0))\nax = plt.subplot(projection=\"csdm\")\nax.plot(experiment, color=\"black\", linewidth=0.5, label=\"Experiment\")\nax.plot(processed_data, linewidth=2, alpha=0.6, label=\"Guess Spectrum\")\nax.set_xlim(100, -150)\nplt.grid()\nplt.legend()\nplt.tight_layout()\nplt.show()"
      ]
    },
    {
      "cell_type": "markdown",
      "metadata": {},
      "source": [
        "## Least-squares minimization with LMFIT\nUse the :func:`~mrsimulator.utils.spectral_fitting.make_LMFIT_params` for a quick\nsetup of the fitting parameters.\n\n"
      ]
    },
    {
      "cell_type": "code",
      "execution_count": null,
      "metadata": {
        "collapsed": false
      },
      "outputs": [],
      "source": [
        "params = sf.make_LMFIT_params(sim, processor)\nprint(params.pretty_print(columns=[\"value\", \"min\", \"max\", \"vary\", \"expr\"]))"
      ]
    },
    {
      "cell_type": "markdown",
      "metadata": {},
      "source": [
        "**Solve the minimizer using LMFIT**\n\n"
      ]
    },
    {
      "cell_type": "code",
      "execution_count": null,
      "metadata": {
        "collapsed": false
      },
      "outputs": [],
      "source": [
        "minner = Minimizer(sf.LMFIT_min_function, params, fcn_args=(sim, processor, sigma))\nresult = minner.minimize()\nresult"
      ]
    },
    {
      "cell_type": "markdown",
      "metadata": {},
      "source": [
        "## The best fit solution\n\n"
      ]
    },
    {
      "cell_type": "code",
      "execution_count": null,
      "metadata": {
        "collapsed": false
      },
      "outputs": [],
      "source": [
        "best_fit = sf.bestfit(sim, processor)[0]\nresiduals = sf.residuals(sim, processor)[0]\n\n# Plot the spectrum\nplt.figure(figsize=(4.25, 3.0))\nax = plt.subplot(projection=\"csdm\")\nax.plot(experiment, color=\"black\", linewidth=0.5, label=\"Experiment\")\nax.plot(residuals, color=\"gray\", linewidth=0.5, label=\"Residual\")\nax.plot(best_fit, linewidth=2, alpha=0.6, label=\"Best Fit\")\nax.set_xlim(100, -150)\nplt.grid()\nplt.legend()\nplt.tight_layout()\nplt.show()"
      ]
    },
    {
      "cell_type": "markdown",
      "metadata": {},
      "source": [
        ".. [#f1] D.Massiot, F.Fayon, M.Capron, I.King, S.Le Calv\u00e9, B.Alonso, J.O.Durand,\n      B.Bujoli, Z.Gan, G.Hoatson, 'Modelling one and two-dimensional solid-state NMR\n      spectra.', Magn. Reson. Chem. **40** 70-76 (2002)\n      `DOI: 10.1002/mrc.984 <https://doi.org/10.1002/mrc.984>`_\n\n"
      ]
    }
  ],
  "metadata": {
    "kernelspec": {
      "display_name": "Python 3",
      "language": "python",
      "name": "python3"
    },
    "language_info": {
      "codemirror_mode": {
        "name": "ipython",
        "version": 3
      },
      "file_extension": ".py",
      "mimetype": "text/x-python",
      "name": "python",
      "nbconvert_exporter": "python",
      "pygments_lexer": "ipython3",
      "version": "3.8.5"
    }
  },
  "nbformat": 4,
  "nbformat_minor": 0
}