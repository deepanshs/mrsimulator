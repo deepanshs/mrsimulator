{
  "cells": [
    {
      "cell_type": "code",
      "execution_count": null,
      "metadata": {
        "collapsed": false
      },
      "outputs": [],
      "source": [
        "# This cell is added by sphinx-gallery\n\n%matplotlib inline\n\nimport mrsimulator\nprint(f'You are using mrsimulator v{mrsimulator.__version__}')"
      ]
    },
    {
      "cell_type": "markdown",
      "metadata": {},
      "source": [
        "\n# 17O MAS NMR of crystalline Na2SiO3 (2nd order quad)\n"
      ]
    },
    {
      "cell_type": "markdown",
      "metadata": {},
      "source": [
        "In this example, we illustrate the use of the mrsimulator objects to\n\n- create a quadrupolar fitting model using Simulator and SignalProcessor objects,\n- use the fitting model to perform a least-squares analysis, and\n- extract the fitting parameters from the model.\n\nWe use the `LMFIT <https://lmfit.github.io/lmfit-py/>`_ library to fit the spectrum.\nThe following example shows the least-squares fitting procedure applied to the\n$^{17}\\text{O}$ MAS NMR spectrum of $\\text{Na}_{2}\\text{SiO}_{3}$ [#f5]_.\nThe dataset was shared by Dr. Philip Grandinetti.\n\nStart by importing the relevant modules.\n\n"
      ]
    },
    {
      "cell_type": "code",
      "execution_count": null,
      "metadata": {
        "collapsed": false
      },
      "outputs": [],
      "source": [
        "import csdmpy as cp\nimport matplotlib.pyplot as plt\nfrom lmfit import Minimizer, report_fit\n\nfrom mrsimulator import Simulator, SpinSystem, Site\nfrom mrsimulator.methods import BlochDecayCTSpectrum\nfrom mrsimulator import signal_processing as sp\nfrom mrsimulator.utils import spectral_fitting as sf\nfrom mrsimulator.utils import get_spectral_dimensions"
      ]
    },
    {
      "cell_type": "markdown",
      "metadata": {},
      "source": [
        "## Import the dataset\n\nImport the experimental data. We use dataset file serialized with the CSDM\nfile-format, using the\n`csdmpy <https://csdmpy.readthedocs.io/en/stable/index.html>`_ module.\n\n"
      ]
    },
    {
      "cell_type": "code",
      "execution_count": null,
      "metadata": {
        "collapsed": false
      },
      "outputs": [],
      "source": [
        "filename = \"https://sandbox.zenodo.org/record/814455/files/Na2SiO3_O17.csdf\"\nexperiment = cp.load(filename)\n\n# standard deviation of noise from the dataset\nsigma = 1.931335\n\n# For spectral fitting, we only focus on the real part of the complex dataset\nexperiment = experiment.real\n\n# Convert the dimension coordinates from Hz to ppm.\nexperiment.x[0].to(\"ppm\", \"nmr_frequency_ratio\")\n\n# plot of the dataset.\nplt.figure(figsize=(4.25, 3.0))\nax = plt.subplot(projection=\"csdm\")\nax.plot(experiment, \"k\", alpha=0.5)\nax.set_xlim(100, -50)\nplt.grid()\nplt.tight_layout()\nplt.show()"
      ]
    },
    {
      "cell_type": "markdown",
      "metadata": {},
      "source": [
        "## Create a fitting model\n\nA fitting model is a composite of ``Simulator`` and ``SignalProcessor`` objects.\n\n**Step 1:** Create initial guess sites and spin systems\n\n"
      ]
    },
    {
      "cell_type": "code",
      "execution_count": null,
      "metadata": {
        "collapsed": false
      },
      "outputs": [],
      "source": [
        "O17_1 = Site(\n    isotope=\"17O\",\n    isotropic_chemical_shift=60.0,  # in ppm,\n    quadrupolar={\"Cq\": 4.2e6, \"eta\": 0.5},  # Cq in Hz\n)\n\nO17_2 = Site(\n    isotope=\"17O\",\n    isotropic_chemical_shift=40.0,  # in ppm,\n    quadrupolar={\"Cq\": 2.4e6, \"eta\": 0},  # Cq in Hz\n)\n\nspin_systems = [SpinSystem(sites=[s], abundance=50) for s in [O17_1, O17_2]]"
      ]
    },
    {
      "cell_type": "markdown",
      "metadata": {},
      "source": [
        "**Step 2:** Create the method object. Create an appropriate method object that closely\nresembles the technique used in acquiring the experimental data. The attribute values\nof this method must meet the experimental conditions, including the acquisition\nchannels, the magnetic flux density, rotor angle, rotor frequency, and the\nspectral/spectroscopic dimension.\n\nIn the following example, we set up a central transition selective Bloch decay\nspectrum method where the spectral/spectroscopic dimension information, i.e., count,\nspectral_width, and the reference_offset, is extracted from the CSDM dimension\nmetadata using the :func:`~mrsimulator.utils.get_spectral_dimensions` utility\nfunction. The remaining attribute values are set to the experimental conditions.\n\n"
      ]
    },
    {
      "cell_type": "code",
      "execution_count": null,
      "metadata": {
        "collapsed": false
      },
      "outputs": [],
      "source": [
        "# get the count, spectral_width, and reference_offset information from the experiment.\nspectral_dims = get_spectral_dimensions(experiment)\n\nmethod = BlochDecayCTSpectrum(\n    channels=[\"17O\"],\n    magnetic_flux_density=9.395,  # in T\n    rotor_frequency=14000,  # in Hz\n    spectral_dimensions=spectral_dims,\n    experiment=experiment,  # experimental dataset\n)\n\n# A method object queries every spin system for a list of transition pathways that are\n# relevant for the given method. Since the method and the number of spin systems remain\n# the same during the least-squares fit, a one-time query is sufficient. To avoid\n# querying for the transition pathways at every iteration in a least-squares fitting,\n# evaluate the transition pathways once and store it as follows\nfor sys in spin_systems:\n    sys.transition_pathways = method.get_transition_pathways(sys)"
      ]
    },
    {
      "cell_type": "markdown",
      "metadata": {},
      "source": [
        "**Step 3:** Create the Simulator object and add the method and spin system objects.\n\n"
      ]
    },
    {
      "cell_type": "code",
      "execution_count": null,
      "metadata": {
        "collapsed": false
      },
      "outputs": [],
      "source": [
        "sim = Simulator(spin_systems=spin_systems, methods=[method])\nsim.run()"
      ]
    },
    {
      "cell_type": "markdown",
      "metadata": {},
      "source": [
        "**Step 4:** Create a SignalProcessor class object and apply the post-simulation\nsignal processing operations.\n\n"
      ]
    },
    {
      "cell_type": "code",
      "execution_count": null,
      "metadata": {
        "collapsed": false
      },
      "outputs": [],
      "source": [
        "processor = sp.SignalProcessor(\n    operations=[\n        sp.IFFT(),\n        sp.apodization.Gaussian(FWHM=\"100 Hz\"),\n        sp.FFT(),\n        sp.Scale(factor=200.0),\n    ]\n)\nprocessed_data = processor.apply_operations(data=sim.methods[0].simulation).real"
      ]
    },
    {
      "cell_type": "markdown",
      "metadata": {},
      "source": [
        "**Step 5:** The plot of the data and the guess spectrum.\n\n"
      ]
    },
    {
      "cell_type": "code",
      "execution_count": null,
      "metadata": {
        "collapsed": false
      },
      "outputs": [],
      "source": [
        "plt.figure(figsize=(4.25, 3.0))\nax = plt.subplot(projection=\"csdm\")\nax.plot(experiment, \"k\", linewidth=1, label=\"Experiment\")\nax.plot(processed_data, \"r\", alpha=0.75, linewidth=1, label=\"guess spectrum\")\nax.set_xlim(100, -50)\nplt.legend()\nplt.grid()\nplt.tight_layout()\nplt.show()"
      ]
    },
    {
      "cell_type": "markdown",
      "metadata": {},
      "source": [
        "## Least-squares minimization with LMFIT\n\nOnce you have a fitting model, you need to create the list of parameters to use in the\nleast-squares fitting. For this, you may use the\n`Parameters <https://lmfit.github.io/lmfit-py/parameters.html>`_ class from *LMFIT*,\nas described in the previous example.\nHere, we make use of a utility function,\n:func:`~mrsimulator.utils.spectral_fitting.make_LMFIT_params`, that considerably\nsimplifies the LMFIT parameters generation process.\n\n**Step 6:** Create a list of parameters.\n\n"
      ]
    },
    {
      "cell_type": "code",
      "execution_count": null,
      "metadata": {
        "collapsed": false
      },
      "outputs": [],
      "source": [
        "params = sf.make_LMFIT_params(sim, processor)"
      ]
    },
    {
      "cell_type": "markdown",
      "metadata": {},
      "source": [
        "The `make_LMFIT_params` parses the instances of the ``Simulator`` and the\n``PostSimulator`` objects for parameters and returns an LMFIT `Parameters` object.\n\n**Customize the Parameters:**\nYou may customize the parameters list, ``params``, as desired. Here, we remove the\nabundance of the two spin systems and constrain it to the initial value of 50% each.\n\n"
      ]
    },
    {
      "cell_type": "code",
      "execution_count": null,
      "metadata": {
        "collapsed": false
      },
      "outputs": [],
      "source": [
        "params.pop(\"sys_0_abundance\")\nparams.pop(\"sys_1_abundance\")\nprint(params.pretty_print(columns=[\"value\", \"min\", \"max\", \"vary\", \"expr\"]))"
      ]
    },
    {
      "cell_type": "markdown",
      "metadata": {},
      "source": [
        "**Step 7:** Perform least-squares minimization. For the user's convenience, we also\nprovide a utility function,\n:func:`~mrsimulator.utils.spectral_fitting.LMFIT_min_function`, for evaluating the\ndifference vector between the simulation and experiment, based on\nthe parameters update. You may use this function directly as the argument of the\nLMFIT Minimizer class, as follows,\n\n"
      ]
    },
    {
      "cell_type": "code",
      "execution_count": null,
      "metadata": {
        "collapsed": false
      },
      "outputs": [],
      "source": [
        "minner = Minimizer(sf.LMFIT_min_function, params, fcn_args=(sim, processor, sigma))\nresult = minner.minimize()\nreport_fit(result)"
      ]
    },
    {
      "cell_type": "markdown",
      "metadata": {},
      "source": [
        "**Step 8:** The plot of the fit and the measurement data.\n\n"
      ]
    },
    {
      "cell_type": "code",
      "execution_count": null,
      "metadata": {
        "collapsed": false
      },
      "outputs": [],
      "source": [
        "# Best fit spectrum\nbest_fit = sf.bestfit(sim, processor)[0]\nresiduals = sf.residuals(sim, processor)[0]\n\nplt.figure(figsize=(4.25, 3.0))\nax = plt.subplot(projection=\"csdm\")\nax.plot(experiment, \"k\", linewidth=1, label=\"Experiment\")\nax.plot(best_fit, \"r\", alpha=0.75, linewidth=1, label=\"Best Fit\")\nax.plot(residuals, alpha=0.75, linewidth=1, label=\"Residuals\")\nax.set_xlabel(\"$^{17}$O frequency / ppm\")\nax.set_xlim(100, -50)\nplt.legend()\nplt.grid()\nplt.tight_layout()\nplt.show()"
      ]
    },
    {
      "cell_type": "markdown",
      "metadata": {},
      "source": [
        ".. [#f5] T. M. Clark, P. Florian, J. F. Stebbins, and P. J. Grandinetti,\n      An $^{17}\\text{O}$ NMR Investigation of Crystalline Sodium Metasilicate:\n      Implications for the Determination of Local Structure in Alkali Silicates,\n      J. Phys. Chem. B. 2001, **105**, 12257-12265.\n      `DOI: 10.1021/jp011289p  <https://doi.org/10.1021/jp011289p>`_\n\n"
      ]
    }
  ],
  "metadata": {
    "kernelspec": {
      "display_name": "Python 3",
      "language": "python",
      "name": "python3"
    },
    "language_info": {
      "codemirror_mode": {
        "name": "ipython",
        "version": 3
      },
      "file_extension": ".py",
      "mimetype": "text/x-python",
      "name": "python",
      "nbconvert_exporter": "python",
      "pygments_lexer": "ipython3",
      "version": "3.8.5"
    }
  },
  "nbformat": 4,
  "nbformat_minor": 0
}