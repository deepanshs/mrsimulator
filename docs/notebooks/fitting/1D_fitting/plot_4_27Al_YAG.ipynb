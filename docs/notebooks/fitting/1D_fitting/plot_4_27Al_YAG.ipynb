{
  "cells": [
    {
      "cell_type": "code",
      "execution_count": null,
      "metadata": {
        "collapsed": false
      },
      "outputs": [],
      "source": [
        "# This cell is added by sphinx-gallery\n\n%matplotlib inline\n\nimport mrsimulator\nprint(f'You are using mrsimulator v{mrsimulator.__version__}')"
      ]
    },
    {
      "cell_type": "markdown",
      "metadata": {},
      "source": [
        "\n# \u00b2\u2077Al MAS NMR of YAG (1st and 2nd order Quad)\n"
      ]
    },
    {
      "cell_type": "markdown",
      "metadata": {},
      "source": [
        "The following is a quadrupolar lineshape fitting example for the 27Al MAS NMR of\nYttrium aluminum garnet (YAG) crystal.\nThe following experimental dataset is a part of DMFIT [#f1]_ examples.\nWe thank Dr. Dominique Massiot for sharing the dataset.\n\n"
      ]
    },
    {
      "cell_type": "code",
      "execution_count": null,
      "metadata": {
        "collapsed": false
      },
      "outputs": [],
      "source": [
        "import csdmpy as cp\nimport matplotlib.pyplot as plt\nfrom lmfit import Minimizer, report_fit\n\nfrom mrsimulator import Simulator, Site, SpinSystem\nfrom mrsimulator.methods import BlochDecaySpectrum\nfrom mrsimulator import signal_processing as sp\nfrom mrsimulator.utils import spectral_fitting as sf\nfrom mrsimulator.utils import get_spectral_dimensions"
      ]
    },
    {
      "cell_type": "markdown",
      "metadata": {},
      "source": [
        "## Import the dataset\n\n"
      ]
    },
    {
      "cell_type": "code",
      "execution_count": null,
      "metadata": {
        "collapsed": false
      },
      "outputs": [],
      "source": [
        "host = \"https://nmr.cemhti.cnrs-orleans.fr/Dmfit/Help/csdm/\"\nfilename = \"27Al Quad MAS YAG 400MHz.csdf\"\nexperiment = cp.load(host + filename)\n\n# standard deviation of noise from the dataset\nsigma = 0.4895381\n\n# For spectral fitting, we only focus on the real part of the complex dataset\nexperiment = experiment.real\n\n# Convert the coordinates along each dimension from Hz to ppm.\n_ = [item.to(\"ppm\", \"nmr_frequency_ratio\") for item in experiment.dimensions]\n\n# plot of the dataset.\nplt.figure(figsize=(8, 4))\nax = plt.subplot(projection=\"csdm\")\nax.plot(experiment, color=\"black\", linewidth=0.5, label=\"Experiment\")\nax.set_xlim(1200, -1200)\nplt.grid()\nplt.tight_layout()\nplt.show()"
      ]
    },
    {
      "cell_type": "markdown",
      "metadata": {},
      "source": [
        "## Create a fitting model\n**Guess model**\n\nCreate a guess list of spin systems.\n\n"
      ]
    },
    {
      "cell_type": "code",
      "execution_count": null,
      "metadata": {
        "collapsed": false
      },
      "outputs": [],
      "source": [
        "Al_1 = Site(\n    isotope=\"27Al\",\n    isotropic_chemical_shift=76,  # in ppm\n    quadrupolar={\"Cq\": 6e6, \"eta\": 0},  # Cq in Hz\n)\n\nAl_2 = Site(\n    isotope=\"27Al\",\n    isotropic_chemical_shift=1,  # in ppm\n    quadrupolar={\"Cq\": 5e5, \"eta\": 0.3},  # Cq in Hz\n)\nspin_systems = [\n    SpinSystem(sites=[Al_1], name=\"AlO4\"),\n    SpinSystem(sites=[Al_2], name=\"AlO6\"),\n]"
      ]
    },
    {
      "cell_type": "markdown",
      "metadata": {},
      "source": [
        "**Method**\n\n"
      ]
    },
    {
      "cell_type": "code",
      "execution_count": null,
      "metadata": {
        "collapsed": false
      },
      "outputs": [],
      "source": [
        "# Get the spectral dimension parameters from the experiment.\nspectral_dims = get_spectral_dimensions(experiment)\n\nMAS = BlochDecaySpectrum(\n    channels=[\"27Al\"],\n    magnetic_flux_density=9.395,  # in T\n    rotor_frequency=15250,  # in Hz\n    spectral_dimensions=spectral_dims,\n    experiment=experiment,  # add the measurement to the method.\n)\n\n# Optimize the script by pre-setting the transition pathways for each spin system from\n# the method.\nfor sys in spin_systems:\n    sys.transition_pathways = MAS.get_transition_pathways(sys)"
      ]
    },
    {
      "cell_type": "markdown",
      "metadata": {},
      "source": [
        "**Guess Spectrum**\n\n"
      ]
    },
    {
      "cell_type": "code",
      "execution_count": null,
      "metadata": {
        "collapsed": false
      },
      "outputs": [],
      "source": [
        "# Simulation\n# ----------\nsim = Simulator(spin_systems=spin_systems, methods=[MAS])\nsim.config.decompose_spectrum = \"spin_system\"\nsim.run()\n\n# Post Simulation Processing\n# --------------------------\nprocessor = sp.SignalProcessor(\n    operations=[\n        sp.IFFT(),\n        sp.apodization.Gaussian(FWHM=\"300 Hz\"),\n        sp.FFT(),\n        sp.Scale(factor=50),\n    ]\n)\nprocessed_data = processor.apply_operations(data=sim.methods[0].simulation).real\n\n# Plot of the guess Spectrum\n# --------------------------\nplt.figure(figsize=(8, 4))\nax = plt.subplot(projection=\"csdm\")\nax.plot(experiment, color=\"black\", linewidth=0.5, label=\"Experiment\")\nax.plot(processed_data, linewidth=2, alpha=0.6)\nax.set_xlim(1200, -1200)\nplt.grid()\nplt.legend()\nplt.tight_layout()\nplt.show()"
      ]
    },
    {
      "cell_type": "markdown",
      "metadata": {},
      "source": [
        "## Least-squares minimization with LMFIT\nUse the :func:`~mrsimulator.utils.spectral_fitting.make_LMFIT_params` for a quick\nsetup of the fitting parameters.\n\n"
      ]
    },
    {
      "cell_type": "code",
      "execution_count": null,
      "metadata": {
        "collapsed": false
      },
      "outputs": [],
      "source": [
        "params = sf.make_LMFIT_params(sim, processor, include={\"rotor_frequency\"})\nprint(params.pretty_print(columns=[\"value\", \"min\", \"max\", \"vary\", \"expr\"]))"
      ]
    },
    {
      "cell_type": "markdown",
      "metadata": {},
      "source": [
        "**Solve the minimizer using LMFIT**\n\n"
      ]
    },
    {
      "cell_type": "code",
      "execution_count": null,
      "metadata": {
        "collapsed": false
      },
      "outputs": [],
      "source": [
        "minner = Minimizer(sf.LMFIT_min_function, params, fcn_args=(sim, processor, sigma))\nresult = minner.minimize()\nreport_fit(result)"
      ]
    },
    {
      "cell_type": "markdown",
      "metadata": {},
      "source": [
        "## The best fit solution\n\n"
      ]
    },
    {
      "cell_type": "code",
      "execution_count": null,
      "metadata": {
        "collapsed": false
      },
      "outputs": [],
      "source": [
        "best_fit = sf.bestfit(sim, processor)[0]\nresiduals = sf.residuals(sim, processor)[0]\n\n# Plot the spectrum\nplt.figure(figsize=(8, 4))\nax = plt.subplot(projection=\"csdm\")\nax.plot(experiment, color=\"black\", linewidth=0.5, label=\"Experiment\")\nax.plot(residuals, color=\"gray\", linewidth=0.5, label=\"Residual\")\nax.plot(best_fit, linewidth=2, alpha=0.6)\nax.set_xlim(1200, -1200)\nplt.grid()\nplt.legend()\nplt.tight_layout()\nplt.show()"
      ]
    },
    {
      "cell_type": "markdown",
      "metadata": {},
      "source": [
        ".. [#f1] D.Massiot, F.Fayon, M.Capron, I.King, S.Le Calv\u00e9, B.Alonso, J.O.Durand,\n      B.Bujoli, Z.Gan, G.Hoatson, 'Modelling one and two-dimensional solid-state NMR\n      spectra.', Magn. Reson. Chem. **40** 70-76 (2002)\n      `DOI: 10.1002/mrc.984 <https://doi.org/10.1002/mrc.984>`_\n\n"
      ]
    }
  ],
  "metadata": {
    "kernelspec": {
      "display_name": "Python 3",
      "language": "python",
      "name": "python3"
    },
    "language_info": {
      "codemirror_mode": {
        "name": "ipython",
        "version": 3
      },
      "file_extension": ".py",
      "mimetype": "text/x-python",
      "name": "python",
      "nbconvert_exporter": "python",
      "pygments_lexer": "ipython3",
      "version": "3.8.8"
    }
  },
  "nbformat": 4,
  "nbformat_minor": 0
}