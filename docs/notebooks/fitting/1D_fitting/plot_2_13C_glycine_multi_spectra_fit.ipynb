{
  "cells": [
    {
      "cell_type": "code",
      "execution_count": null,
      "metadata": {
        "collapsed": false
      },
      "outputs": [],
      "source": [
        "# This cell is added by sphinx-gallery\n!pip install mrsimulator --quiet\n\n\n%matplotlib inline\n\nimport mrsimulator\nprint(f'You are using mrsimulator v{mrsimulator.__version__}')"
      ]
    },
    {
      "cell_type": "markdown",
      "metadata": {},
      "source": [
        "\n# \u00b9\u00b3C MAS NMR of Glycine (CSA) multi-spectra fit\n"
      ]
    },
    {
      "cell_type": "markdown",
      "metadata": {},
      "source": [
        "The following is a multi-data least-squares fitting example of\n$^{13}\\text{C}$ MAS NMR spectrum of Glycine spinning at 5 kHz, 1.94 kHz, and\n960 Hz. Before trying multi-data fitting, we recommend that you first try individual\nfits. The experimental datasets are part of DMFIT [#f1]_ examples.\n\n"
      ]
    },
    {
      "cell_type": "code",
      "execution_count": null,
      "metadata": {
        "collapsed": false
      },
      "outputs": [],
      "source": [
        "import csdmpy as cp\nimport matplotlib.pyplot as plt\nfrom lmfit import Minimizer\n\nfrom mrsimulator import Simulator, SpinSystem, Site\nfrom mrsimulator.methods import BlochDecaySpectrum\nfrom mrsimulator import signal_processing as sp\nfrom mrsimulator.utils import spectral_fitting as sf\nfrom mrsimulator.utils import get_spectral_dimensions\nfrom mrsimulator.spin_system.tensors import SymmetricTensor"
      ]
    },
    {
      "cell_type": "markdown",
      "metadata": {},
      "source": [
        "## Import the datasets\nImport the datasets and assign the standard deviation of noise for each dataset. Here,\n``sigma1``, ``sigma2``, and ``sigma3`` are the noise standard deviation for the\ndataset acquired at  5 kHz, 1.94 kHz, and 960 Hz spinning speeds, respectively.\n\n"
      ]
    },
    {
      "cell_type": "code",
      "execution_count": null,
      "metadata": {
        "collapsed": false
      },
      "outputs": [],
      "source": [
        "host = \"https://nmr.cemhti.cnrs-orleans.fr/Dmfit/Help/csdm/\"\nfilename1 = \"13C MAS 5000Hz - Glycine.csdf\"\nfilename2 = \"13C MAS 1940Hz - Glycine.csdf\"\nfilename3 = \"13C MAS 960Hz - Glycine.csdf\"\n\nexperiment1 = cp.load(host + filename1).real\nexperiment2 = cp.load(host + filename2).real\nexperiment3 = cp.load(host + filename3).real\nexperiments = [experiment1, experiment2, experiment3]\n\n# standard deviation of noise from the dataset\nsigma1 = 1.97637\nsigma2 = 3.822249\nsigma3 = 3.982936\nsigmas = [sigma1, sigma2, sigma3]\n\n# Convert the coordinates along each dimension from Hz to ppm for each dataset\nfig, ax = plt.subplots(1, 3, figsize=(12, 3), subplot_kw={\"projection\": \"csdm\"})\nfor i, experiment in enumerate(experiments):\n    _ = [item.to(\"ppm\", \"nmr_frequency_ratio\") for item in experiment.dimensions]\n\n    # plot of the dataset.\n    ax[i].plot(experiment, color=\"black\", linewidth=0.5, label=\"Experiment\")\n    ax[i].set_xlim(280, -10)\n    ax[i].grid()\nplt.tight_layout()\nplt.show()"
      ]
    },
    {
      "cell_type": "markdown",
      "metadata": {},
      "source": [
        "## Create a fitting model\n**Spin System**: The objective of a multi-data fitting is to optimize the spin\nsystem parameters using multiple datasets. In this example, we create two single-site\nspin systems, which are then shared by three method objects.\n\n"
      ]
    },
    {
      "cell_type": "code",
      "execution_count": null,
      "metadata": {
        "collapsed": false
      },
      "outputs": [],
      "source": [
        "C1 = Site(\n    isotope=\"13C\",\n    isotropic_chemical_shift=176.0,  # in ppm\n    shielding_symmetric=SymmetricTensor(zeta=60, eta=0.6),  # zeta in Hz\n)\nC2 = Site(\n    isotope=\"13C\",\n    isotropic_chemical_shift=43.0,  # in ppm\n    shielding_symmetric=SymmetricTensor(zeta=30, eta=0.5),  # zeta in Hz\n)\n\nspin_systems = [SpinSystem(sites=[C1], name=\"C1\"), SpinSystem(sites=[C2], name=\"C2\")]"
      ]
    },
    {
      "cell_type": "markdown",
      "metadata": {},
      "source": [
        "**Method**: Create the three MAS method objects with respective MAS spinning speeds.\n\n"
      ]
    },
    {
      "cell_type": "code",
      "execution_count": null,
      "metadata": {
        "collapsed": false
      },
      "outputs": [],
      "source": [
        "# Get the spectral dimension parameters from the respective experiment and setup the\n# corresponding method.\n\n# Method for dataset 1\nspectral_dims1 = get_spectral_dimensions(experiment1)\nMAS1 = BlochDecaySpectrum(\n    channels=[\"13C\"],\n    magnetic_flux_density=7.05,  # in T\n    rotor_frequency=5000,  # in Hz\n    spectral_dimensions=spectral_dims1,\n    experiment=experiment1,  # add experimental dataset 1\n)\n\n# Method for dataset 2\nspectral_dims2 = get_spectral_dimensions(experiment2)\nMAS2 = BlochDecaySpectrum(\n    channels=[\"13C\"],\n    magnetic_flux_density=7.05,  # in T\n    rotor_frequency=1940,  # in Hz\n    spectral_dimensions=spectral_dims2,\n    experiment=experiment2,  # add experimental dataset 2\n)\n\n# Method for dataset 3\nspectral_dims3 = get_spectral_dimensions(experiment3)\nMAS3 = BlochDecaySpectrum(\n    channels=[\"13C\"],\n    magnetic_flux_density=7.05,  # in T\n    rotor_frequency=960,  # in Hz\n    spectral_dimensions=spectral_dims3,\n    experiment=experiment3,  # add experimental dataset 3\n)"
      ]
    },
    {
      "cell_type": "markdown",
      "metadata": {},
      "source": [
        "**Guess Model Spectrum**\n\n"
      ]
    },
    {
      "cell_type": "code",
      "execution_count": null,
      "metadata": {
        "collapsed": false
      },
      "outputs": [],
      "source": [
        "# Simulation\n# ----------\n# Add the spin systems and the three methods to the simulator object.\nsim = Simulator(spin_systems=spin_systems, methods=[MAS1, MAS2, MAS3])\nsim.config.decompose_spectrum = \"spin_system\"\nsim.run()\n\n# Post Simulation Processing\n# --------------------------\n# Add signal processing to simulation dataset from the three methods.\n\n# Processor for dataset 1\nprocessor1 = sp.SignalProcessor(\n    operations=[\n        sp.IFFT(),\n        sp.apodization.Exponential(FWHM=\"20 Hz\", dv_index=0),  # spin system 0\n        sp.apodization.Exponential(FWHM=\"200 Hz\", dv_index=1),  # spin system 1\n        sp.FFT(),\n        sp.Scale(factor=10),  # dataset is scaled independently using scale factor.\n    ]\n)\n\n# Processor for dataset 2\nprocessor2 = sp.SignalProcessor(\n    operations=[\n        sp.IFFT(),\n        sp.apodization.Exponential(FWHM=\"30 Hz\", dv_index=0),  # spin system 0\n        sp.apodization.Exponential(FWHM=\"300 Hz\", dv_index=1),  # spin system 1\n        sp.FFT(),\n        sp.Scale(factor=100),  # dataset is scaled independently using scale factor.\n    ]\n)\n\n# Processor for dataset 3\nprocessor3 = sp.SignalProcessor(\n    operations=[\n        sp.IFFT(),\n        sp.apodization.Exponential(FWHM=\"10 Hz\", dv_index=0),  # spin system 0\n        sp.apodization.Exponential(FWHM=\"150 Hz\", dv_index=1),  # spin system 1\n        sp.FFT(),\n        sp.Scale(factor=50),  # dataset is scaled independently using scale factor.\n    ]\n)\nprocessors = [processor1, processor2, processor3]\n\nprocessed_data = []\nfor i, proc in enumerate(processors):\n    processed_data.append(proc.apply_operations(data=sim.methods[i].simulation).real)\n\n\n# Plot of the guess Spectrum\n# --------------------------\n\nfig, ax = plt.subplots(1, 3, figsize=(12, 3), subplot_kw={\"projection\": \"csdm\"})\nfor i, exp_data in enumerate(experiments):\n    ax[i].plot(exp_data, color=\"black\", linewidth=0.5, label=\"Experiment\")\n    ax[i].plot(processed_data[i], linewidth=2, alpha=0.6)\n    ax[i].set_xlim(280, -10)\n    ax[i].grid()\n\nplt.legend()\nplt.tight_layout()\nplt.show()"
      ]
    },
    {
      "cell_type": "markdown",
      "metadata": {},
      "source": [
        "## Least-squares minimization with LMFIT\nUse the :func:`~mrsimulator.utils.spectral_fitting.make_LMFIT_params` for a quick\nsetup of the fitting parameters. Note, the first two arguments of this function is\nthe simulator object and a list of signal processing objects, ``processors``. The\nfitting parameters corresponding to the signal processor objects are generated using\n``SP_i_operation_j_FunctionName_FunctionArg``, where *i* is the *ith* signal\nprocessor within the list, *j* is the operation index of the *ith* processor, and\n*FunctionName* and *FunctionArg* are the operation function name and function\nargument, respectively.\n\n"
      ]
    },
    {
      "cell_type": "code",
      "execution_count": null,
      "metadata": {
        "collapsed": false
      },
      "outputs": [],
      "source": [
        "params = sf.make_LMFIT_params(sim, processors, include={\"rotor_frequency\"})\nprint(params.pretty_print(columns=[\"value\", \"min\", \"max\", \"vary\", \"expr\"]))"
      ]
    },
    {
      "cell_type": "markdown",
      "metadata": {},
      "source": [
        "**Solve the minimizer using LMFIT**\n\n"
      ]
    },
    {
      "cell_type": "code",
      "execution_count": null,
      "metadata": {
        "collapsed": false
      },
      "outputs": [],
      "source": [
        "minner = Minimizer(sf.LMFIT_min_function, params, fcn_args=(sim, processors, sigmas))\nresult = minner.minimize()\nresult"
      ]
    },
    {
      "cell_type": "markdown",
      "metadata": {},
      "source": [
        "## The best fit solution\n\n"
      ]
    },
    {
      "cell_type": "code",
      "execution_count": null,
      "metadata": {
        "collapsed": false
      },
      "outputs": [],
      "source": [
        "all_best_fit = sf.bestfit(sim, processors)  # a list of best fit simulations\nall_residuals = sf.residuals(sim, processors)  # a list of residuals\n\n# Plot the spectrum\nfig, ax = plt.subplots(1, 3, figsize=(12, 3), subplot_kw={\"projection\": \"csdm\"})\nfor i, proc in enumerate(processors):\n    ax[i].plot(experiments[i], color=\"black\", linewidth=0.5, label=\"Experiment\")\n    ax[i].plot(all_residuals[i], color=\"gray\", linewidth=0.5, label=\"Residual\")\n    ax[i].plot(all_best_fit[i], linewidth=2, alpha=0.6)\n    ax[i].set_xlim(280, -10)\n    ax[i].grid()\n\nplt.legend()\nplt.tight_layout()\nplt.show()"
      ]
    },
    {
      "cell_type": "markdown",
      "metadata": {},
      "source": [
        ".. [#f1] D.Massiot, F.Fayon, M.Capron, I.King, S.Le Calv\u00e9, B.Alonso, J.O.Durand,\n      B.Bujoli, Z.Gan, G.Hoatson, 'Modelling one and two-dimensional solid-state NMR\n      spectra.', Magn. Reson. Chem. **40** 70-76 (2002)\n      `DOI: 10.1002/mrc.984 <https://doi.org/10.1002/mrc.984>`_\n\n"
      ]
    }
  ],
  "metadata": {
    "kernelspec": {
      "display_name": "Python 3",
      "language": "python",
      "name": "python3"
    },
    "language_info": {
      "codemirror_mode": {
        "name": "ipython",
        "version": 3
      },
      "file_extension": ".py",
      "mimetype": "text/x-python",
      "name": "python",
      "nbconvert_exporter": "python",
      "pygments_lexer": "ipython3",
      "version": "3.9.2"
    }
  },
  "nbformat": 4,
  "nbformat_minor": 0
}