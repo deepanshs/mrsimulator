{
  "cells": [
    {
      "cell_type": "code",
      "execution_count": null,
      "metadata": {
        "collapsed": false
      },
      "outputs": [],
      "source": [
        "# This cell is added by sphinx-gallery\n\n%matplotlib inline\n\nimport mrsimulator\nprint(f'You are using mrsimulator v{mrsimulator.__version__}')"
      ]
    },
    {
      "cell_type": "markdown",
      "metadata": {},
      "source": [
        "\n# 1D PASS/MAT sideband order cross-section\n"
      ]
    },
    {
      "cell_type": "markdown",
      "metadata": {},
      "source": [
        "This example illustrates the use of mrsimulator and LMFIT modules in fitting the\nsideband intensity profile across the isotropic chemical shift cross-section from a\nPASS/MAT dataset.\n\n"
      ]
    },
    {
      "cell_type": "code",
      "execution_count": null,
      "metadata": {
        "collapsed": false
      },
      "outputs": [],
      "source": [
        "import csdmpy as cp\nimport matplotlib as mpl\nimport matplotlib.pyplot as plt\nimport mrsimulator.signal_processing as sp\nfrom mrsimulator import Simulator, SpinSystem, Site\nfrom mrsimulator.methods import BlochDecaySpectrum\nfrom mrsimulator.utils import get_spectral_dimensions\nfrom mrsimulator.utils.spectral_fitting import LMFIT_min_function, make_LMFIT_params\nfrom lmfit import Minimizer, report_fit\n\n\n# global plot configuration\nmpl.rcParams[\"figure.figsize\"] = [4.5, 3.0]\nmpl.rcParams[\"grid.linestyle\"] = \"--\""
      ]
    },
    {
      "cell_type": "markdown",
      "metadata": {},
      "source": [
        "## Import the dataset\n\n"
      ]
    },
    {
      "cell_type": "code",
      "execution_count": null,
      "metadata": {
        "collapsed": false
      },
      "outputs": [],
      "source": [
        "name = \"https://sandbox.zenodo.org/record/745068/files/LHistidine_cross_section.csdf\"\npass_cross_section = cp.load(name)\n\n# standard deviation of noise from the dataset\nsigma = 0.01285316\n\n# For the spectral fitting, we only focus on the real part of the complex dataset.\npass_cross_section = pass_cross_section.real\n\n# Convert the coordinates along each dimension from Hz to ppm.\n_ = [item.to(\"ppm\", \"nmr_frequency_ratio\") for item in pass_cross_section.dimensions]\n\n# Normalize the spectrum.\nmax_amp = pass_cross_section.max()\npass_cross_section /= max_amp\nsigma /= max_amp\n\n# The plot of the dataset.\nax = plt.subplot(projection=\"csdm\")\nax.plot(pass_cross_section, \"k\", alpha=0.5)\nax.invert_xaxis()\nplt.tight_layout()\nplt.show()"
      ]
    },
    {
      "cell_type": "markdown",
      "metadata": {},
      "source": [
        "## Create a fitting model\n**Guess model**\n\nCreate a guess list of spin systems. For fitting the sideband profile at an isotropic\nchemical shift cross-section from PASS/MAT datasets, set the isotropic_chemical_shift\nparameter of the site object as zero.\n\n"
      ]
    },
    {
      "cell_type": "code",
      "execution_count": null,
      "metadata": {
        "collapsed": false
      },
      "outputs": [],
      "source": [
        "site = Site(\n    isotope=\"13C\",\n    isotropic_chemical_shift=0,  #\n    shielding_symmetric={\"zeta\": -70, \"eta\": 0.8},\n)\nspin_systems = [SpinSystem(sites=[site])]"
      ]
    },
    {
      "cell_type": "markdown",
      "metadata": {},
      "source": [
        "**Method**\n\nFor the sideband-only cross-section, use the BlochDecaySpectrum method.\n\n"
      ]
    },
    {
      "cell_type": "code",
      "execution_count": null,
      "metadata": {
        "collapsed": false
      },
      "outputs": [],
      "source": [
        "# Get the dimension information from the experiment.\nspectral_dims = get_spectral_dimensions(pass_cross_section)\n\nmethod = BlochDecaySpectrum(\n    channels=[\"13C\"],\n    magnetic_flux_density=9.4,  # in T\n    rotor_frequency=1500,  # in Hz\n    spectral_dimensions=spectral_dims,\n    experiment=pass_cross_section,  # also add the measurement to the method.\n)\n\n# Optimize the script by pre-setting the transition pathways for each spin system from\n# the method.\nfor sys in spin_systems:\n    sys.transition_pathways = method.get_transition_pathways(sys)"
      ]
    },
    {
      "cell_type": "markdown",
      "metadata": {},
      "source": [
        "**Guess Spectrum**\n\n"
      ]
    },
    {
      "cell_type": "code",
      "execution_count": null,
      "metadata": {
        "collapsed": false
      },
      "outputs": [],
      "source": [
        "# Simulation\n# ----------\nsim = Simulator()\nsim.spin_systems = spin_systems  # add the spin systems\nsim.methods = [method]  # add the method\nsim.run()\n\n# Post Simulation Processing\n# --------------------------\nprocessor = sp.SignalProcessor(operations=[sp.Scale(factor=10)])\nprocessed_data = processor.apply_operations(data=sim.methods[0].simulation).real\n\n# Plot of the guess Spectrum\n# --------------------------\nax = plt.subplot(projection=\"csdm\")\nax.plot(pass_cross_section, color=\"k\", linewidth=1, label=\"Experiment\")\nax.plot(processed_data, color=\"r\", alpha=0.5, linewidth=2.5, label=\"guess spectrum\")\nplt.grid()\nax.invert_xaxis()\nplt.legend()\nplt.tight_layout()\nplt.show()"
      ]
    },
    {
      "cell_type": "markdown",
      "metadata": {},
      "source": [
        "## Least-squares minimization with LMFIT\nFirst, create the fitting parameters.\nUse the :func:`~mrsimulator.utils.spectral_fitting.make_LMFIT_params` for a quick\nsetup.\n\n"
      ]
    },
    {
      "cell_type": "code",
      "execution_count": null,
      "metadata": {
        "collapsed": false
      },
      "outputs": [],
      "source": [
        "params = make_LMFIT_params(sim, processor)\n\n# Fix the value of the isotropic chemical shift to zero for pure anisotropic sideband\n# amplitude simulation.\nparams[\"sys_0_site_0_isotropic_chemical_shift\"].vary = False\nprint(params.pretty_print(columns=[\"value\", \"min\", \"max\", \"vary\", \"expr\"]))"
      ]
    },
    {
      "cell_type": "markdown",
      "metadata": {},
      "source": [
        "Run the minimization using LMFIT\n\n"
      ]
    },
    {
      "cell_type": "code",
      "execution_count": null,
      "metadata": {
        "collapsed": false
      },
      "outputs": [],
      "source": [
        "minner = Minimizer(LMFIT_min_function, params, fcn_args=(sim, processor, sigma))\nresult = minner.minimize()\nreport_fit(result)"
      ]
    },
    {
      "cell_type": "markdown",
      "metadata": {},
      "source": [
        "## The best fit solution\n\n"
      ]
    },
    {
      "cell_type": "code",
      "execution_count": null,
      "metadata": {
        "collapsed": false
      },
      "outputs": [],
      "source": [
        "sim.run()\nprocessed_data = processor.apply_operations(data=sim.methods[0].simulation).real\n\n# Plot the spectrum\nax = plt.subplot(projection=\"csdm\")\nax.plot(pass_cross_section, color=\"k\", linewidth=1, label=\"Experiment\")\nax.plot(processed_data, color=\"r\", alpha=0.5, linewidth=2.5, label=\"Best Fit\")\nax.invert_xaxis()\nplt.grid()\nplt.legend()\nplt.tight_layout()\nplt.show()"
      ]
    }
  ],
  "metadata": {
    "kernelspec": {
      "display_name": "Python 3",
      "language": "python",
      "name": "python3"
    },
    "language_info": {
      "codemirror_mode": {
        "name": "ipython",
        "version": 3
      },
      "file_extension": ".py",
      "mimetype": "text/x-python",
      "name": "python",
      "nbconvert_exporter": "python",
      "pygments_lexer": "ipython3",
      "version": "3.8.5"
    }
  },
  "nbformat": 4,
  "nbformat_minor": 0
}