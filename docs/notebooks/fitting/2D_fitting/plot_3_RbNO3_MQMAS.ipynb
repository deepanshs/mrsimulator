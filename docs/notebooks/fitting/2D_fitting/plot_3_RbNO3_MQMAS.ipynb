{
  "cells": [
    {
      "cell_type": "code",
      "execution_count": null,
      "metadata": {
        "collapsed": false
      },
      "outputs": [],
      "source": [
        "# This cell is added by sphinx-gallery\n!pip install mrsimulator --quiet\n\n\n%matplotlib inline\n\nimport mrsimulator\nprint(f'You are using mrsimulator v{mrsimulator.__version__}')"
      ]
    },
    {
      "cell_type": "markdown",
      "metadata": {},
      "source": [
        "\n",
        "# ⁸⁷Rb 2D 3QMAS NMR of RbNO₃\n"
      ]
    },
    {
      "cell_type": "markdown",
      "metadata": {},
      "source": [
        "The following is a 3QMAS fitting example for $\\text{RbNO}_3$. The dataset was\n",
        "acquired and shared by Brendan Wilson.\n",
        "\n"
      ]
    },
    {
      "cell_type": "code",
      "execution_count": null,
      "metadata": {
        "collapsed": false
      },
      "outputs": [],
      "source": [
        "import numpy as np\nimport csdmpy as cp\nimport matplotlib.pyplot as plt\nfrom lmfit import Minimizer\n\nfrom mrsimulator import Simulator\nfrom mrsimulator.methods import ThreeQ_VAS\nfrom mrsimulator import signal_processing as sp\nfrom mrsimulator.utils import spectral_fitting as sf\nfrom mrsimulator.utils import get_spectral_dimensions\nfrom mrsimulator.utils.collection import single_site_system_generator"
      ]
    },
    {
      "cell_type": "markdown",
      "metadata": {},
      "source": [
        "## Import the dataset\n",
        "\n"
      ]
    },
    {
      "cell_type": "code",
      "execution_count": null,
      "metadata": {
        "collapsed": false
      },
      "outputs": [],
      "source": [
        "filename = \"https://sandbox.zenodo.org/record/814455/files/RbNO3_MQMAS.csdf\"\n",
        "experiment = cp.load(filename)\n",
        "\n",
        "# standard deviation of noise from the dataset\n",
        "sigma = 175.5476\n",
        "\n",
        "# For spectral fitting, we only focus on the real part of the complex dataset\n",
        "experiment = experiment.real\n",
        "\n",
        "# Convert the coordinates along each dimension from Hz to ppm.\n",
        "_ = [item.to(\"ppm\", \"nmr_frequency_ratio\") for item in experiment.dimensions]\n",
        "\n",
        "# plot of the dataset.\n",
        "max_amp = experiment.max()\n",
        "levels = (np.arange(24) + 1) * max_amp / 25  # contours are drawn at these levels.\n",
        "options = dict(levels=levels, alpha=0.75, linewidths=0.5)  # plot options\n",
        "\n",
        "plt.figure(figsize=(4.25, 3.0))\n",
        "ax = plt.subplot(projection=\"csdm\")\n",
        "ax.contour(experiment, colors=\"k\", **options)\n",
        "ax.set_xlim(-20, -50)\n",
        "ax.set_ylim(-45, -65)\n",
        "plt.grid()\n",
        "plt.tight_layout()\n",
        "plt.show()"
      ]
    },
    {
      "cell_type": "markdown",
      "metadata": {},
      "source": [
        "## Create a fitting model\n",
        "**Guess model**\n",
        "\n",
        "Create a guess list of spin systems.\n",
        "\n"
      ]
    },
    {
      "cell_type": "code",
      "execution_count": null,
      "metadata": {
        "collapsed": false
      },
      "outputs": [],
      "source": [
        "shifts = [-26.4, -28.5, -31.3]  # in ppm\n",
        "Cq = [1.7e6, 2.0e6, 1.7e6]  # in  Hz\n",
        "eta = [0.2, 1.0, 0.6]\n",
        "abundance = [33.33, 33.33, 33.33]  # in %\n",
        "\n",
        "spin_systems = single_site_system_generator(\n",
        "    isotope=\"87Rb\",\n",
        "    isotropic_chemical_shift=shifts,\n",
        "    quadrupolar={\"Cq\": Cq, \"eta\": eta},\n",
        "    abundance=abundance,\n",
        ")"
      ]
    },
    {
      "cell_type": "markdown",
      "metadata": {},
      "source": [
        "**Method**\n",
        "\n",
        "Create the 3QMAS method.\n",
        "\n"
      ]
    },
    {
      "cell_type": "code",
      "execution_count": null,
      "metadata": {
        "collapsed": false
      },
      "outputs": [],
      "source": [
        "# Get the spectral dimension parameters from the experiment.\n",
        "spectral_dims = get_spectral_dimensions(experiment)\n",
        "\n",
        "MQMAS = ThreeQ_VAS(\n",
        "    channels=[\"87Rb\"],\n",
        "    magnetic_flux_density=9.395,  # in T\n",
        "    spectral_dimensions=spectral_dims,\n",
        "    experiment=experiment,  # add the measurement to the method.\n",
        ")\n",
        "\n",
        "# Optimize the script by pre-setting the transition pathways for each spin system from\n",
        "# the das method.\n",
        "for sys in spin_systems:\n",
        "    sys.transition_pathways = MQMAS.get_transition_pathways(sys)"
      ]
    },
    {
      "cell_type": "markdown",
      "metadata": {},
      "source": [
        "**Guess Spectrum**\n",
        "\n"
      ]
    },
    {
      "cell_type": "code",
      "execution_count": null,
      "metadata": {
        "collapsed": false
      },
      "outputs": [],
      "source": [
        "# Simulation\n",
        "# ----------\n",
        "sim = Simulator(spin_systems=spin_systems, methods=[MQMAS])\n",
        "sim.config.number_of_sidebands = 1\n",
        "sim.run()\n",
        "\n",
        "# Post Simulation Processing\n",
        "# --------------------------\n",
        "processor = sp.SignalProcessor(\n",
        "    operations=[\n",
        "        # Gaussian convolution along both dimensions.\n",
        "        sp.IFFT(dim_index=(0, 1)),\n",
        "        sp.apodization.Gaussian(FWHM=\"0.08 kHz\", dim_index=0),\n",
        "        sp.apodization.Gaussian(FWHM=\"0.1 kHz\", dim_index=1),\n",
        "        sp.FFT(dim_index=(0, 1)),\n",
        "        sp.Scale(factor=1e7),\n",
        "    ]\n",
        ")\n",
        "processed_data = processor.apply_operations(data=sim.methods[0].simulation).real\n",
        "\n",
        "# Plot of the guess Spectrum\n",
        "# --------------------------\n",
        "plt.figure(figsize=(4.25, 3.0))\n",
        "ax = plt.subplot(projection=\"csdm\")\n",
        "ax.contour(experiment, colors=\"k\", **options)\n",
        "ax.contour(processed_data, colors=\"r\", linestyles=\"--\", **options)\n",
        "ax.set_xlim(-20, -50)\n",
        "ax.set_ylim(-45, -65)\n",
        "plt.grid()\n",
        "plt.tight_layout()\n",
        "plt.show()"
      ]
    },
    {
      "cell_type": "markdown",
      "metadata": {},
      "source": [
        "## Least-squares minimization with LMFIT\n",
        "Use the :func:`~mrsimulator.utils.spectral_fitting.make_LMFIT_params` for a quick\n",
        "setup of the fitting parameters.\n",
        "\n"
      ]
    },
    {
      "cell_type": "code",
      "execution_count": null,
      "metadata": {
        "collapsed": false
      },
      "outputs": [],
      "source": [
        "params = sf.make_LMFIT_params(sim, processor)\n",
        "print(params.pretty_print(columns=[\"value\", \"min\", \"max\", \"vary\", \"expr\"]))"
      ]
    },
    {
      "cell_type": "markdown",
      "metadata": {},
      "source": [
        "**Solve the minimizer using LMFIT**\n",
        "\n"
      ]
    },
    {
      "cell_type": "code",
      "execution_count": null,
      "metadata": {
        "collapsed": false
      },
      "outputs": [],
      "source": [
        "minner = Minimizer(sf.LMFIT_min_function, params, fcn_args=(sim, processor, sigma))\nresult = minner.minimize()\nresult"
      ]
    },
    {
      "cell_type": "markdown",
      "metadata": {},
      "source": [
        "## The best fit solution\n",
        "\n"
      ]
    },
    {
      "cell_type": "code",
      "execution_count": null,
      "metadata": {
        "collapsed": false
      },
      "outputs": [],
      "source": [
        "best_fit = sf.bestfit(sim, processor)[0]\n",
        "\n",
        "# Plot the spectrum\n",
        "plt.figure(figsize=(4.25, 3.0))\n",
        "ax = plt.subplot(projection=\"csdm\")\n",
        "ax.contour(experiment, colors=\"k\", **options)\n",
        "ax.contour(best_fit, colors=\"r\", linestyles=\"--\", **options)\n",
        "ax.set_xlim(-20, -50)\n",
        "ax.set_ylim(-45, -65)\n",
        "plt.grid()\n",
        "plt.tight_layout()\n",
        "plt.show()"
      ]
    },
    {
      "cell_type": "markdown",
      "metadata": {},
      "source": [
        "## Image plots with residuals\n",
        "\n"
      ]
    },
    {
      "cell_type": "code",
      "execution_count": null,
      "metadata": {
        "collapsed": false
      },
      "outputs": [],
      "source": [
        "residuals = sf.residuals(sim, processor)[0]\n",
        "\n",
        "fig, ax = plt.subplots(\n",
        "    1, 3, sharey=True, figsize=(10, 3.0), subplot_kw={\"projection\": \"csdm\"}\n",
        ")\n",
        "vmax, vmin = experiment.max(), experiment.min()\n",
        "for i, dat in enumerate([experiment, best_fit, residuals]):\n",
        "    ax[i].imshow(dat, aspect=\"auto\", cmap=\"gist_ncar_r\", vmax=vmax, vmin=vmin)\n",
        "    ax[i].set_xlim(-20, -50)\n",
        "ax[0].set_ylim(-45, -65)\n",
        "plt.tight_layout()\n",
        "plt.show()"
      ]
    }
  ],
  "metadata": {
    "kernelspec": {
      "display_name": "Python 3",
      "language": "python",
      "name": "python3"
    },
    "language_info": {
      "codemirror_mode": {
        "name": "ipython",
        "version": 3
      },
      "file_extension": ".py",
      "mimetype": "text/x-python",
      "name": "python",
      "nbconvert_exporter": "python",
      "pygments_lexer": "ipython3",
      "version": "3.8.10"
    }
  },
  "nbformat": 4,
  "nbformat_minor": 0
}