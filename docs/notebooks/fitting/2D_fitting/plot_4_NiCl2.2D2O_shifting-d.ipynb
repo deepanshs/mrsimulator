{
  "cells": [
    {
      "cell_type": "code",
      "execution_count": null,
      "metadata": {
        "collapsed": false
      },
      "outputs": [],
      "source": [
        "# This cell is added by sphinx-gallery\n!pip install mrsimulator --quiet\n\n\n%matplotlib inline\n\nimport mrsimulator\nprint(f'You are using mrsimulator v{mrsimulator.__version__}')"
      ]
    },
    {
      "cell_type": "markdown",
      "metadata": {},
      "source": [
        "\n# NiCl\u2082.2D\u2082O, \u00b2H (I=1) Shifting-d echo\n\n\u00b2H (I=1) 2D NMR CSA-Quad 1st order correlation spectrum.\n"
      ]
    },
    {
      "cell_type": "markdown",
      "metadata": {},
      "source": [
        "The following is an example of fitting static shifting-*d* echo NMR correlation\nspectrum of $\\text{NiCl}_2\\cdot 2\\text{D}_2\\text{O}$ crystalline solid. The\nspectrum used here is from Walder `et al.` [#f1]_.\n\n"
      ]
    },
    {
      "cell_type": "code",
      "execution_count": null,
      "metadata": {
        "collapsed": false
      },
      "outputs": [],
      "source": [
        "import numpy as np\nimport csdmpy as cp\nimport matplotlib.pyplot as plt\nfrom lmfit import Minimizer\n\nfrom mrsimulator import Simulator, Site, SpinSystem\nfrom mrsimulator.methods import Method2D\nfrom mrsimulator import signal_processing as sp\nfrom mrsimulator.utils import spectral_fitting as sf\nfrom mrsimulator.utils import get_spectral_dimensions"
      ]
    },
    {
      "cell_type": "markdown",
      "metadata": {},
      "source": [
        "## Import the dataset\n\n"
      ]
    },
    {
      "cell_type": "code",
      "execution_count": null,
      "metadata": {
        "collapsed": false
      },
      "outputs": [],
      "source": [
        "filename = \"https://sandbox.zenodo.org/record/830903/files/NiCl2.2D2O.csdf\"\nexperiment = cp.load(filename)\n\n# standard deviation of noise from the dataset\nsigma = 7.500\n\n# For spectral fitting, we only focus on the real part of the complex dataset\nexperiment = experiment.real\n\n# Convert the coordinates along each dimension from Hz to ppm.\n_ = [item.to(\"ppm\", \"nmr_frequency_ratio\") for item in experiment.dimensions]\n\n# plot of the dataset.\nmax_amp = experiment.max()\nlevels = (np.arange(29) + 1) * max_amp / 30  # contours are drawn at these levels.\noptions = dict(levels=levels, linewidths=0.5)  # plot options\n\nplt.figure(figsize=(4.25, 3.0))\nax = plt.subplot(projection=\"csdm\")\nax.contour(experiment, colors=\"k\", **options)\nax.set_xlim(1000, -1000)\nax.set_ylim(1500, -1500)\nplt.grid()\nplt.tight_layout()\nplt.show()"
      ]
    },
    {
      "cell_type": "markdown",
      "metadata": {},
      "source": [
        "## Create a fitting model\n**Guess model**\n\nCreate a guess list of spin systems.\n\n"
      ]
    },
    {
      "cell_type": "code",
      "execution_count": null,
      "metadata": {
        "collapsed": false
      },
      "outputs": [],
      "source": [
        "site = Site(\n    isotope=\"2H\",\n    isotropic_chemical_shift=-90,  # in ppm\n    shielding_symmetric={\n        \"zeta\": -610,  # in ppm\n        \"eta\": 0.15,\n        \"alpha\": 0.7,  # in rads\n        \"beta\": 2.0,  # in rads\n        \"gamma\": 3.0,  # in rads\n    },\n    quadrupolar={\"Cq\": 75.2e3, \"eta\": 0.9},  # Cq in Hz\n)\n\nspin_systems = [SpinSystem(sites=[site])]"
      ]
    },
    {
      "cell_type": "markdown",
      "metadata": {},
      "source": [
        "**Method**\n\nUse the generic 2D method, `Method2D`, to generate a shifting-d echo method. The\nreported shifting-d 2D sequence is a correlation of the shielding frequencies to the\nfirst-order quadrupolar frequencies. Here, we create a correlation method using the\n:attr:`~mrsimulator.method.event.freq_contrib` attribute, which acts as a switch\nfor including the frequency contributions from interaction during the event.\n\nIn the following method, we assign the ``[\"Quad1_2\"]`` and\n``[\"Shielding1_0\", \"Shielding1_2\"]`` as the value to the ``freq_contrib`` key. The\n*Quad1_2* is an enumeration for selecting the first-order second-rank quadrupolar\nfrequency contributions. *Shielding1_0* and *Shielding1_2* are enumerations for\nthe first-order shielding with zeroth and second-rank tensor contributions,\nrespectively. See `freq_contrib_api` for details.\n\n"
      ]
    },
    {
      "cell_type": "code",
      "execution_count": null,
      "metadata": {
        "collapsed": false
      },
      "outputs": [],
      "source": [
        "# Get the spectral dimension parameters from the experiment.\nspectral_dims = get_spectral_dimensions(experiment)\n\nshifting_d = Method2D(\n    channels=[\"2H\"],\n    magnetic_flux_density=9.395,  # in T\n    spectral_dimensions=[\n        {\n            **spectral_dims[0],\n            \"label\": \"Quadrupolar frequency\",\n            \"events\": [\n                {\n                    \"rotor_frequency\": 0,\n                    \"transition_query\": {\"P\": [-1]},\n                    \"freq_contrib\": [\"Quad1_2\"],\n                }\n            ],\n        },\n        {\n            **spectral_dims[1],\n            \"label\": \"Paramagnetic shift\",\n            \"events\": [\n                {\n                    \"rotor_frequency\": 0,\n                    \"transition_query\": {\"P\": [-1]},\n                    \"freq_contrib\": [\"Shielding1_0\", \"Shielding1_2\"],\n                }\n            ],\n        },\n    ],\n    experiment=experiment,  # also add the measurement to the method.\n)\n\n# Optimize the script by pre-setting the transition pathways for each spin system from\n# the method.\nfor sys in spin_systems:\n    sys.transition_pathways = shifting_d.get_transition_pathways(sys)"
      ]
    },
    {
      "cell_type": "markdown",
      "metadata": {},
      "source": [
        "**Guess Spectrum**\n\n"
      ]
    },
    {
      "cell_type": "code",
      "execution_count": null,
      "metadata": {
        "collapsed": false
      },
      "outputs": [],
      "source": [
        "# Simulation\n# ----------\nsim = Simulator(spin_systems=spin_systems, methods=[shifting_d])\nsim.config.integration_volume = \"hemisphere\"\nsim.run()\n\n# Post Simulation Processing\n# --------------------------\nprocessor = sp.SignalProcessor(\n    operations=[\n        # Gaussian convolution along both dimensions.\n        sp.IFFT(dim_index=(0, 1)),\n        sp.apodization.Gaussian(FWHM=\"5 kHz\", dim_index=0),  # along dimension 0\n        sp.apodization.Gaussian(FWHM=\"5 kHz\", dim_index=1),  # along dimension 1\n        sp.FFT(dim_index=(0, 1)),\n        sp.Scale(factor=5e8),\n    ]\n)\nprocessed_data = processor.apply_operations(data=sim.methods[0].simulation).real\n\n# Plot of the guess Spectrum\n# --------------------------\nplt.figure(figsize=(4.25, 3.0))\nax = plt.subplot(projection=\"csdm\")\nax.contour(experiment, colors=\"k\", **options)\nax.contour(processed_data, colors=\"r\", linestyles=\"--\", **options)\nax.set_xlim(1000, -1000)\nax.set_ylim(1500, -1500)\nplt.grid()\nplt.tight_layout()\nplt.show()"
      ]
    },
    {
      "cell_type": "markdown",
      "metadata": {},
      "source": [
        "## Least-squares minimization with LMFIT\nUse the :func:`~mrsimulator.utils.spectral_fitting.make_LMFIT_params` for a quick\nsetup of the fitting parameters.\n\n"
      ]
    },
    {
      "cell_type": "code",
      "execution_count": null,
      "metadata": {
        "collapsed": false
      },
      "outputs": [],
      "source": [
        "params = sf.make_LMFIT_params(sim, processor)\nprint(params.pretty_print(columns=[\"value\", \"min\", \"max\", \"vary\", \"expr\"]))"
      ]
    },
    {
      "cell_type": "markdown",
      "metadata": {},
      "source": [
        "**Solve the minimizer using LMFIT**\n\n"
      ]
    },
    {
      "cell_type": "code",
      "execution_count": null,
      "metadata": {
        "collapsed": false
      },
      "outputs": [],
      "source": [
        "minner = Minimizer(sf.LMFIT_min_function, params, fcn_args=(sim, processor, sigma))\nresult = minner.minimize()\nresult"
      ]
    },
    {
      "cell_type": "markdown",
      "metadata": {},
      "source": [
        "## The best fit solution\n\n"
      ]
    },
    {
      "cell_type": "code",
      "execution_count": null,
      "metadata": {
        "collapsed": false
      },
      "outputs": [],
      "source": [
        "best_fit = sf.bestfit(sim, processor)[0]\n\n# Plot the spectrum\nplt.figure(figsize=(4.25, 3.0))\nax = plt.subplot(projection=\"csdm\")\nax.contour(experiment, colors=\"k\", **options)\nax.contour(best_fit, colors=\"r\", linestyles=\"--\", **options)\nax.set_xlim(1000, -1000)\nax.set_ylim(1500, -1500)\nplt.grid()\nplt.tight_layout()\nplt.show()"
      ]
    },
    {
      "cell_type": "markdown",
      "metadata": {},
      "source": [
        "## Image plots with residuals\n\n"
      ]
    },
    {
      "cell_type": "code",
      "execution_count": null,
      "metadata": {
        "collapsed": false
      },
      "outputs": [],
      "source": [
        "residuals = sf.residuals(sim, processor)[0]\n\nfig, ax = plt.subplots(\n    1, 3, sharey=True, figsize=(10, 3.0), subplot_kw={\"projection\": \"csdm\"}\n)\nvmax, vmin = experiment.max(), experiment.min()\nfor i, dat in enumerate([experiment, best_fit, residuals]):\n    ax[i].imshow(dat, aspect=\"auto\", cmap=\"gist_ncar_r\", vmax=vmax, vmin=vmin)\n    ax[i].set_xlim(1000, -1000)\nax[0].set_ylim(1500, -1500)\nplt.tight_layout()\nplt.show()"
      ]
    },
    {
      "cell_type": "markdown",
      "metadata": {},
      "source": [
        ".. [#f1] Walder B.J, Patterson A.M., Baltisberger J.H, and Grandinetti P.J\n      Hydrogen motional disorder in crystalline iron group chloride dihydrates\n      spectroscopy, J. Chem. Phys. (2018)  **149**, 084503.\n      `DOI: 10.1063/1.5037151 <https://doi.org/10.1063/1.5037151>`_\n\n"
      ]
    }
  ],
  "metadata": {
    "kernelspec": {
      "display_name": "Python 3",
      "language": "python",
      "name": "python3"
    },
    "language_info": {
      "codemirror_mode": {
        "name": "ipython",
        "version": 3
      },
      "file_extension": ".py",
      "mimetype": "text/x-python",
      "name": "python",
      "nbconvert_exporter": "python",
      "pygments_lexer": "ipython3",
      "version": "3.8.11"
    }
  },
  "nbformat": 4,
  "nbformat_minor": 0
}