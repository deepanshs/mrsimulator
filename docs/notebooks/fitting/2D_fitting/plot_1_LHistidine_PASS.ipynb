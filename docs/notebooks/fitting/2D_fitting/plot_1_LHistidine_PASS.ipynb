{
  "cells": [
    {
      "cell_type": "code",
      "execution_count": null,
      "metadata": {
        "collapsed": false
      },
      "outputs": [],
      "source": [
        "# This cell is added by sphinx-gallery\n\n%matplotlib inline\n\nimport mrsimulator\nprint(f'You are using mrsimulator v{mrsimulator.__version__}')"
      ]
    },
    {
      "cell_type": "markdown",
      "metadata": {},
      "source": [
        "\n# 13C 2D MAT NMR of L-Histidine\n"
      ]
    },
    {
      "cell_type": "markdown",
      "metadata": {},
      "source": [
        "The following is an illustration for fitting 2D MAT/PASS datasets. The example dataset\nis a $^{13}\\text{C}$ 2D MAT spectrum of L-Histidine from Walder `et. al.` [#f1]_\n\n"
      ]
    },
    {
      "cell_type": "code",
      "execution_count": null,
      "metadata": {
        "collapsed": false
      },
      "outputs": [],
      "source": [
        "import numpy as np\nimport csdmpy as cp\nimport matplotlib as mpl\nimport matplotlib.pyplot as plt\nimport mrsimulator.signal_processing as sp\nimport mrsimulator.signal_processing.apodization as apo\nfrom mrsimulator import Simulator\nfrom mrsimulator.methods import SSB2D\nfrom mrsimulator.utils import get_spectral_dimensions\nfrom mrsimulator.utils.collection import single_site_system_generator\nfrom mrsimulator.utils.spectral_fitting import LMFIT_min_function, make_LMFIT_params\nfrom lmfit import Minimizer, report_fit\n\n# global plot configuration\nmpl.rcParams[\"figure.figsize\"] = [4.5, 3.0]\nmpl.rcParams[\"lines.linewidth\"] = 0.5\nmpl.rcParams[\"grid.linestyle\"] = \"--\""
      ]
    },
    {
      "cell_type": "markdown",
      "metadata": {},
      "source": [
        "## Import the dataset\n\n"
      ]
    },
    {
      "cell_type": "code",
      "execution_count": null,
      "metadata": {
        "collapsed": false
      },
      "outputs": [],
      "source": [
        "filename = \"https://sandbox.zenodo.org/record/687656/files/1H13C_CPPASS_LHistidine.csdf\"\nmat_data = cp.load(filename)\n\n# standard deviation of noise from the dataset\nsigma = 0.002204629\n\n# For the spectral fitting, we only focus on the real part of the complex dataset.\nmat_data = mat_data.real\n\n# Convert the coordinates along each dimension from Hz to ppm.\n_ = [item.to(\"ppm\", \"nmr_frequency_ratio\") for item in mat_data.dimensions]\n\n# Normalize the spectrum\nmax_amp = mat_data.max()\nmat_data /= max_amp\nsigma /= max_amp"
      ]
    },
    {
      "cell_type": "markdown",
      "metadata": {},
      "source": [
        "When using the SSB2D method, ensure the horizontal dimension of the dataset is the\nisotropic dimension. Here, we apply an appropriate transpose operation to the dataset.\n\n"
      ]
    },
    {
      "cell_type": "code",
      "execution_count": null,
      "metadata": {
        "collapsed": false
      },
      "outputs": [],
      "source": [
        "mat_data = mat_data.T  # transpose\n\n# plot of the dataset.\nlevels = (np.arange(10) + 0.3) / 15  # contours are drawn at these levels.\nax = plt.subplot(projection=\"csdm\")\nax.contour(mat_data, colors=\"k\", levels=levels, alpha=0.75)\nax.set_xlim(200, 10)\nax.invert_yaxis()\nplt.tight_layout()\nplt.show()"
      ]
    },
    {
      "cell_type": "markdown",
      "metadata": {},
      "source": [
        "## Create a fitting model\n**Guess model**\n\nCreate a guess list of spin systems.\n\n"
      ]
    },
    {
      "cell_type": "code",
      "execution_count": null,
      "metadata": {
        "collapsed": false
      },
      "outputs": [],
      "source": [
        "shifts = [120, 128, 135, 175, 55, 25]  # in ppm\nzeta = [-70, -65, -60, -60, -10, -10]  # in ppm\neta = [0.8, 0.4, 0.9, 0.3, 0.0, 0.0]\n\nspin_systems = single_site_system_generator(\n    isotopes=\"13C\",\n    isotropic_chemical_shifts=shifts,\n    shielding_symmetric={\"zeta\": zeta, \"eta\": eta},\n    abundance=100 / 6,\n)"
      ]
    },
    {
      "cell_type": "markdown",
      "metadata": {},
      "source": [
        "**Method**\n\n"
      ]
    },
    {
      "cell_type": "code",
      "execution_count": null,
      "metadata": {
        "collapsed": false
      },
      "outputs": [],
      "source": [
        "# Create the DAS method.\n# Get the spectral dimension paramters from the experiment.\nspectral_dims = get_spectral_dimensions(mat_data)\n\nssb = SSB2D(\n    channels=[\"13C\"],\n    magnetic_flux_density=9.4,  # in T\n    rotor_frequency=1500,  # in Hz\n    spectral_dimensions=spectral_dims,\n    experiment=mat_data,  # add the measurement to the method.\n)\n\n# Optimize the script by pre-setting the transition pathways for each spin system from\n# the method.\nfor sys in spin_systems:\n    sys.transition_pathways = ssb.get_transition_pathways(sys)"
      ]
    },
    {
      "cell_type": "markdown",
      "metadata": {},
      "source": [
        "**Guess Spectrum**\n\n"
      ]
    },
    {
      "cell_type": "code",
      "execution_count": null,
      "metadata": {
        "collapsed": false
      },
      "outputs": [],
      "source": [
        "# Simulation\n# ----------\nsim = Simulator()\nsim.spin_systems = spin_systems  # add the spin systems\nsim.methods = [ssb]  # add the method\nsim.run()\n\n# Post Simulation Processing\n# --------------------------\nprocessor = sp.SignalProcessor(\n    operations=[\n        # Lorentzian convolution along the isotropic dimensions.\n        sp.FFT(axis=0),\n        apo.Exponential(FWHM=\"50 Hz\"),\n        sp.IFFT(axis=0),\n        sp.Scale(factor=0.6),\n    ]\n)\nprocessed_data = processor.apply_operations(data=sim.methods[0].simulation).real\n\n# Plot of the guess Spectrum\n# --------------------------\nax = plt.subplot(projection=\"csdm\")\nax.contour(mat_data, colors=\"k\", levels=levels, alpha=0.75)\nax.contour(processed_data, colors=\"r\", linestyles=\"--\", levels=levels, alpha=0.75)\nax.set_xlim(200, 10)\nplt.grid()\nplt.tight_layout()\nplt.show()"
      ]
    },
    {
      "cell_type": "markdown",
      "metadata": {},
      "source": [
        "## Least-squares minimization with LMFIT\nUse the :func:`~mrsimulator.utils.spectral_fitting.make_LMFIT_params` for a quick\nsetup of the fitting parameters.\n\n"
      ]
    },
    {
      "cell_type": "code",
      "execution_count": null,
      "metadata": {
        "collapsed": false
      },
      "outputs": [],
      "source": [
        "params = make_LMFIT_params(sim, processor)\nprint(params.pretty_print(columns=[\"value\", \"min\", \"max\", \"vary\", \"expr\"]))"
      ]
    },
    {
      "cell_type": "markdown",
      "metadata": {},
      "source": [
        "**Solve the minimizer using LMFIT**\n\n"
      ]
    },
    {
      "cell_type": "code",
      "execution_count": null,
      "metadata": {
        "collapsed": false
      },
      "outputs": [],
      "source": [
        "minner = Minimizer(LMFIT_min_function, params, fcn_args=(sim, processor, sigma))\nresult = minner.minimize()\nreport_fit(result)"
      ]
    },
    {
      "cell_type": "markdown",
      "metadata": {},
      "source": [
        "## The best fit solution\n\n"
      ]
    },
    {
      "cell_type": "code",
      "execution_count": null,
      "metadata": {
        "collapsed": false
      },
      "outputs": [],
      "source": [
        "sim.run()\nprocessed_data = processor.apply_operations(data=sim.methods[0].simulation).real\n\n# Plot of the best fit solution\nax = plt.subplot(projection=\"csdm\")\nax.contour(mat_data, colors=\"k\", levels=levels, alpha=0.75)\nax.contour(processed_data, colors=\"r\", linestyles=\"--\", levels=levels, alpha=0.75)\nax.set_xlim(200, 10)\nplt.grid()\nplt.tight_layout()\nplt.show()"
      ]
    },
    {
      "cell_type": "markdown",
      "metadata": {},
      "source": [
        ".. [#f1] B. J. Walder, K. K. Dey, D. C. Kaseman, J. H. Baltisberger, and P. J.\n      Grandinetti, Sideband separation experiments in NMR with phase incremented\n      echo train acquisition, J. Phys. Chem. 2013, **138**, 174203-1-12.\n      `DOI: 10.1063/1.4803142 <https://doi.org/10.1063/1.4803142>`_\n\n"
      ]
    }
  ],
  "metadata": {
    "kernelspec": {
      "display_name": "Python 3",
      "language": "python",
      "name": "python3"
    },
    "language_info": {
      "codemirror_mode": {
        "name": "ipython",
        "version": 3
      },
      "file_extension": ".py",
      "mimetype": "text/x-python",
      "name": "python",
      "nbconvert_exporter": "python",
      "pygments_lexer": "ipython3",
      "version": "3.8.5"
    }
  },
  "nbformat": 4,
  "nbformat_minor": 0
}