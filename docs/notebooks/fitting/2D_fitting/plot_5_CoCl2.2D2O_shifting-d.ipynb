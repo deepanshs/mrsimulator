{
  "cells": [
    {
      "cell_type": "code",
      "execution_count": null,
      "metadata": {
        "collapsed": false
      },
      "outputs": [],
      "source": [
        "# This cell is added by sphinx-gallery\n\n%matplotlib inline\n\nimport mrsimulator\nprint(f'You are using mrsimulator v{mrsimulator.__version__}')"
      ]
    },
    {
      "cell_type": "markdown",
      "metadata": {},
      "source": [
        "\n# CoCl\u2082.2D\u2082O, \u00b2H (I=1) Shifting-d echo\n\n\u00b2H (I=1) 2D NMR CSA-Quad 1st order correlation spectrum.\n"
      ]
    },
    {
      "cell_type": "markdown",
      "metadata": {},
      "source": [
        "The following is an example of fitting static shifting-*d* echo NMR correlation\nspectrum of $\\text{NiCl}_2\\cdot 2\\text{D}_2\\text{O}$ crystalline solid. The\nspectrum used here is from Walder `et al.` [#f1]_.\n\n"
      ]
    },
    {
      "cell_type": "code",
      "execution_count": null,
      "metadata": {
        "collapsed": false
      },
      "outputs": [],
      "source": [
        "import numpy as np\nimport csdmpy as cp\nimport matplotlib.pyplot as plt\nfrom lmfit import Minimizer, report_fit\n\nfrom mrsimulator import Simulator, Site, SpinSystem\nfrom mrsimulator.methods import Method2D\nfrom mrsimulator import signal_processing as sp\nfrom mrsimulator.utils import spectral_fitting as sf\nfrom mrsimulator.utils import get_spectral_dimensions"
      ]
    },
    {
      "cell_type": "markdown",
      "metadata": {},
      "source": [
        "## Import the dataset\n\n"
      ]
    },
    {
      "cell_type": "code",
      "execution_count": null,
      "metadata": {
        "collapsed": false
      },
      "outputs": [],
      "source": [
        "filename = \"https://sandbox.zenodo.org/record/830903/files/CoCl2.2D2O.csdf\"\nexperiment = cp.load(filename)\n\n# standard deviation of noise from the dataset\nsigma = 11.11578\n\n# For spectral fitting, we only focus on the real part of the complex dataset\nexperiment = experiment.real\n\n# Convert the coordinates along each dimension from Hz to ppm.\n_ = [item.to(\"ppm\", \"nmr_frequency_ratio\") for item in experiment.dimensions]\n\n# plot of the dataset.\nmax_amp = experiment.max()\nlevels = (np.arange(24) + 1) * max_amp / 25  # contours are drawn at these levels.\noptions = dict(levels=levels, linewidths=0.5)  # plot options\n\nplt.figure(figsize=(4.25, 3.0))\nax = plt.subplot(projection=\"csdm\")\nax.contour(experiment, colors=\"k\", **options)\nax.set_xlim(2500, -1500)\nax.set_ylim(2000, -2200)\nplt.grid()\nplt.tight_layout()\nplt.show()"
      ]
    },
    {
      "cell_type": "markdown",
      "metadata": {},
      "source": [
        "## Create a fitting model\n**Guess model**\n\nCreate a guess list of spin systems.\n\n"
      ]
    },
    {
      "cell_type": "code",
      "execution_count": null,
      "metadata": {
        "collapsed": false
      },
      "outputs": [],
      "source": [
        "site = Site(\n    isotope=\"2H\",\n    isotropic_chemical_shift=200,  # in ppm\n    shielding_symmetric={\n        \"zeta\": -1300,  # in ppm\n        \"eta\": 0.2,\n        \"alpha\": np.pi,  # in rads\n        \"beta\": np.pi / 2,  # in rads\n        \"gamma\": np.pi / 2,  # in rads\n    },\n    quadrupolar={\"Cq\": 110e3, \"eta\": 0.83},  # Cq in Hz\n)\n\nspin_systems = [SpinSystem(sites=[site])]"
      ]
    },
    {
      "cell_type": "markdown",
      "metadata": {},
      "source": [
        "**Method**\n\nUse the generic 2D method, `Method2D`, to generate a shifting-d echo method.\n\n"
      ]
    },
    {
      "cell_type": "code",
      "execution_count": null,
      "metadata": {
        "collapsed": false
      },
      "outputs": [],
      "source": [
        "# Get the spectral dimension parameters from the experiment.\nspectral_dims = get_spectral_dimensions(experiment)\n\nshifting_d = Method2D(\n    channels=[\"2H\"],\n    magnetic_flux_density=9.395,  # in T\n    spectral_dimensions=[\n        {\n            **spectral_dims[0],\n            \"label\": \"Quadrupolar frequency\",\n            \"events\": [\n                {\n                    \"rotor_frequency\": 0,\n                    \"transition_query\": {\"P\": [-1]},\n                    \"freq_contrib\": [\"Quad1_2\"],\n                }\n            ],\n        },\n        {\n            **spectral_dims[1],\n            \"label\": \"Paramagnetic shift\",\n            \"events\": [\n                {\n                    \"rotor_frequency\": 0,\n                    \"transition_query\": {\"P\": [-1]},\n                    \"freq_contrib\": [\"Shielding1_0\", \"Shielding1_2\"],\n                }\n            ],\n        },\n    ],\n    experiment=experiment,  # also add the measurement to the method.\n)\n\n# Optimize the script by pre-setting the transition pathways for each spin system from\n# the method.\nfor sys in spin_systems:\n    sys.transition_pathways = shifting_d.get_transition_pathways(sys)"
      ]
    },
    {
      "cell_type": "markdown",
      "metadata": {},
      "source": [
        "**Guess Spectrum**\n\n"
      ]
    },
    {
      "cell_type": "code",
      "execution_count": null,
      "metadata": {
        "collapsed": false
      },
      "outputs": [],
      "source": [
        "# Simulation\n# ----------\nsim = Simulator(spin_systems=spin_systems, methods=[shifting_d])\nsim.config.integration_volume = \"hemisphere\"\nsim.run()\n\n# Post Simulation Processing\n# --------------------------\nprocessor = sp.SignalProcessor(\n    operations=[\n        # Gaussian convolution along both dimensions.\n        sp.IFFT(dim_index=0),\n        sp.apodization.Gaussian(FWHM=\"10 kHz\", dim_index=0),  # along dimension 0\n        sp.FFT(dim_index=0),\n        sp.Scale(factor=5e8),\n    ]\n)\nprocessed_data = processor.apply_operations(data=sim.methods[0].simulation).real\n\n# Plot of the guess Spectrum\n# --------------------------\nplt.figure(figsize=(4.25, 3.0))\nax = plt.subplot(projection=\"csdm\")\nax.contour(experiment, colors=\"k\", **options)\nax.contour(processed_data, colors=\"r\", linestyles=\"--\", **options)\nax.set_xlim(2500, -1500)\nax.set_ylim(2000, -2200)\nplt.grid()\nplt.tight_layout()\nplt.show()"
      ]
    },
    {
      "cell_type": "markdown",
      "metadata": {},
      "source": [
        "## Least-squares minimization with LMFIT\nUse the :func:`~mrsimulator.utils.spectral_fitting.make_LMFIT_params` for a quick\nsetup of the fitting parameters.\n\n"
      ]
    },
    {
      "cell_type": "code",
      "execution_count": null,
      "metadata": {
        "collapsed": false
      },
      "outputs": [],
      "source": [
        "params = sf.make_LMFIT_params(sim, processor)\nparams[\"sys_0_site_0_shielding_symmetric_alpha\"].vary = False\nparams[\"sys_0_site_0_shielding_symmetric_beta\"].vary = False\nparams[\"sys_0_site_0_shielding_symmetric_gamma\"].vary = False\nprint(params.pretty_print(columns=[\"value\", \"min\", \"max\", \"vary\", \"expr\"]))"
      ]
    },
    {
      "cell_type": "markdown",
      "metadata": {},
      "source": [
        "**Solve the minimizer using LMFIT**\n\n"
      ]
    },
    {
      "cell_type": "code",
      "execution_count": null,
      "metadata": {
        "collapsed": false
      },
      "outputs": [],
      "source": [
        "minner = Minimizer(sf.LMFIT_min_function, params, fcn_args=(sim, processor, sigma))\nresult = minner.minimize()\nreport_fit(result)"
      ]
    },
    {
      "cell_type": "markdown",
      "metadata": {},
      "source": [
        "## The best fit solution\n\n"
      ]
    },
    {
      "cell_type": "code",
      "execution_count": null,
      "metadata": {
        "collapsed": false
      },
      "outputs": [],
      "source": [
        "best_fit = sf.bestfit(sim, processor)[0]\n\n# Plot the spectrum\nplt.figure(figsize=(4.25, 3.0))\nax = plt.subplot(projection=\"csdm\")\nax.contour(experiment, colors=\"k\", **options)\nax.contour(best_fit, colors=\"r\", linestyles=\"--\", **options)\nax.set_xlim(2500, -1500)\nax.set_ylim(2000, -2200)\nplt.grid()\nplt.tight_layout()\nplt.show()"
      ]
    },
    {
      "cell_type": "markdown",
      "metadata": {},
      "source": [
        ".. [#f1] Walder B.J, Patterson A.M., Baltisberger J.H, and Grandinetti P.J\n      Hydrogen motional disorder in crystalline iron group chloride dihydrates\n      spectroscopy, J. Chem. Phys. (2018)  **149**, 084503.\n      `DOI: 10.1063/1.5037151 <https://doi.org/10.1063/1.5037151>`_\n\n"
      ]
    }
  ],
  "metadata": {
    "kernelspec": {
      "display_name": "Python 3",
      "language": "python",
      "name": "python3"
    },
    "language_info": {
      "codemirror_mode": {
        "name": "ipython",
        "version": 3
      },
      "file_extension": ".py",
      "mimetype": "text/x-python",
      "name": "python",
      "nbconvert_exporter": "python",
      "pygments_lexer": "ipython3",
      "version": "3.8.8"
    }
  },
  "nbformat": 4,
  "nbformat_minor": 0
}