{
  "cells": [
    {
      "cell_type": "code",
      "execution_count": null,
      "metadata": {
        "collapsed": false
      },
      "outputs": [],
      "source": [
        "# This cell is added by sphinx-gallery\n!pip install mrsimulator --quiet\n\n\n%matplotlib inline\n\nimport mrsimulator\nprint(f'You are using mrsimulator v{mrsimulator.__version__}')"
      ]
    },
    {
      "cell_type": "markdown",
      "metadata": {},
      "source": [
        "\n# \u00b9\u2077O 2D DAS NMR of Coesite\n"
      ]
    },
    {
      "cell_type": "markdown",
      "metadata": {},
      "source": [
        "Coesite is a high-pressure (2-3 GPa) and high-temperature (700\u00b0C) polymorph of silicon\ndioxide $\\text{SiO}_2$. Coesite has five crystallographic $^{17}\\text{O}$\nsites. The experimental dataset used in this example is published in\nGrandinetti `et al.` [#f1]_\n\n"
      ]
    },
    {
      "cell_type": "code",
      "execution_count": null,
      "metadata": {
        "collapsed": false
      },
      "outputs": [],
      "source": [
        "import numpy as np\nimport csdmpy as cp\nimport matplotlib.pyplot as plt\nfrom lmfit import Minimizer\n\nfrom mrsimulator import Simulator\nfrom mrsimulator.methods import Method2D\nfrom mrsimulator import signal_processing as sp\nfrom mrsimulator.utils import spectral_fitting as sf\nfrom mrsimulator.utils import get_spectral_dimensions\nfrom mrsimulator.utils.collection import single_site_system_generator\nfrom mrsimulator.method.event import SpectralEvent"
      ]
    },
    {
      "cell_type": "markdown",
      "metadata": {},
      "source": [
        "## Import the dataset\n\n"
      ]
    },
    {
      "cell_type": "code",
      "execution_count": null,
      "metadata": {
        "collapsed": false
      },
      "outputs": [],
      "source": [
        "filename = \"https://sandbox.zenodo.org/record/814455/files/DASCoesite.csdf\"\nexperiment = cp.load(filename)\n\n# standard deviation of noise from the dataset\nsigma = 921.6698\n\n# For spectral fitting, we only focus on the real part of the complex dataset\nexperiment = experiment.real\n\n# Convert the coordinates along each dimension from Hz to ppm.\n_ = [item.to(\"ppm\", \"nmr_frequency_ratio\") for item in experiment.dimensions]\n\n# plot of the dataset.\nmax_amp = experiment.max()\nlevels = (np.arange(14) + 1) * max_amp / 15  # contours are drawn at these levels.\noptions = dict(levels=levels, alpha=0.75, linewidths=0.5)  # plot options\n\nplt.figure(figsize=(4.25, 3.0))\nax = plt.subplot(projection=\"csdm\")\nax.contour(experiment, colors=\"k\", **options)\nax.invert_xaxis()\nax.set_ylim(30, -30)\nplt.grid()\nplt.tight_layout()\nplt.show()"
      ]
    },
    {
      "cell_type": "markdown",
      "metadata": {},
      "source": [
        "## Create a fitting model\n**Guess model**\n\nCreate a guess list of spin systems.\n\n"
      ]
    },
    {
      "cell_type": "code",
      "execution_count": null,
      "metadata": {
        "collapsed": false
      },
      "outputs": [],
      "source": [
        "shifts = [29, 39, 54.8, 51, 56]  # in ppm\nCq = [6.1e6, 5.4e6, 5.5e6, 5.5e6, 5.1e6]  # in  Hz\neta = [0.1, 0.2, 0.15, 0.15, 0.3]\nabundance_ratio = [1, 1, 2, 2, 2]\nabundance = np.asarray(abundance_ratio) / 8 * 100  # in %\n\nspin_systems = single_site_system_generator(\n    isotope=\"17O\",\n    isotropic_chemical_shift=shifts,\n    quadrupolar={\"Cq\": Cq, \"eta\": eta},\n    abundance=abundance,\n)"
      ]
    },
    {
      "cell_type": "markdown",
      "metadata": {},
      "source": [
        "**Method**\n\nCreate the DAS method.\n\n"
      ]
    },
    {
      "cell_type": "code",
      "execution_count": null,
      "metadata": {
        "collapsed": false
      },
      "outputs": [],
      "source": [
        "# Get the spectral dimension parameters from the experiment.\nspectral_dims = get_spectral_dimensions(experiment)\n\nDAS = Method2D(\n    channels=[\"17O\"],\n    magnetic_flux_density=11.744,  # in T\n    spectral_dimensions=[\n        dict(\n            **spectral_dims[0],\n            events=[\n                SpectralEvent(\n                    fraction=0.5,\n                    rotor_angle=37.38 * 3.14159 / 180,\n                    transition_query=[{\"P\": [-1], \"D\": [0]}],\n                ),\n                SpectralEvent(\n                    fraction=0.5,\n                    rotor_angle=79.19 * 3.14159 / 180,\n                    transition_query=[{\"P\": [-1], \"D\": [0]}],\n                ),\n            ],\n        ),\n        # The last spectral dimension block is the direct-dimension\n        dict(\n            **spectral_dims[1],\n            events=[\n                SpectralEvent(\n                    rotor_angle=54.735 * 3.14159 / 180,\n                    transition_query=[{\"P\": [-1], \"D\": [0]}],\n                )\n            ],\n        ),\n    ],\n    experiment=experiment,  # also add the measurement to the method.\n)\n\n# Optimize the script by pre-setting the transition pathways for each spin system from\n# the das method.\nfor sys in spin_systems:\n    sys.transition_pathways = DAS.get_transition_pathways(sys)"
      ]
    },
    {
      "cell_type": "markdown",
      "metadata": {},
      "source": [
        "**Guess Spectrum**\n\n"
      ]
    },
    {
      "cell_type": "code",
      "execution_count": null,
      "metadata": {
        "collapsed": false
      },
      "outputs": [],
      "source": [
        "# Simulation\n# ----------\nsim = Simulator(spin_systems=spin_systems, methods=[DAS])\nsim.config.number_of_sidebands = 1  # no sidebands are required for this dataset.\nsim.run()\n\n# Post Simulation Processing\n# --------------------------\nprocessor = sp.SignalProcessor(\n    operations=[\n        # Gaussian convolution along both dimensions.\n        sp.IFFT(dim_index=(0, 1)),\n        sp.apodization.Gaussian(FWHM=\"0.15 kHz\", dim_index=0),\n        sp.apodization.Gaussian(FWHM=\"0.1 kHz\", dim_index=1),\n        sp.FFT(dim_index=(0, 1)),\n        sp.Scale(factor=4e7),\n    ]\n)\nprocessed_data = processor.apply_operations(data=sim.methods[0].simulation).real\n\n# Plot of the guess Spectrum\n# --------------------------\nplt.figure(figsize=(4.25, 3.0))\nax = plt.subplot(projection=\"csdm\")\nax.contour(experiment, colors=\"k\", **options)\nax.contour(processed_data, colors=\"r\", linestyles=\"--\", **options)\nax.invert_xaxis()\nax.set_ylim(30, -30)\nplt.grid()\nplt.tight_layout()\nplt.show()"
      ]
    },
    {
      "cell_type": "markdown",
      "metadata": {},
      "source": [
        "## Least-squares minimization with LMFIT\nUse the :func:`~mrsimulator.utils.spectral_fitting.make_LMFIT_params` for a quick\nsetup of the fitting parameters.\n\n"
      ]
    },
    {
      "cell_type": "code",
      "execution_count": null,
      "metadata": {
        "collapsed": false
      },
      "outputs": [],
      "source": [
        "params = sf.make_LMFIT_params(sim, processor)\nprint(params.pretty_print(columns=[\"value\", \"min\", \"max\", \"vary\", \"expr\"]))"
      ]
    },
    {
      "cell_type": "markdown",
      "metadata": {},
      "source": [
        "**Solve the minimizer using LMFIT**\n\n"
      ]
    },
    {
      "cell_type": "code",
      "execution_count": null,
      "metadata": {
        "collapsed": false
      },
      "outputs": [],
      "source": [
        "minner = Minimizer(sf.LMFIT_min_function, params, fcn_args=(sim, processor, sigma))\nresult = minner.minimize(method=\"powell\")\nresult"
      ]
    },
    {
      "cell_type": "markdown",
      "metadata": {},
      "source": [
        "## The best fit solution\n\n"
      ]
    },
    {
      "cell_type": "code",
      "execution_count": null,
      "metadata": {
        "collapsed": false
      },
      "outputs": [],
      "source": [
        "best_fit = sf.bestfit(sim, processor)[0]\n\n# Plot the spectrum\nplt.figure(figsize=(4.25, 3.0))\nax = plt.subplot(projection=\"csdm\")\nax.contour(experiment, colors=\"k\", **options)\nax.contour(best_fit, colors=\"r\", linestyles=\"--\", **options)\nax.invert_xaxis()\nax.set_ylim(30, -30)\nplt.grid()\nplt.tight_layout()\nplt.show()"
      ]
    },
    {
      "cell_type": "markdown",
      "metadata": {},
      "source": [
        "## The best fit solution\n\n"
      ]
    },
    {
      "cell_type": "code",
      "execution_count": null,
      "metadata": {
        "collapsed": false
      },
      "outputs": [],
      "source": [
        "residuals = sf.residuals(sim, processor)[0]\n\nfig, ax = plt.subplots(\n    1, 3, sharey=True, figsize=(10, 3.0), subplot_kw={\"projection\": \"csdm\"}\n)\nvmax, vmin = experiment.max(), experiment.min()\nfor i, dat in enumerate([experiment, best_fit, residuals]):\n    ax[i].imshow(dat, aspect=\"auto\", vmax=vmax, vmin=vmin)\n    ax[i].invert_xaxis()\nax[0].set_ylim(30, -30)\nplt.tight_layout()\nplt.show()"
      ]
    },
    {
      "cell_type": "markdown",
      "metadata": {},
      "source": [
        ".. [#f1] Grandinetti, P. J., Baltisberger, J. H., Farnan, I., Stebbins, J. F.,\n      Werner, U. and Pines, A.\n      Solid-State $^{17}\\text{O}$ Magic-Angle and Dynamic-Angle Spinning NMR\n      Study of the $\\text{SiO}_2$ Polymorph Coesite, J. Phys. Chem. 1995,\n      **99**, *32*, 12341-12348.\n      `DOI: 10.1021/j100032a045 <https://doi.org/10.1021/j100032a045>`_\n\n"
      ]
    }
  ],
  "metadata": {
    "kernelspec": {
      "display_name": "Python 3",
      "language": "python",
      "name": "python3"
    },
    "language_info": {
      "codemirror_mode": {
        "name": "ipython",
        "version": 3
      },
      "file_extension": ".py",
      "mimetype": "text/x-python",
      "name": "python",
      "nbconvert_exporter": "python",
      "pygments_lexer": "ipython3",
      "version": "3.7.10"
    }
  },
  "nbformat": 4,
  "nbformat_minor": 0
}