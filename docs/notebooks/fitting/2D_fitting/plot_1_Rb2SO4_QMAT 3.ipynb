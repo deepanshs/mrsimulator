{
  "cells": [
    {
      "cell_type": "code",
      "execution_count": null,
      "metadata": {
        "collapsed": false
      },
      "outputs": [],
      "source": [
        "# This cell is added by sphinx-gallery\n!pip install mrsimulator --quiet\n\n\n%matplotlib inline\n\nimport mrsimulator\nprint(f'You are using mrsimulator v{mrsimulator.__version__}')"
      ]
    },
    {
      "cell_type": "markdown",
      "metadata": {},
      "source": [
        "\n# \u2078\u2077Rb 2D QMAT NMR of Rb\u2082SO\u2084\n"
      ]
    },
    {
      "cell_type": "markdown",
      "metadata": {},
      "source": [
        "The following is an illustration for fitting 2D QMAT/QPASS datasets. The example\ndataset is a $^{87}\\text{Rb}$ 2D QMAT spectrum of $\\text{Rb}_2\\text{SO}_4$\nfrom Walder `et al.` [#f1]_\n\n"
      ]
    },
    {
      "cell_type": "code",
      "execution_count": null,
      "metadata": {
        "collapsed": false
      },
      "outputs": [],
      "source": [
        "import numpy as np\nimport csdmpy as cp\nimport matplotlib.pyplot as plt\nfrom lmfit import Minimizer\n\nfrom mrsimulator import Simulator, SpinSystem, Site\nfrom mrsimulator.methods import SSB2D\nfrom mrsimulator import signal_processing as sp\nfrom mrsimulator.utils import spectral_fitting as sf\nfrom mrsimulator.utils import get_spectral_dimensions"
      ]
    },
    {
      "cell_type": "markdown",
      "metadata": {},
      "source": [
        "## Import the dataset\n\n"
      ]
    },
    {
      "cell_type": "code",
      "execution_count": null,
      "metadata": {
        "collapsed": false
      },
      "outputs": [],
      "source": [
        "filename = \"https://sandbox.zenodo.org/record/834704/files/Rb2SO4_QMAT.csdf\"\nqmat_data = cp.load(filename)\n\n# standard deviation of noise from the dataset\nsigma = 6.530634\n\n# For the spectral fitting, we only focus on the real part of the complex dataset.\nqmat_data = qmat_data.real\n\n# Convert the coordinates along each dimension from Hz to ppm.\n_ = [item.to(\"ppm\", \"nmr_frequency_ratio\") for item in qmat_data.dimensions]\n\n# plot of the dataset.\nmax_amp = qmat_data.max()\nlevels = (np.arange(31) + 0.15) * max_amp / 32  # contours are drawn at these levels.\noptions = dict(levels=levels, alpha=1, linewidths=0.5)  # plot options\n\nplt.figure(figsize=(8, 3.5))\nax = plt.subplot(projection=\"csdm\")\nax.contour(qmat_data.T, colors=\"k\", **options)\nax.set_xlim(200, -200)\nax.set_ylim(75, -120)\nplt.grid()\nplt.tight_layout()\nplt.show()"
      ]
    },
    {
      "cell_type": "markdown",
      "metadata": {},
      "source": [
        "## Create a fitting model\n**Guess model**\n\nCreate a guess list of spin systems.\n\n"
      ]
    },
    {
      "cell_type": "code",
      "execution_count": null,
      "metadata": {
        "collapsed": false
      },
      "outputs": [],
      "source": [
        "Rb_1 = Site(\n    isotope=\"87Rb\",\n    isotropic_chemical_shift=16,  # in ppm\n    quadrupolar={\"Cq\": 5.5e6, \"eta\": 0.1},  # Cq in Hz\n)\nRb_2 = Site(\n    isotope=\"87Rb\",\n    isotropic_chemical_shift=40,  # in ppm\n    quadrupolar={\"Cq\": 2.1e6, \"eta\": 0.95},  # Cq in Hz\n)\n\nspin_systems = [SpinSystem(sites=[s]) for s in [Rb_1, Rb_2]]"
      ]
    },
    {
      "cell_type": "markdown",
      "metadata": {},
      "source": [
        "**Method**\n\nCreate the SSB2D method.\n\n"
      ]
    },
    {
      "cell_type": "code",
      "execution_count": null,
      "metadata": {
        "collapsed": false
      },
      "outputs": [],
      "source": [
        "# Get the spectral dimension parameters from the experiment.\nspectral_dims = get_spectral_dimensions(qmat_data)\n\nPASS = SSB2D(\n    channels=[\"87Rb\"],\n    magnetic_flux_density=9.395,  # in T\n    rotor_frequency=2604,  # in Hz\n    spectral_dimensions=spectral_dims,\n    experiment=qmat_data,  # add the measurement to the method.\n)\n\n# Optimize the script by pre-setting the transition pathways for each spin system from\n# the method.\nfor sys in spin_systems:\n    sys.transition_pathways = PASS.get_transition_pathways(sys)"
      ]
    },
    {
      "cell_type": "markdown",
      "metadata": {},
      "source": [
        "**Guess Spectrum**\n\n"
      ]
    },
    {
      "cell_type": "code",
      "execution_count": null,
      "metadata": {
        "collapsed": false
      },
      "outputs": [],
      "source": [
        "# Simulation\n# ----------\nsim = Simulator(spin_systems=spin_systems, methods=[PASS])\nsim.run()\n\n# Post Simulation Processing\n# --------------------------\nprocessor = sp.SignalProcessor(\n    operations=[\n        # Lorentzian convolution along the isotropic dimensions.\n        sp.FFT(axis=0),\n        sp.apodization.Gaussian(FWHM=\"50 Hz\"),\n        sp.IFFT(axis=0),\n        sp.Scale(factor=1e4),\n    ]\n)\nprocessed_data = processor.apply_operations(data=sim.methods[0].simulation).real\n\n# Plot of the guess Spectrum\n# --------------------------\nplt.figure(figsize=(8, 3.5))\nax = plt.subplot(projection=\"csdm\")\nax.contour(qmat_data.T, colors=\"k\", **options)\nax.contour(processed_data.T, colors=\"r\", linestyles=\"--\", **options)\nax.set_xlim(200, -200)\nax.set_ylim(75, -120)\nplt.grid()\nplt.tight_layout()\nplt.show()"
      ]
    },
    {
      "cell_type": "markdown",
      "metadata": {},
      "source": [
        "## Least-squares minimization with LMFIT\nUse the :func:`~mrsimulator.utils.spectral_fitting.make_LMFIT_params` for a quick\nsetup of the fitting parameters.\n\n"
      ]
    },
    {
      "cell_type": "code",
      "execution_count": null,
      "metadata": {
        "collapsed": false
      },
      "outputs": [],
      "source": [
        "params = sf.make_LMFIT_params(sim, processor)\nprint(params.pretty_print(columns=[\"value\", \"min\", \"max\", \"vary\", \"expr\"]))"
      ]
    },
    {
      "cell_type": "markdown",
      "metadata": {},
      "source": [
        "**Solve the minimizer using LMFIT**\n\n"
      ]
    },
    {
      "cell_type": "code",
      "execution_count": null,
      "metadata": {
        "collapsed": false
      },
      "outputs": [],
      "source": [
        "minner = Minimizer(sf.LMFIT_min_function, params, fcn_args=(sim, processor, sigma))\nresult = minner.minimize()\nresult"
      ]
    },
    {
      "cell_type": "markdown",
      "metadata": {},
      "source": [
        "## The best fit solution\n\n"
      ]
    },
    {
      "cell_type": "code",
      "execution_count": null,
      "metadata": {
        "collapsed": false
      },
      "outputs": [],
      "source": [
        "best_fit = sf.bestfit(sim, processor)[0]\n\n# Plot of the best fit solution\nplt.figure(figsize=(8, 3.5))\nax = plt.subplot(projection=\"csdm\")\nax.contour(qmat_data.T, colors=\"k\", **options)\nax.contour(best_fit.T, colors=\"r\", linestyles=\"--\", **options)\nax.set_xlim(200, -200)\nax.set_ylim(75, -120)\nplt.grid()\nplt.tight_layout()\nplt.show()"
      ]
    },
    {
      "cell_type": "markdown",
      "metadata": {},
      "source": [
        ".. [#f1] B. J. Walder, K. K. Dey, D. C. Kaseman, J. H. Baltisberger, and P. J.\n      Grandinetti, Sideband separation experiments in NMR with phase incremented\n      echo train acquisition, J. Phys. Chem. 2013, **138**, 174203-1-12.\n      `DOI: 10.1063/1.4803142 <https://doi.org/10.1063/1.4803142>`_\n\n"
      ]
    }
  ],
  "metadata": {
    "kernelspec": {
      "display_name": "Python 3",
      "language": "python",
      "name": "python3"
    },
    "language_info": {
      "codemirror_mode": {
        "name": "ipython",
        "version": 3
      },
      "file_extension": ".py",
      "mimetype": "text/x-python",
      "name": "python",
      "nbconvert_exporter": "python",
      "pygments_lexer": "ipython3",
      "version": "3.8.5"
    }
  },
  "nbformat": 4,
  "nbformat_minor": 0
}