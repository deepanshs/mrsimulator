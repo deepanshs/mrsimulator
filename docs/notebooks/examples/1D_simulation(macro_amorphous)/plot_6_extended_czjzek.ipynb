{
  "cells": [
    {
      "cell_type": "code",
      "execution_count": null,
      "metadata": {
        "collapsed": false
      },
      "outputs": [],
      "source": [
        "# This cell is added by sphinx-gallery\n!pip install mrsimulator --quiet\n\n\n%matplotlib inline\n\nimport mrsimulator\nprint(f'You are using mrsimulator v{mrsimulator.__version__}')"
      ]
    },
    {
      "cell_type": "markdown",
      "metadata": {},
      "source": [
        "\n",
        "# Extended Czjzek distribution (Shielding and Quadrupolar)\n",
        "\n",
        "In this example, we illustrate the simulation of spectrum originating from an\n",
        "extended Czjzek distribution of traceless symmetric tensors. We show two cases, an\n",
        "extended Czjzek distribution of the shielding and quadrupolar tensor parameters,\n",
        "respectively.\n"
      ]
    },
    {
      "cell_type": "markdown",
      "metadata": {},
      "source": [
        "Import the required modules.\n",
        "\n"
      ]
    },
    {
      "cell_type": "code",
      "execution_count": null,
      "metadata": {
        "collapsed": false
      },
      "outputs": [],
      "source": [
        "import numpy as np\n",
        "import matplotlib.pyplot as plt\n",
        "\n",
        "from mrsimulator import Simulator\n",
        "from mrsimulator.methods import BlochDecaySpectrum, BlochDecayCTSpectrum\n",
        "from mrsimulator.models import ExtCzjzekDistribution\n",
        "from mrsimulator.utils.collection import single_site_system_generator"
      ]
    },
    {
      "cell_type": "markdown",
      "metadata": {},
      "source": [
        "## Symmetric shielding tensor\n",
        "\n",
        "### Create the extended Czjzek distribution\n",
        "\n",
        "First, create a distribution of the zeta and eta parameters of the shielding tensors\n",
        "using the `extended_czjzek_distribution` model as follows,\n",
        "\n"
      ]
    },
    {
      "cell_type": "code",
      "execution_count": null,
      "metadata": {
        "collapsed": false
      },
      "outputs": [],
      "source": [
        "# The range of zeta and eta coordinates over which the distribution is sampled.\n",
        "z_lim = np.arange(100) * 0.4 + 40  # in ppm\n",
        "e_lim = np.arange(21) / 20\n",
        "\n",
        "dominant = {\"zeta\": 60, \"eta\": 0.3}\n",
        "z_dist, e_dist, amp = ExtCzjzekDistribution(dominant, eps=0.14).pdf(pos=[z_lim, e_lim])"
      ]
    },
    {
      "cell_type": "markdown",
      "metadata": {},
      "source": [
        "The following is the plot of the extended Czjzek distribution.\n",
        "\n"
      ]
    },
    {
      "cell_type": "code",
      "execution_count": null,
      "metadata": {
        "collapsed": false
      },
      "outputs": [],
      "source": [
        "plt.figure(figsize=(4.25, 3.0))\n",
        "plt.contourf(z_dist, e_dist, amp, levels=10)\n",
        "plt.xlabel(r\"$\\zeta$ / ppm\")\n",
        "plt.ylabel(r\"$\\eta$\")\n",
        "plt.tight_layout()\n",
        "plt.show()"
      ]
    },
    {
      "cell_type": "markdown",
      "metadata": {},
      "source": [
        "### Simulate the spectrum\n",
        "\n",
        "Create the spin systems from the above $\\zeta$ and $\\eta$ parameters.\n",
        "\n"
      ]
    },
    {
      "cell_type": "code",
      "execution_count": null,
      "metadata": {
        "collapsed": false
      },
      "outputs": [],
      "source": [
        "systems = single_site_system_generator(\n",
        "    isotope=\"13C\", shielding_symmetric={\"zeta\": z_dist, \"eta\": e_dist}, abundance=amp\n",
        ")\n",
        "print(len(systems))"
      ]
    },
    {
      "cell_type": "markdown",
      "metadata": {},
      "source": [
        "Create a simulator object and add the above system.\n",
        "\n"
      ]
    },
    {
      "cell_type": "code",
      "execution_count": null,
      "metadata": {
        "collapsed": false
      },
      "outputs": [],
      "source": [
        "sim = Simulator()\n",
        "sim.spin_systems = systems  # add the systems\n",
        "sim.methods = [BlochDecaySpectrum(channels=[\"13C\"])]  # add the method\n",
        "sim.run()"
      ]
    },
    {
      "cell_type": "markdown",
      "metadata": {},
      "source": [
        "The following is the static spectrum arising from a Czjzek distribution of the\n",
        "second-rank traceless shielding tensors.\n",
        "\n"
      ]
    },
    {
      "cell_type": "code",
      "execution_count": null,
      "metadata": {
        "collapsed": false
      },
      "outputs": [],
      "source": [
        "plt.figure(figsize=(4.25, 3.0))\n",
        "ax = plt.subplot(projection=\"csdm\")\n",
        "ax.plot(sim.methods[0].simulation, color=\"black\", linewidth=1)\n",
        "plt.tight_layout()\n",
        "plt.show()"
      ]
    },
    {
      "cell_type": "markdown",
      "metadata": {},
      "source": [
        "## Quadrupolar tensor\n",
        "\n",
        "### Create the extended Czjzek distribution\n",
        "\n",
        "Similarly, you may also create an extended Czjzek distribution of the electric field\n",
        "gradient (EFG) tensor parameters.\n",
        "\n"
      ]
    },
    {
      "cell_type": "code",
      "execution_count": null,
      "metadata": {
        "collapsed": false
      },
      "outputs": [],
      "source": [
        "# The range of Cq and eta coordinates over which the distribution is sampled.\n",
        "cq_lim = np.arange(100) * 0.1  # assumed in MHz\n",
        "e_lim = np.arange(21) / 20\n",
        "\n",
        "dominant = {\"Cq\": 6.1, \"eta\": 0.1}\n",
        "cq_dist, e_dist, amp = ExtCzjzekDistribution(dominant, eps=0.25).pdf(\n",
        "    pos=[cq_lim, e_lim]\n",
        ")"
      ]
    },
    {
      "cell_type": "markdown",
      "metadata": {},
      "source": [
        "The following is the plot of the extended Czjzek distribution.\n",
        "\n"
      ]
    },
    {
      "cell_type": "code",
      "execution_count": null,
      "metadata": {
        "collapsed": false
      },
      "outputs": [],
      "source": [
        "plt.figure(figsize=(4.25, 3.0))\n",
        "plt.contourf(cq_dist, e_dist, amp, levels=10)\n",
        "plt.xlabel(r\"$C_q$ / MHz\")\n",
        "plt.ylabel(r\"$\\eta$\")\n",
        "plt.tight_layout()\n",
        "plt.show()"
      ]
    },
    {
      "cell_type": "markdown",
      "metadata": {},
      "source": [
        "### Simulate the spectrum\n",
        "**Static spectrum**\n",
        "Create the spin systems.\n",
        "\n"
      ]
    },
    {
      "cell_type": "code",
      "execution_count": null,
      "metadata": {
        "collapsed": false
      },
      "outputs": [],
      "source": [
        "systems = single_site_system_generator(\n",
        "    isotope=\"71Ga\", quadrupolar={\"Cq\": cq_dist * 1e6, \"eta\": e_dist}, abundance=amp\n",
        ")"
      ]
    },
    {
      "cell_type": "markdown",
      "metadata": {},
      "source": [
        "Create a simulator object and add the above system.\n",
        "\n"
      ]
    },
    {
      "cell_type": "code",
      "execution_count": null,
      "metadata": {
        "collapsed": false
      },
      "outputs": [],
      "source": [
        "sim = Simulator()\n",
        "sim.spin_systems = systems  # add the systems\n",
        "sim.methods = [\n",
        "    BlochDecayCTSpectrum(\n",
        "        channels=[\"71Ga\"],\n",
        "        magnetic_flux_density=9.4,  # in T\n",
        "        spectral_dimensions=[{\"count\": 2048, \"spectral_width\": 2e5}],\n",
        "    )\n",
        "]  # add the method\n",
        "sim.run()"
      ]
    },
    {
      "cell_type": "markdown",
      "metadata": {},
      "source": [
        "The following is a static spectrum arising from an extended Czjzek distribution of\n",
        "the second-rank traceless EFG tensors.\n",
        "\n"
      ]
    },
    {
      "cell_type": "code",
      "execution_count": null,
      "metadata": {
        "collapsed": false
      },
      "outputs": [],
      "source": [
        "plt.figure(figsize=(4.25, 3.0))\n",
        "ax = plt.subplot(projection=\"csdm\")\n",
        "ax.plot(sim.methods[0].simulation, color=\"black\", linewidth=1)\n",
        "ax.invert_xaxis()\n",
        "plt.tight_layout()\n",
        "plt.show()"
      ]
    },
    {
      "cell_type": "markdown",
      "metadata": {},
      "source": [
        "**MAS spectrum**\n",
        "\n"
      ]
    },
    {
      "cell_type": "code",
      "execution_count": null,
      "metadata": {
        "collapsed": false
      },
      "outputs": [],
      "source": [
        "sim.methods = [\n",
        "    BlochDecayCTSpectrum(\n",
        "        channels=[\"71Ga\"],\n",
        "        magnetic_flux_density=9.4,  # in T\n",
        "        rotor_frequency=25000,  # in Hz\n",
        "        spectral_dimensions=[\n",
        "            {\"count\": 2048, \"spectral_width\": 2e5, \"reference_offset\": -1e4}\n",
        "        ],\n",
        "    )\n",
        "]  # add the method\n",
        "sim.config.number_of_sidebands = 16\n",
        "sim.run()"
      ]
    },
    {
      "cell_type": "markdown",
      "metadata": {},
      "source": [
        "The following is the MAS spectrum arising from an extended Czjzek distribution of the\n",
        "second-rank traceless EFG tensors.\n",
        "\n"
      ]
    },
    {
      "cell_type": "code",
      "execution_count": null,
      "metadata": {
        "collapsed": false
      },
      "outputs": [],
      "source": [
        "plt.figure(figsize=(4.25, 3.0))\n",
        "ax = plt.subplot(projection=\"csdm\")\n",
        "ax.plot(sim.methods[0].simulation, color=\"black\", linewidth=1)\n",
        "ax.invert_xaxis()\n",
        "plt.tight_layout()\n",
        "plt.show()"
      ]
    }
  ],
  "metadata": {
    "kernelspec": {
      "display_name": "Python 3",
      "language": "python",
      "name": "python3"
    },
    "language_info": {
      "codemirror_mode": {
        "name": "ipython",
        "version": 3
      },
      "file_extension": ".py",
      "mimetype": "text/x-python",
      "name": "python",
      "nbconvert_exporter": "python",
      "pygments_lexer": "ipython3",
      "version": "3.8.10"
    }
  },
  "nbformat": 4,
  "nbformat_minor": 0
}