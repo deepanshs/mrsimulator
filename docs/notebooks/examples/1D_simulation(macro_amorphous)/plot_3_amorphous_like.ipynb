{
  "cells": [
    {
      "cell_type": "code",
      "execution_count": null,
      "metadata": {
        "collapsed": false
      },
      "outputs": [],
      "source": [
        "# This cell is added by sphinx-gallery\n",
        "\n",
        "%matplotlib inline\n",
        "\n",
        "import mrsimulator\n",
        "print(f'You are using mrsimulator v{mrsimulator.__version__}')"
      ]
    },
    {
      "cell_type": "markdown",
      "metadata": {},
      "source": [
        "\n",
        "# Amorphous material, ²⁹Si (I=1/2)\n",
        "\n",
        "²⁹Si (I=1/2) simulation of amorphous material.\n"
      ]
    },
    {
      "cell_type": "markdown",
      "metadata": {},
      "source": [
        "One of the advantages of the ``mrsimulator`` package is that it is a fast NMR\n",
        "spectrum simulation library. We can exploit this feature to simulate bulk spectra and\n",
        "eventually model amorphous materials. In this section, we illustrate how the\n",
        "``mrsimulator`` library may be used in simulating the NMR spectrum of amorphous\n",
        "materials.\n",
        "\n"
      ]
    },
    {
      "cell_type": "code",
      "execution_count": null,
      "metadata": {
        "collapsed": false
      },
      "outputs": [],
      "source": [
        "import numpy as np\n",
        "import matplotlib.pyplot as plt\n",
        "from scipy.stats import multivariate_normal\n",
        "\n",
        "from mrsimulator import Simulator\n",
        "from mrsimulator.methods import BlochDecaySpectrum\n",
        "from mrsimulator.utils.collection import single_site_system_generator"
      ]
    },
    {
      "cell_type": "markdown",
      "metadata": {},
      "source": [
        "## Generating tensor parameter distribution\n",
        "\n",
        "We model the amorphous material by assuming a distribution of interaction tensors.\n",
        "For example, a tri-variate normal distribution of the shielding tensor parameters,\n",
        "`i.e.`, the isotropic chemical shift, the anisotropy parameter, $\\zeta$, and\n",
        "the asymmetry parameter, $\\eta$. In the following, we use pure NumPy and SciPy\n",
        "methods to generate the three-dimensional distribution, as follows,\n",
        "\n"
      ]
    },
    {
      "cell_type": "code",
      "execution_count": null,
      "metadata": {
        "collapsed": false
      },
      "outputs": [],
      "source": [
        "mean = [-100, 50, 0.15]  # given as [isotropic chemical shift in ppm, zeta in ppm, eta].\n",
        "covariance = [[3.25, 0, 0], [0, 26.2, 0], [0, 0, 0.002]]  # same order as the mean.\n",
        "\n",
        "# range of coordinates along the three dimensions\n",
        "iso_range = np.arange(100) * 0.3055 - 115  # in ppm\n",
        "zeta_range = np.arange(30) * 2.5 + 10  # in ppm\n",
        "eta_range = np.arange(21) / 20\n",
        "\n",
        "# The coordinates grid\n",
        "iso, zeta, eta = np.meshgrid(iso_range, zeta_range, eta_range, indexing=\"ij\")\n",
        "pos = np.asarray([iso, zeta, eta]).T\n",
        "\n",
        "# Three-dimensional probability distribution function.\n",
        "pdf = multivariate_normal(mean=mean, cov=covariance).pdf(pos).T"
      ]
    },
    {
      "cell_type": "markdown",
      "metadata": {},
      "source": [
        "Here, ``iso``, ``zeta``, and ``eta`` are the isotropic chemical shift, nuclear\n",
        "shielding anisotropy, and nuclear shielding asymmetry coordinates of the 3D-grid\n",
        "system over which the multivariate normal probability distribution is evaluated. The\n",
        "mean of the distribution is given by the variable ``mean`` and holds a value of -100\n",
        "ppm, 50 ppm, and 0.15 for the isotropic chemical shift, nuclear shielding anisotropy,\n",
        "and nuclear shielding asymmetry parameter, respectively. Similarly, the variable\n",
        "``covariance`` holds the covariance matrix of the multivariate normal distribution.\n",
        "The two-dimensional projections from this three-dimensional distribution are shown\n",
        "below.\n",
        "\n"
      ]
    },
    {
      "cell_type": "code",
      "execution_count": null,
      "metadata": {
        "collapsed": false
      },
      "outputs": [],
      "source": [
        "_, ax = plt.subplots(1, 3, figsize=(9, 3))\n",
        "\n",
        "# isotropic shift v.s. shielding anisotropy\n",
        "ax[0].contourf(zeta_range, iso_range, pdf.sum(axis=2))\n",
        "ax[0].set_xlabel(r\"shielding anisotropy, $\\zeta$ / ppm\")\n",
        "ax[0].set_ylabel(\"isotropic chemical shift / ppm\")\n",
        "\n",
        "# isotropic shift v.s. shielding asymmetry\n",
        "ax[1].contourf(eta_range, iso_range, pdf.sum(axis=1))\n",
        "ax[1].set_xlabel(r\"shielding asymmetry, $\\eta$\")\n",
        "ax[1].set_ylabel(\"isotropic chemical shift / ppm\")\n",
        "\n",
        "# shielding anisotropy v.s. shielding asymmetry\n",
        "ax[2].contourf(eta_range, zeta_range, pdf.sum(axis=0))\n",
        "ax[2].set_xlabel(r\"shielding asymmetry, $\\eta$\")\n",
        "ax[2].set_ylabel(r\"shielding anisotropy, $\\zeta$ / ppm\")\n",
        "\n",
        "plt.tight_layout()\n",
        "plt.show()"
      ]
    },
    {
      "cell_type": "markdown",
      "metadata": {},
      "source": [
        "## Create the Simulator object\n",
        "\n",
        "**Spin system:**\n",
        "\n",
        "Let's create the sites and single-site spin system objects from these parameters.\n",
        "Use the :func:`~mrsimulator.utils.collection.single_site_system_generator` utility\n",
        "function to generate single-site spin systems. # Here, ``iso``, ``zeta``, and ``eta``\n",
        "are the array of tensor parameter coordinates, and ``pdf`` is the array of the\n",
        "corresponding amplitudes.\n",
        "\n"
      ]
    },
    {
      "cell_type": "code",
      "execution_count": null,
      "metadata": {
        "collapsed": false
      },
      "outputs": [],
      "source": [
        "spin_systems = single_site_system_generator(\n",
        "    isotope=\"29Si\",\n",
        "    isotropic_chemical_shift=iso,\n",
        "    shielding_symmetric={\"zeta\": zeta, \"eta\": eta},\n",
        "    abundance=pdf,\n",
        ")"
      ]
    },
    {
      "cell_type": "markdown",
      "metadata": {},
      "source": [
        "**Method:**\n",
        "\n",
        "Let's also create a Bloch decay spectrum method.\n",
        "\n"
      ]
    },
    {
      "cell_type": "code",
      "execution_count": null,
      "metadata": {
        "collapsed": false
      },
      "outputs": [],
      "source": [
        "method = BlochDecaySpectrum(\n",
        "    channels=[\"29Si\"],\n",
        "    spectral_dimensions=[\n",
        "        {\"spectral_width\": 25000, \"reference_offset\": -7000}  # values in Hz\n",
        "    ],\n",
        ")"
      ]
    },
    {
      "cell_type": "markdown",
      "metadata": {},
      "source": [
        "The above method simulates a static $^{29}\\text{Si}$ spectrum at 9.4 T field\n",
        "(default value).\n",
        "\n",
        "**Simulator:**\n",
        "\n",
        "Now that we have the spin systems and the method, create the simulator object and\n",
        "add the respective objects.\n",
        "\n"
      ]
    },
    {
      "cell_type": "code",
      "execution_count": null,
      "metadata": {
        "collapsed": false
      },
      "outputs": [],
      "source": [
        "sim = Simulator()\n",
        "sim.spin_systems = spin_systems  # add the spin systems\n",
        "sim.methods += [method]  # add the method"
      ]
    },
    {
      "cell_type": "markdown",
      "metadata": {},
      "source": [
        "## Static spectrum\n",
        "Observe the static $^{29}\\text{Si}$ NMR spectrum simulation.\n",
        "\n"
      ]
    },
    {
      "cell_type": "code",
      "execution_count": null,
      "metadata": {
        "collapsed": false
      },
      "outputs": [],
      "source": [
        "sim.run()"
      ]
    },
    {
      "cell_type": "markdown",
      "metadata": {},
      "source": [
        "The plot of the simulation.\n",
        "\n"
      ]
    },
    {
      "cell_type": "code",
      "execution_count": null,
      "metadata": {
        "collapsed": false
      },
      "outputs": [],
      "source": [
        "plt.figure(figsize=(4.25, 3.0))\n",
        "ax = plt.subplot(projection=\"csdm\")\n",
        "ax.plot(sim.methods[0].simulation, color=\"black\", linewidth=1)\n",
        "ax.invert_xaxis()\n",
        "plt.tight_layout()\n",
        "plt.show()"
      ]
    },
    {
      "cell_type": "markdown",
      "metadata": {},
      "source": [
        "<div class=\"alert alert-info\"><h4>Note</h4><p>The broad spectrum seen in the above figure is a result of spectral averaging\n",
        "    of spectra arising from a distribution of shielding tensors. There is no\n",
        "    line-broadening filter applied to the spectrum.</p></div>\n",
        "\n"
      ]
    },
    {
      "cell_type": "markdown",
      "metadata": {},
      "source": [
        "## Spinning sideband simulation at $90^\\circ$\n",
        "Here is an example of a sideband simulation, spinning at a 90-degree angle.\n",
        "\n"
      ]
    },
    {
      "cell_type": "code",
      "execution_count": null,
      "metadata": {
        "collapsed": false
      },
      "outputs": [],
      "source": [
        "sim.methods[0] = BlochDecaySpectrum(\n",
        "    channels=[\"29Si\"],\n",
        "    rotor_frequency=5000,  # in Hz\n",
        "    rotor_angle=1.57079,  # in rads, equivalent to 90 deg.\n",
        "    spectral_dimensions=[\n",
        "        {\"spectral_width\": 25000, \"reference_offset\": -7000}  # values in Hz\n",
        "    ],\n",
        ")\n",
        "sim.config.number_of_sidebands = 8  # eight sidebands are sufficient for this example\n",
        "sim.run()"
      ]
    },
    {
      "cell_type": "markdown",
      "metadata": {},
      "source": [
        "The plot of the simulation.\n",
        "\n"
      ]
    },
    {
      "cell_type": "code",
      "execution_count": null,
      "metadata": {
        "collapsed": false
      },
      "outputs": [],
      "source": [
        "plt.figure(figsize=(4.25, 3.0))\n",
        "ax = plt.subplot(projection=\"csdm\")\n",
        "ax.plot(sim.methods[0].simulation, color=\"black\", linewidth=1)\n",
        "ax.invert_xaxis()\n",
        "plt.tight_layout()\n",
        "plt.show()"
      ]
    },
    {
      "cell_type": "markdown",
      "metadata": {},
      "source": [
        "## Spinning sideband simulation at the magic angle\n",
        "Here is another example of a sideband simulation at the magic angle.\n",
        "\n"
      ]
    },
    {
      "cell_type": "code",
      "execution_count": null,
      "metadata": {
        "collapsed": false
      },
      "outputs": [],
      "source": [
        "sim.methods[0] = BlochDecaySpectrum(\n",
        "    channels=[\"29Si\"],\n",
        "    rotor_frequency=1000,  # in Hz\n",
        "    rotor_angle=54.735 * np.pi / 180.0,  # in rads\n",
        "    spectral_dimensions=[\n",
        "        {\"spectral_width\": 25000, \"reference_offset\": -7000}  # values in Hz\n",
        "    ],\n",
        ")\n",
        "sim.config.number_of_sidebands = 16  # sixteen sidebands are sufficient for this example\n",
        "sim.run()"
      ]
    },
    {
      "cell_type": "markdown",
      "metadata": {},
      "source": [
        "The plot of the simulation.\n",
        "\n"
      ]
    },
    {
      "cell_type": "code",
      "execution_count": null,
      "metadata": {
        "collapsed": false
      },
      "outputs": [],
      "source": [
        "plt.figure(figsize=(4.25, 3.0))\n",
        "ax = plt.subplot(projection=\"csdm\")\n",
        "ax.plot(sim.methods[0].simulation, color=\"black\", linewidth=1)\n",
        "ax.invert_xaxis()\n",
        "plt.tight_layout()\n",
        "plt.show()"
      ]
    }
  ],
  "metadata": {
    "kernelspec": {
      "display_name": "Python 3",
      "language": "python",
      "name": "python3"
    },
    "language_info": {
      "codemirror_mode": {
        "name": "ipython",
        "version": 3
      },
      "file_extension": ".py",
      "mimetype": "text/x-python",
      "name": "python",
      "nbconvert_exporter": "python",
      "pygments_lexer": "ipython3",
      "version": "3.8.8"
    }
  },
  "nbformat": 4,
  "nbformat_minor": 0
}