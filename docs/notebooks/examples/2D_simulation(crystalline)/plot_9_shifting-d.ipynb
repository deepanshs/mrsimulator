{
  "cells": [
    {
      "cell_type": "code",
      "execution_count": null,
      "metadata": {
        "collapsed": false
      },
      "outputs": [],
      "source": [
        "# This cell is added by sphinx-gallery\n!pip install mrsimulator --quiet\n\n\n%matplotlib inline\n\nimport mrsimulator\nprint(f'You are using mrsimulator v{mrsimulator.__version__}')"
      ]
    },
    {
      "cell_type": "markdown",
      "metadata": {},
      "source": [
        "\n# MCl\u2082.2D\u2082O, \u00b2H (I=1) Shifting-d echo\n\n\u00b2H (I=1) 2D NMR CSA-Quad 1st order correlation spectrum simulation.\n"
      ]
    },
    {
      "cell_type": "markdown",
      "metadata": {},
      "source": [
        "The following is a static shifting-*d* echo NMR correlation simulation of\n$\\text{MCl}_2\\cdot 2\\text{D}_2\\text{O}$ crystalline solid, where\n$M \\in [\\text{Cu}, \\text{Ni}, \\text{Co}, \\text{Fe}, \\text{Mn}]$. The tensor\nparameters for the simulation and the corresponding spectrum are reported by\nWalder `et al.` [#f1]_.\n\n"
      ]
    },
    {
      "cell_type": "code",
      "execution_count": null,
      "metadata": {
        "collapsed": false
      },
      "outputs": [],
      "source": [
        "import matplotlib.pyplot as plt\n\nfrom mrsimulator import Simulator, SpinSystem, Site\nfrom mrsimulator.methods import Method2D\nfrom mrsimulator import signal_processing as sp\nfrom mrsimulator.spin_system.tensors import SymmetricTensor\nfrom mrsimulator.method.event import SpectralEvent\nfrom mrsimulator.method.spectral_dimension import SpectralDimension"
      ]
    },
    {
      "cell_type": "markdown",
      "metadata": {},
      "source": [
        "Generate the site and spin system objects.\n\n"
      ]
    },
    {
      "cell_type": "code",
      "execution_count": null,
      "metadata": {
        "collapsed": false
      },
      "outputs": [],
      "source": [
        "site_Ni = Site(\n    isotope=\"2H\",\n    isotropic_chemical_shift=-97,  # in ppm\n    shielding_symmetric=SymmetricTensor(\n        zeta=-551,  # in ppm\n        eta=0.12,\n        alpha=62 * 3.14159 / 180,  # in rads\n        beta=114 * 3.14159 / 180,  # in rads\n        gamma=171 * 3.14159 / 180,  # in rads\n    ),\n    quadrupolar=SymmetricTensor(Cq=77.2e3, eta=0.9),  # Cq in Hz\n)\n\nsite_Cu = Site(\n    isotope=\"2H\",\n    isotropic_chemical_shift=51,  # in ppm\n    shielding_symmetric=SymmetricTensor(\n        zeta=146,  # in ppm\n        eta=0.84,\n        alpha=95 * 3.14159 / 180,  # in rads\n        beta=90 * 3.14159 / 180,  # in rads\n        gamma=0 * 3.14159 / 180,  # in rads\n    ),\n    quadrupolar=SymmetricTensor(Cq=118.2e3, eta=0.8),  # Cq in Hz\n)\n\nsite_Co = Site(\n    isotope=\"2H\",\n    isotropic_chemical_shift=215,  # in ppm\n    shielding_symmetric=SymmetricTensor(\n        zeta=-1310,  # in ppm\n        eta=0.23,\n        alpha=180 * 3.14159 / 180,  # in rads\n        beta=90 * 3.14159 / 180,  # in rads\n        gamma=90 * 3.14159 / 180,  # in rads\n    ),\n    quadrupolar=SymmetricTensor(Cq=114.6e3, eta=0.95),  # Cq in Hz\n)\n\nsite_Fe = Site(\n    isotope=\"2H\",\n    isotropic_chemical_shift=101,  # in ppm\n    shielding_symmetric=SymmetricTensor(\n        zeta=-1187,  # in ppm\n        eta=0.4,\n        alpha=122 * 3.14159 / 180,  # in rads\n        beta=90 * 3.14159 / 180,  # in rads\n        gamma=90 * 3.14159 / 180,  # in rads\n    ),\n    quadrupolar=SymmetricTensor(Cq=114.2e3, eta=0.98),  # Cq in Hz\n)\n\nsite_Mn = Site(\n    isotope=\"2H\",\n    isotropic_chemical_shift=145,  # in ppm\n    shielding_symmetric=SymmetricTensor(\n        zeta=-1236,  # in ppm\n        eta=0.23,\n        alpha=136 * 3.14159 / 180,  # in rads\n        beta=90 * 3.14159 / 180,  # in rads\n        gamma=90 * 3.14159 / 180,  # in rads\n    ),\n    quadrupolar=SymmetricTensor(Cq=1.114e5, eta=1.0),  # Cq in Hz\n)\n\nspin_systems = [\n    SpinSystem(sites=[s], name=f\"{n}Cl$_2$.2D$_2$O\")\n    for s, n in zip(\n        [site_Ni, site_Cu, site_Co, site_Fe, site_Mn], [\"Ni\", \"Cu\", \"Co\", \"Fe\", \"Mn\"]\n    )\n]"
      ]
    },
    {
      "cell_type": "markdown",
      "metadata": {},
      "source": [
        "Use the generic 2D method, `Method2D`, to generate a shifting-d echo method. The\nreported shifting-d 2D sequence is a correlation of the shielding frequencies to the\nfirst-order quadrupolar frequencies. Here, we create a correlation method using the\n:attr:`~mrsimulator.method.event.freq_contrib` attribute, which acts as a switch\nfor including the frequency contributions from interaction during the event.\n\nIn the following method, we assign the ``[\"Quad1_2\"]`` and\n``[\"Shielding1_0\", \"Shielding1_2\"]`` as the value to the ``freq_contrib`` key. The\n*Quad1_2* is an enumeration for selecting the first-order second-rank quadrupolar\nfrequency contributions. *Shielding1_0* and *Shielding1_2* are enumerations for\nthe first-order shielding with zeroth and second-rank tensor contributions,\nrespectively. See `freq_contrib_api` for details.\n\n"
      ]
    },
    {
      "cell_type": "code",
      "execution_count": null,
      "metadata": {
        "collapsed": false
      },
      "outputs": [],
      "source": [
        "shifting_d = Method2D(\n    name=\"Shifting-d\",\n    channels=[\"2H\"],\n    magnetic_flux_density=9.395,  # in T\n    spectral_dimensions=[\n        SpectralDimension(\n            count=512,\n            spectral_width=2.5e5,  # in Hz\n            label=\"Quadrupolar frequency\",\n            events=[\n                SpectralEvent(\n                    rotor_frequency=0,\n                    transition_query={\"P\": [-1]},\n                    freq_contrib=[\"Quad1_2\"],\n                )\n            ],\n        ),\n        SpectralDimension(\n            count=256,\n            spectral_width=2e5,  # in Hz\n            reference_offset=2e4,  # in Hz\n            label=\"Paramagnetic shift\",\n            events=[\n                SpectralEvent(\n                    rotor_frequency=0,\n                    transition_query={\"P\": [-1]},\n                    freq_contrib=[\"Shielding1_0\", \"Shielding1_2\"],\n                )\n            ],\n        ),\n    ],\n)\n\n# A graphical representation of the method object.\nplt.figure(figsize=(5, 2.5))\nshifting_d.plot()\nplt.show()"
      ]
    },
    {
      "cell_type": "markdown",
      "metadata": {},
      "source": [
        "Create the Simulator object, add the method and spin system objects, and\nrun the simulation.\n\n"
      ]
    },
    {
      "cell_type": "code",
      "execution_count": null,
      "metadata": {
        "collapsed": false
      },
      "outputs": [],
      "source": [
        "sim = Simulator(spin_systems=spin_systems, methods=[shifting_d])\n# Configure the simulator object. For non-coincidental tensors, set the value of the\n# `integration_volume` attribute to `hemisphere`.\nsim.config.integration_volume = \"hemisphere\"\nsim.config.decompose_spectrum = \"spin_system\"  # simulate spectra per spin system\nsim.run()"
      ]
    },
    {
      "cell_type": "markdown",
      "metadata": {},
      "source": [
        "Add post-simulation signal processing.\n\n"
      ]
    },
    {
      "cell_type": "code",
      "execution_count": null,
      "metadata": {
        "collapsed": false
      },
      "outputs": [],
      "source": [
        "data = sim.methods[0].simulation\nprocessor = sp.SignalProcessor(\n    operations=[\n        # Gaussian convolution along both dimensions.\n        sp.IFFT(dim_index=(0, 1)),\n        sp.apodization.Gaussian(FWHM=\"9 kHz\", dim_index=0),  # along dimension 0\n        sp.apodization.Gaussian(FWHM=\"9 kHz\", dim_index=1),  # along dimension 1\n        sp.FFT(dim_index=(0, 1)),\n    ]\n)\nprocessed_data = processor.apply_operations(data=data).real"
      ]
    },
    {
      "cell_type": "markdown",
      "metadata": {},
      "source": [
        "The plot of the simulation. Because we configured the simulator object to simulate\nspectrum per spin system, the following data is a CSDM object containing five\nsimulations (dependent variables). Let's visualize the first data corresponding to\n$\\text{NiCl}_2\\cdot 2 \\text{D}_2\\text{O}$.\n\n"
      ]
    },
    {
      "cell_type": "code",
      "execution_count": null,
      "metadata": {
        "collapsed": false
      },
      "outputs": [],
      "source": [
        "data_Ni = data.split()[0]\n\nplt.figure(figsize=(4.25, 3.0))\nax = plt.subplot(projection=\"csdm\")\ncb = ax.imshow(data_Ni / data_Ni.max(), aspect=\"auto\", cmap=\"gist_ncar_r\")\nplt.title(None)\nplt.colorbar(cb)\nplt.tight_layout()\nplt.show()"
      ]
    },
    {
      "cell_type": "markdown",
      "metadata": {},
      "source": [
        "The plot of the simulation after signal processing.\n\n"
      ]
    },
    {
      "cell_type": "code",
      "execution_count": null,
      "metadata": {
        "collapsed": false
      },
      "outputs": [],
      "source": [
        "proc_data_Ni = processed_data.split()[0]\n\nplt.figure(figsize=(4.25, 3.0))\nax = plt.subplot(projection=\"csdm\")\ncb = ax.imshow(proc_data_Ni / proc_data_Ni.max(), cmap=\"gist_ncar_r\", aspect=\"auto\")\nplt.title(None)\nplt.colorbar(cb)\nplt.tight_layout()\nplt.show()"
      ]
    },
    {
      "cell_type": "markdown",
      "metadata": {},
      "source": [
        "Let's plot all the simulated datasets.\n\n"
      ]
    },
    {
      "cell_type": "code",
      "execution_count": null,
      "metadata": {
        "collapsed": false
      },
      "outputs": [],
      "source": [
        "fig, ax = plt.subplots(\n    2, 5, sharex=True, sharey=True, figsize=(12, 5.5), subplot_kw={\"projection\": \"csdm\"}\n)\nfor i, data_obj in enumerate([data, processed_data]):\n    for j, datum in enumerate(data_obj.split()):\n        ax[i, j].imshow(datum / datum.max(), aspect=\"auto\", cmap=\"gist_ncar_r\")\n        ax[i, j].invert_xaxis()\n        ax[i, j].invert_yaxis()\n\nplt.tight_layout()\nplt.show()"
      ]
    },
    {
      "cell_type": "markdown",
      "metadata": {},
      "source": [
        ".. [#f1] Walder B.J, Patterson A.M., Baltisberger J.H, and Grandinetti P.J\n      Hydrogen motional disorder in crystalline iron group chloride dihydrates\n      spectroscopy, J. Chem. Phys. (2018)  **149**, 084503.\n      `DOI: 10.1063/1.5037151 <https://doi.org/10.1063/1.5037151>`_\n\n"
      ]
    }
  ],
  "metadata": {
    "kernelspec": {
      "display_name": "Python 3",
      "language": "python",
      "name": "python3"
    },
    "language_info": {
      "codemirror_mode": {
        "name": "ipython",
        "version": 3
      },
      "file_extension": ".py",
      "mimetype": "text/x-python",
      "name": "python",
      "nbconvert_exporter": "python",
      "pygments_lexer": "ipython3",
      "version": "3.9.2"
    }
  },
  "nbformat": 4,
  "nbformat_minor": 0
}