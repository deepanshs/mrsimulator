{
  "cells": [
    {
      "cell_type": "code",
      "execution_count": null,
      "metadata": {
        "collapsed": false
      },
      "outputs": [],
      "source": [
        "# This cell is added by sphinx-gallery\n\n%matplotlib inline\n\nimport mrsimulator\nprint(f'You are using mrsimulator v{mrsimulator.__version__}')"
      ]
    },
    {
      "cell_type": "markdown",
      "metadata": {},
      "source": [
        "\n# Rb2SO4, 87Rb (I=3/2) SAS\n\n87Rb (I=3/2) Switched-angle spinning (SAS) simulation.\n"
      ]
    },
    {
      "cell_type": "markdown",
      "metadata": {},
      "source": [
        "The following is an example of switched-angle spinning (SAS) simulation of\n$\\text{Rb}_2\\text{SO}_4$, which has two distinct rubidium sites. The NMR tensor\nparameters for these sites are taken from Shore `et. al.` [#f1]_.\n\n"
      ]
    },
    {
      "cell_type": "code",
      "execution_count": null,
      "metadata": {
        "collapsed": false
      },
      "outputs": [],
      "source": [
        "import matplotlib as mpl\nimport matplotlib.pyplot as plt\nimport mrsimulator.signal_processing as sp\nimport mrsimulator.signal_processing.apodization as apo\nfrom mrsimulator import Simulator, SpinSystem, Site\nfrom mrsimulator.methods import Method2D\n\n# global plot configuration\nfont = {\"size\": 9}\nmpl.rc(\"font\", **font)\nmpl.rcParams[\"figure.figsize\"] = [4.25, 3.0]"
      ]
    },
    {
      "cell_type": "markdown",
      "metadata": {},
      "source": [
        "Generate the site and spin system objects.\n\n"
      ]
    },
    {
      "cell_type": "code",
      "execution_count": null,
      "metadata": {
        "collapsed": false
      },
      "outputs": [],
      "source": [
        "sites = [\n    Site(\n        isotope=\"87Rb\",\n        isotropic_chemical_shift=16,  # in ppm\n        quadrupolar={\"Cq\": 5.3e6, \"eta\": 0.1},  # Cq in Hz\n    ),\n    Site(\n        isotope=\"87Rb\",\n        isotropic_chemical_shift=40,  # in ppm\n        quadrupolar={\"Cq\": 2.6e6, \"eta\": 1.0},  # Cq in Hz\n    ),\n]\nspin_systems = [SpinSystem(sites=[s]) for s in sites]"
      ]
    },
    {
      "cell_type": "markdown",
      "metadata": {},
      "source": [
        "Use the generic 2D method, `Method2D`, to simulate a SAS spectrum by customizing the\nmethod parameters, as shown below. Note, the Method2D method simulates an infinite\nspinning speed spectrum.\n\n"
      ]
    },
    {
      "cell_type": "code",
      "execution_count": null,
      "metadata": {
        "collapsed": false
      },
      "outputs": [],
      "source": [
        "sas = Method2D(\n    channels=[\"87Rb\"],\n    magnetic_flux_density=9.4,  # in T\n    spectral_dimensions=[\n        {\n            \"count\": 256,\n            \"spectral_width\": 3.5e4,  # in Hz\n            \"reference_offset\": 1e3,  # in Hz\n            \"label\": \"90 dimension\",\n            \"events\": [\n                {\n                    \"rotor_angle\": 90 * 3.14159 / 180,\n                    \"transition_query\": {\"P\": [-1], \"D\": [0]},\n                }\n            ],  # in radians\n        },\n        {\n            \"count\": 256,\n            \"spectral_width\": 22e3,  # in Hz\n            \"reference_offset\": -4e3,  # in Hz\n            \"label\": \"MAS dimension\",\n            \"events\": [\n                {\n                    \"rotor_angle\": 54.74 * 3.14159 / 180,\n                    \"transition_query\": {\"P\": [-1], \"D\": [0]},\n                }\n            ],  # in radians\n        },\n    ],\n)"
      ]
    },
    {
      "cell_type": "markdown",
      "metadata": {},
      "source": [
        "Create the Simulator object, add the method and spin system objects, and\nrun the simulation.\n\n"
      ]
    },
    {
      "cell_type": "code",
      "execution_count": null,
      "metadata": {
        "collapsed": false
      },
      "outputs": [],
      "source": [
        "sim = Simulator()\nsim.spin_systems = spin_systems  # add the spin systems\nsim.methods = [sas]  # add the method.\nsim.run()"
      ]
    },
    {
      "cell_type": "markdown",
      "metadata": {},
      "source": [
        "The plot of the simulation.\n\n"
      ]
    },
    {
      "cell_type": "code",
      "execution_count": null,
      "metadata": {
        "collapsed": false
      },
      "outputs": [],
      "source": [
        "data = sim.methods[0].simulation\nax = plt.subplot(projection=\"csdm\")\ncb = ax.imshow(data / data.max(), aspect=\"auto\", cmap=\"gist_ncar_r\")\nplt.colorbar(cb)\nax.invert_xaxis()\nplt.tight_layout()\nplt.show()"
      ]
    },
    {
      "cell_type": "markdown",
      "metadata": {},
      "source": [
        "Add post-simulation signal processing.\n\n"
      ]
    },
    {
      "cell_type": "code",
      "execution_count": null,
      "metadata": {
        "collapsed": false
      },
      "outputs": [],
      "source": [
        "processor = sp.SignalProcessor(\n    operations=[\n        # Gaussian convolution along both dimensions.\n        sp.IFFT(dim_index=(0, 1)),\n        apo.Gaussian(FWHM=\"0.4 kHz\", dim_index=0),\n        apo.Gaussian(FWHM=\"0.4 kHz\", dim_index=1),\n        sp.FFT(dim_index=(0, 1)),\n    ]\n)\nprocessed_data = processor.apply_operations(data=data)\nprocessed_data /= processed_data.max()"
      ]
    },
    {
      "cell_type": "markdown",
      "metadata": {},
      "source": [
        "The plot of the simulation after signal processing.\n\n"
      ]
    },
    {
      "cell_type": "code",
      "execution_count": null,
      "metadata": {
        "collapsed": false
      },
      "outputs": [],
      "source": [
        "ax = plt.subplot(projection=\"csdm\")\ncb = ax.imshow(processed_data.real, cmap=\"gist_ncar_r\", aspect=\"auto\")\nplt.colorbar(cb)\nax.invert_xaxis()\nplt.tight_layout()\nplt.show()"
      ]
    },
    {
      "cell_type": "markdown",
      "metadata": {},
      "source": [
        ".. [#f1] Shore, J.S., Wang, S.H., Taylor, R.E., Bell, A.T., Pines, A. Determination of\n      quadrupolar and chemical shielding tensors using solid-state two-dimensional NMR\n      spectroscopy, J. Chem. Phys. (1996)  **105** *21*, 9412.\n      `DOI: 10.1063/1.472776 <https://doi.org/10.1063/1.472776>`_\n\n"
      ]
    }
  ],
  "metadata": {
    "kernelspec": {
      "display_name": "Python 3",
      "language": "python",
      "name": "python3"
    },
    "language_info": {
      "codemirror_mode": {
        "name": "ipython",
        "version": 3
      },
      "file_extension": ".py",
      "mimetype": "text/x-python",
      "name": "python",
      "nbconvert_exporter": "python",
      "pygments_lexer": "ipython3",
      "version": "3.8.5"
    }
  },
  "nbformat": 4,
  "nbformat_minor": 0
}