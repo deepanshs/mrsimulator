{
  "cells": [
    {
      "cell_type": "code",
      "execution_count": null,
      "metadata": {
        "collapsed": false
      },
      "outputs": [],
      "source": [
        "# This cell is added by sphinx-gallery\n!pip install mrsimulator --quiet\n\n\n%matplotlib inline\n\nimport mrsimulator\nprint(f'You are using mrsimulator v{mrsimulator.__version__}')"
      ]
    },
    {
      "cell_type": "markdown",
      "metadata": {},
      "source": [
        "\n# Ethanol Revisited (\u00b9H and \u00b9\u00b3C NMR)\n\nSimulating \u00b9H and \u00b9\u00b3C isotopomers.\n"
      ]
    },
    {
      "cell_type": "markdown",
      "metadata": {},
      "source": [
        "An astute observer may have noticed that the $^{1}\\text{H}$ ethanol spectrum\nfrom `getting_started_coupled_spin_system_etoh` was missing the characteristic\n$^{13}\\text{C}$\n`satellite peaks <https://en.wikipedia.org/wiki/Carbon-13_NMR_satellite>`_.\nIn this example, we will add these to the $^1\\text{H}$ spectrum and plot\nthe $^{13}\\text{C}$ spectrum while we're at it!\n\nAs before, we start by importing the necessary packages.\n\n"
      ]
    },
    {
      "cell_type": "code",
      "execution_count": null,
      "metadata": {
        "collapsed": false
      },
      "outputs": [],
      "source": [
        "import matplotlib.pyplot as plt\n\nfrom mrsimulator import Simulator, SpinSystem, Site, Coupling\nfrom mrsimulator.methods import BlochDecaySpectrum\nfrom mrsimulator import signal_processing as sp"
      ]
    },
    {
      "cell_type": "markdown",
      "metadata": {},
      "source": [
        "## Spin Systems\n\nThe satellite peaks come from couplings between $^{1}\\text{H}$ and\n$^{13}\\text{C}$ in low-abundance isotopomers. First, let's define\nall the possible $^1\\text{H}$ and $^{13}\\text{C}$ sites.\n\n"
      ]
    },
    {
      "cell_type": "code",
      "execution_count": null,
      "metadata": {
        "collapsed": false
      },
      "outputs": [],
      "source": [
        "H_CH3 = Site(isotope=\"1H\", isotropic_chemical_shift=1.226)\nH_CH2 = Site(isotope=\"1H\", isotropic_chemical_shift=2.61)\nH_OH = Site(isotope=\"1H\", isotropic_chemical_shift=3.687)\n\nC_CH3 = Site(isotope=\"13C\", isotropic_chemical_shift=18)\nC_CH2 = Site(isotope=\"13C\", isotropic_chemical_shift=58)"
      ]
    },
    {
      "cell_type": "markdown",
      "metadata": {},
      "source": [
        "**Isotopomer 1**\n\nNow, let's define the couplings and build the spin system for the most abundant\nisotopomer (pictured below).\n\n.. figure::  ../../_static/iso1.*\n    :width: 200\n    :alt: figure\n    :align: center\n\n    An isotopomer of ethanol containing all $^{1}\\text{H}$ and all\n    $^{12}\\text{C}$ isotopes.\n\n\n"
      ]
    },
    {
      "cell_type": "code",
      "execution_count": null,
      "metadata": {
        "collapsed": false
      },
      "outputs": [],
      "source": [
        "iso1_sites = [H_CH3, H_CH3, H_CH3, H_CH2, H_CH2, H_OH]\n\nHH_coupling_1 = Coupling(site_index=[0, 3], isotropic_j=7)\nHH_coupling_2 = Coupling(site_index=[0, 4], isotropic_j=7)\nHH_coupling_3 = Coupling(site_index=[1, 3], isotropic_j=7)\nHH_coupling_4 = Coupling(site_index=[1, 4], isotropic_j=7)\nHH_coupling_5 = Coupling(site_index=[2, 3], isotropic_j=7)\nHH_coupling_6 = Coupling(site_index=[2, 4], isotropic_j=7)\n\niso1_couplings = [\n    HH_coupling_1,\n    HH_coupling_2,\n    HH_coupling_3,\n    HH_coupling_4,\n    HH_coupling_5,\n    HH_coupling_6,\n]\n\nisotopomer1 = SpinSystem(sites=iso1_sites, couplings=iso1_couplings, abundance=97.812)"
      ]
    },
    {
      "cell_type": "markdown",
      "metadata": {},
      "source": [
        "<div class=\"alert alert-info\"><h4>Note</h4><p>The abundance values were calculated with an assumption that only\n    $^1\\text{H}$ and $^{16}\\text{O}$ are present.  The abundance\n    of $^{12}\\text{C}$ is 98.9%, and the abundance of $^{13}\\text{C}$\n    is 1.1%. So, the probability of the most abundant isotopomer is\n    $0.989 \\times 0.989=0.97812$</p></div>\n\n**Isotopomer 2**\n\nNow, we build the sites, couplings ($^1J_\\text{CH}$ and\n$^3J_\\text{HH}$), and spin system for the isotopomer with the\nmethyl carbon replaced with a $^{13}\\text{C}$ (pictured below,\n$^{13}\\text{C}$ marked in blue)\n\n.. figure::  ../../_static/iso2.*\n    :width: 200\n    :alt: figure\n    :align: center\n\n    Second isotopomer of ethanol containing all $^{1}\\text{H}$,\n    $^{13}\\text{C}$ methyl, and $^{12}\\text{C}$ methylene isotopes.\n\n"
      ]
    },
    {
      "cell_type": "code",
      "execution_count": null,
      "metadata": {
        "collapsed": false
      },
      "outputs": [],
      "source": [
        "iso2_sites = [H_CH3, H_CH3, H_CH3, H_CH2, H_CH2, H_OH, C_CH3]\n\nCH3_coupling_1 = Coupling(site_index=[0, 6], isotropic_j=125)\nCH3_coupling_2 = Coupling(site_index=[1, 6], isotropic_j=125)\nCH3_coupling_3 = Coupling(site_index=[2, 6], isotropic_j=125)\n\niso2_couplings = iso1_couplings + [CH3_coupling_1, CH3_coupling_2, CH3_coupling_3]\n\nisotopomer2 = SpinSystem(sites=iso2_sites, couplings=iso2_couplings, abundance=1.088)"
      ]
    },
    {
      "cell_type": "markdown",
      "metadata": {},
      "source": [
        "**Isotopomer 3**\n\nLastly, we build the sites, couplings, and spin system for the other\nisotopomer with the methylene carbon replaced with $^{13}\\text{C}$ (pictured\nbelow, $^{13}\\text{C}$ marked in blue)\n\n.. figure::  ../../_static/iso3.*\n    :width: 200\n    :alt: figure\n    :align: center\n\n    Third isotopomer of ethanol containing all $^{1}\\text{H}$,\n    $^{12}\\text{C}$ methyl, and $^{13}\\text{C}$ methylene isotopes.\n\n"
      ]
    },
    {
      "cell_type": "code",
      "execution_count": null,
      "metadata": {
        "collapsed": false
      },
      "outputs": [],
      "source": [
        "iso3_sites = [H_CH3, H_CH3, H_CH3, H_CH2, H_CH2, H_OH, C_CH2]\n\nCH2_coupling_1 = Coupling(site_index=[3, 6], isotropic_j=141)\nCH2_coupling_2 = Coupling(site_index=[4, 6], isotropic_j=141)\n\niso3_couplings = iso1_couplings + [CH2_coupling_1, CH2_coupling_2]\n\nisotopomer3 = SpinSystem(sites=iso3_sites, couplings=iso3_couplings, abundance=1.088)"
      ]
    },
    {
      "cell_type": "markdown",
      "metadata": {},
      "source": [
        "## Methods\n\nNow, we define simple 1 pulse-acquire methods for both $^1\\text{H}$ and\n$^{13}\\text{C}$.\n\n"
      ]
    },
    {
      "cell_type": "code",
      "execution_count": null,
      "metadata": {
        "collapsed": false
      },
      "outputs": [],
      "source": [
        "method_H = BlochDecaySpectrum(\n    channels=[\"1H\"],\n    magnetic_flux_density=9.4,  # T\n    spectral_dimensions=[\n        {\n            \"count\": 16000,\n            \"spectral_width\": 1.5e3,\n            \"reference_offset\": 950,\n            \"label\": \"$^{1}$H frequency\",\n        }\n    ],\n)\n\nmethod_C = BlochDecaySpectrum(\n    channels=[\"13C\"],\n    magnetic_flux_density=9.4,  # T\n    spectral_dimensions=[\n        {\n            \"count\": 32000,\n            \"spectral_width\": 8e3,\n            \"reference_offset\": 4e3,\n            \"label\": \"$^{13}$C frequency\",\n        }\n    ],\n)"
      ]
    },
    {
      "cell_type": "markdown",
      "metadata": {},
      "source": [
        "## Simulation\n\nNow, we create an instance of the simulator object, add our three spin\nsystems, add our two methods, and run the simulation.\n\n"
      ]
    },
    {
      "cell_type": "code",
      "execution_count": null,
      "metadata": {
        "collapsed": false
      },
      "outputs": [],
      "source": [
        "spin_systems = [isotopomer1, isotopomer2, isotopomer3]\nmethods = [method_H, method_C]\nsim = Simulator(spin_systems=spin_systems, methods=methods)\nsim.run()"
      ]
    },
    {
      "cell_type": "markdown",
      "metadata": {},
      "source": [
        "Let's set up our post-simulation processing.\n\n"
      ]
    },
    {
      "cell_type": "code",
      "execution_count": null,
      "metadata": {
        "collapsed": false
      },
      "outputs": [],
      "source": [
        "processor_1H = sp.SignalProcessor(\n    operations=[\n        sp.IFFT(),\n        sp.apodization.Exponential(FWHM=\"1 Hz\"),\n        sp.FFT(),\n    ]\n)\n\nprocessor_13C = sp.SignalProcessor(\n    operations=[\n        sp.IFFT(),\n        sp.apodization.Exponential(FWHM=\"20 Hz\"),\n        sp.FFT(),\n    ]\n)"
      ]
    },
    {
      "cell_type": "markdown",
      "metadata": {},
      "source": [
        "Now, let's get our two datasets out of the simulation object and apply the\npost-processing.\n\n"
      ]
    },
    {
      "cell_type": "code",
      "execution_count": null,
      "metadata": {
        "collapsed": false
      },
      "outputs": [],
      "source": [
        "H_data = sim.methods[0].simulation\nC_data = sim.methods[1].simulation\n\nprocessed_H_data = processor_1H.apply_operations(data=H_data)\nprocessed_C_data = processor_13C.apply_operations(data=C_data)"
      ]
    },
    {
      "cell_type": "markdown",
      "metadata": {},
      "source": [
        "Lastly, we plot the two spectra.\n\n"
      ]
    },
    {
      "cell_type": "code",
      "execution_count": null,
      "metadata": {
        "collapsed": false
      },
      "outputs": [],
      "source": [
        "fig, ax = plt.subplots(\n    nrows=1, ncols=2, subplot_kw={\"projection\": \"csdm\"}, figsize=[8, 3.5]\n)\n\nax[0].plot(processed_H_data.real, color=\"black\", linewidth=0.5)\nax[0].invert_xaxis()\nax[0].set_title(\"$^1$H\")\n\nax[1].plot(processed_C_data.real, color=\"black\", linewidth=0.5)\nax[1].invert_xaxis()\nax[1].set_title(\"$^{13}$C\")\n\nplt.tight_layout()\nplt.show()"
      ]
    },
    {
      "cell_type": "markdown",
      "metadata": {},
      "source": [
        "Now, we see the $^{13}\\text{C}$ satellites on either side of the peaks near\n1.2 ppm and 2.6 ppm in the $^1\\text{H}$ spectrum.\n\n"
      ]
    }
  ],
  "metadata": {
    "kernelspec": {
      "display_name": "Python 3",
      "language": "python",
      "name": "python3"
    },
    "language_info": {
      "codemirror_mode": {
        "name": "ipython",
        "version": 3
      },
      "file_extension": ".py",
      "mimetype": "text/x-python",
      "name": "python",
      "nbconvert_exporter": "python",
      "pygments_lexer": "ipython3",
      "version": "3.7.10"
    }
  },
  "nbformat": 4,
  "nbformat_minor": 0
}