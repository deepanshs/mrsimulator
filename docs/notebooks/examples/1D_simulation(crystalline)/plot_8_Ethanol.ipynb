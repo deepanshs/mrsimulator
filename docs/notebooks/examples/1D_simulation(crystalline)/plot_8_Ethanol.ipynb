{
  "cells": [
    {
      "cell_type": "code",
      "execution_count": null,
      "metadata": {
        "collapsed": false
      },
      "outputs": [],
      "source": [
        "# This cell is added by sphinx-gallery\n\n%matplotlib inline\n\nimport mrsimulator\nprint(f'You are using mrsimulator v{mrsimulator.__version__}')"
      ]
    },
    {
      "cell_type": "markdown",
      "metadata": {},
      "source": [
        "\n# Ethanol Revisited\n"
      ]
    },
    {
      "cell_type": "markdown",
      "metadata": {},
      "source": [
        "An astute observer may have noticed that the $^{1}\\text{H}$ ethanol\nspectrum from **The Basics: Coupled Spin System** was missing the\ncharacteristic $^{13}C$ satellite peaks.  In this example, we will add\nthese to the $^1H$ spectrum and also plot the $^{13}C$ spectrum\nwhile we're at it!\n\nWe'll start importing the necessary packages, just like before.\n\n"
      ]
    },
    {
      "cell_type": "code",
      "execution_count": null,
      "metadata": {
        "collapsed": false
      },
      "outputs": [],
      "source": [
        "import matplotlib.pyplot as plt\nfrom mrsimulator import Simulator, SpinSystem, Site, Coupling\nfrom mrsimulator.methods import BlochDecaySpectrum\nimport mrsimulator.signal_processing as sp\nimport mrsimulator.signal_processing.apodization as apo"
      ]
    },
    {
      "cell_type": "markdown",
      "metadata": {},
      "source": [
        "**Spin Systems**\n\nThe satellite peaks come from low-abundance isotopomers that have one\n$^{13}\\text{C}$` in them, causing more splittings.  First, let's define\nall the possible $^1H$ and $^{13}C$ sites.\n\n"
      ]
    },
    {
      "cell_type": "code",
      "execution_count": null,
      "metadata": {
        "collapsed": false
      },
      "outputs": [],
      "source": [
        "H_CH3 = Site(isotope=\"1H\", isotropic_chemical_shift=1.226)\nH_CH2 = Site(isotope=\"1H\", isotropic_chemical_shift=2.61)\nH_OH = Site(isotope=\"1H\", isotropic_chemical_shift=3.687)\n\nC_CH3 = Site(isotope=\"13C\", isotropic_chemical_shift=18)\nC_CH2 = Site(isotope=\"13C\", isotropic_chemical_shift=58)"
      ]
    },
    {
      "cell_type": "markdown",
      "metadata": {},
      "source": [
        "Now, let's define the couplings and build the spin system for the most\nabundant isotopomer (pictured below).\n\n<img src=\"file://../../_static/iso1.*\" width=\"200\" alt=\"figure\">\n\n"
      ]
    },
    {
      "cell_type": "code",
      "execution_count": null,
      "metadata": {
        "collapsed": false
      },
      "outputs": [],
      "source": [
        "iso1_sites = [H_CH3, H_CH3, H_CH3, H_CH2, H_CH2, H_OH]\n\nHH_coupling_1 = Coupling(site_index=[0, 3], isotropic_j=7)\nHH_coupling_2 = Coupling(site_index=[0, 4], isotropic_j=7)\nHH_coupling_3 = Coupling(site_index=[1, 3], isotropic_j=7)\nHH_coupling_4 = Coupling(site_index=[1, 4], isotropic_j=7)\nHH_coupling_5 = Coupling(site_index=[2, 3], isotropic_j=7)\nHH_coupling_6 = Coupling(site_index=[2, 4], isotropic_j=7)\n\niso1_couplings = [\n    HH_coupling_1,\n    HH_coupling_2,\n    HH_coupling_3,\n    HH_coupling_4,\n    HH_coupling_5,\n    HH_coupling_6,\n]\n\niso1 = SpinSystem(sites=iso1_sites, couplings=iso1_couplings, abundance=97.812)"
      ]
    },
    {
      "cell_type": "markdown",
      "metadata": {},
      "source": [
        "A note about abundance: these values were calculated using basic rules of\nprobability and an assumption that only $^1H$ and $^{16}O$ are\npresent. The abundance of $^{12}C$ is 98.9% and the abundance of\n$^{13}C$ is 1.1%. So, the probablity of the most abundant isotopomer\nis $0.989*0.989=0.97812$\n\nNow, we build the sites, couplings ($^1J_{CH}$ and $^3J_{HH}$),\nand spin system for the isotopomer with the methyl carbon replaced with a\n$^{13}C$ (pictured below, $^{13}C$ marked in blue)\n\n\n<img src=\"file://../../_static/iso2.*\" width=\"200\" alt=\"figure\">\n\n"
      ]
    },
    {
      "cell_type": "code",
      "execution_count": null,
      "metadata": {
        "collapsed": false
      },
      "outputs": [],
      "source": [
        "iso2_sites = [H_CH3, H_CH3, H_CH3, H_CH2, H_CH2, H_OH, C_CH3]\n\nCH3_coupling_1 = Coupling(site_index=[0, 6], isotropic_j=125)\nCH3_coupling_2 = Coupling(site_index=[1, 6], isotropic_j=125)\nCH3_coupling_3 = Coupling(site_index=[2, 6], isotropic_j=125)\n\niso2_couplings = iso1_couplings + [CH3_coupling_1, CH3_coupling_2, CH3_coupling_3]\n\niso2 = SpinSystem(sites=iso2_sites, couplings=iso2_couplings, abundance=1.088)"
      ]
    },
    {
      "cell_type": "markdown",
      "metadata": {},
      "source": [
        "Lastly, we build the sites, couplings, and spin system for the other\nisotopomer with the methylene carbon replaced with $^{13}C$ (pictured\nbelow, $^{13}C$ marked in blue)\n\n<img src=\"file://../../_static/iso3.*\" width=\"200\" alt=\"figure\">\n\n"
      ]
    },
    {
      "cell_type": "code",
      "execution_count": null,
      "metadata": {
        "collapsed": false
      },
      "outputs": [],
      "source": [
        "iso3_sites = [H_CH3, H_CH3, H_CH3, H_CH2, H_CH2, H_OH, C_CH2]\n\nCH2_coupling_1 = Coupling(site_index=[3, 6], isotropic_j=141)\nCH2_coupling_2 = Coupling(site_index=[4, 6], isotropic_j=141)\n\niso3_couplings = iso1_couplings + [CH2_coupling_1, CH2_coupling_2]\n\niso3 = SpinSystem(sites=iso3_sites, couplings=iso3_couplings, abundance=1.085)"
      ]
    },
    {
      "cell_type": "markdown",
      "metadata": {},
      "source": [
        "**Methods**\n\nNow, we define simple 1 pulse-acquire methods for both $^1H$ and\n$^{13}C$.\n\n"
      ]
    },
    {
      "cell_type": "code",
      "execution_count": null,
      "metadata": {
        "collapsed": false
      },
      "outputs": [],
      "source": [
        "method_H = BlochDecaySpectrum(\n    channels=[\"1H\"],\n    magnetic_flux_density=9.4,  # T\n    spectral_dimensions=[\n        {\"count\": 16000, \"spectral_width\": 1.5e3, \"reference_offset\": 950}  # in Hz\n    ],\n)  # in Hz\n\nmethod_C = BlochDecaySpectrum(\n    channels=[\"13C\"],\n    magnetic_flux_density=9.4,  # T\n    spectral_dimensions=[\n        {\"count\": 32000, \"spectral_width\": 8e3, \"reference_offset\": 4e3}\n    ],\n)"
      ]
    },
    {
      "cell_type": "markdown",
      "metadata": {},
      "source": [
        "**Simulation**\n\nNow, we create an instance of the simulator object, add our three spin\nsystems, add our two methods, and run the simulation.\n\n"
      ]
    },
    {
      "cell_type": "code",
      "execution_count": null,
      "metadata": {
        "collapsed": false
      },
      "outputs": [],
      "source": [
        "sim = Simulator()\nsim.spin_systems = [iso1, iso2, iso3]\nsim.methods = [method_H, method_C]\nsim.run()"
      ]
    },
    {
      "cell_type": "markdown",
      "metadata": {},
      "source": [
        "Let's set up our post-simulation processing.\n\n"
      ]
    },
    {
      "cell_type": "code",
      "execution_count": null,
      "metadata": {
        "collapsed": false
      },
      "outputs": [],
      "source": [
        "processor = sp.SignalProcessor(\n    operations=[\n        sp.IFFT(),\n        apo.Exponential(FWHM=\"1 Hz\"),\n        sp.FFT(),\n    ]\n)"
      ]
    },
    {
      "cell_type": "markdown",
      "metadata": {},
      "source": [
        "Now, let's get our two datasets out of the simulation object and apply the\npost-processing\n\n"
      ]
    },
    {
      "cell_type": "code",
      "execution_count": null,
      "metadata": {
        "collapsed": false
      },
      "outputs": [],
      "source": [
        "H_data = sim.methods[0].simulation\nC_data = sim.methods[1].simulation\n\nprocessed_H_data = processor.apply_operations(data=H_data)\nprocessed_C_data = processor.apply_operations(data=C_data)"
      ]
    },
    {
      "cell_type": "markdown",
      "metadata": {},
      "source": [
        "Lastly, we plot the two spectra!\n\n"
      ]
    },
    {
      "cell_type": "code",
      "execution_count": null,
      "metadata": {
        "collapsed": false
      },
      "outputs": [],
      "source": [
        "fig, ax = plt.subplots(\n    nrows=1, ncols=2, subplot_kw={\"projection\": \"csdm\"}, figsize=[8, 4]\n)\n\nax[0].plot(\n    processed_H_data.real,\n    color=\"black\",\n    linewidth=0.5,\n)\nax[0].invert_xaxis()\nax[0].set_title(\"$^1H$\")\n\nax[1].plot(\n    processed_C_data.real,\n    color=\"black\",\n    linewidth=1,\n)\nax[1].invert_xaxis()\nax[1].set_title(\"$^{13}C$\")\n\nplt.tight_layout()\nplt.show()"
      ]
    },
    {
      "cell_type": "markdown",
      "metadata": {},
      "source": [
        "Now, we see the $^{13}C$ satellites on either side of the peaks near 1.2\nppm and 2.6 ppm in the $^1H$ spectrum.\n\n"
      ]
    }
  ],
  "metadata": {
    "kernelspec": {
      "display_name": "Python 3",
      "language": "python",
      "name": "python3"
    },
    "language_info": {
      "codemirror_mode": {
        "name": "ipython",
        "version": 3
      },
      "file_extension": ".py",
      "mimetype": "text/x-python",
      "name": "python",
      "nbconvert_exporter": "python",
      "pygments_lexer": "ipython3",
      "version": "3.8.8"
    }
  },
  "nbformat": 4,
  "nbformat_minor": 0
}