{
  "cells": [
    {
      "cell_type": "code",
      "execution_count": null,
      "metadata": {
        "collapsed": false
      },
      "outputs": [],
      "source": [
        "# This cell is added by sphinx-gallery\n\n%matplotlib inline\n\nimport mrsimulator\nprint(f'You are using mrsimulator v{mrsimulator.__version__}')"
      ]
    },
    {
      "cell_type": "markdown",
      "metadata": {},
      "source": [
        "\n# Coupled spin-1/2 (CSA + heteronuclear dipolar + J-couplings)\n\n13C-1H sideband simulation\n"
      ]
    },
    {
      "cell_type": "markdown",
      "metadata": {},
      "source": [
        "The following simulation is an example by Ed\u00e9n [#f1]_ from `Computer Simulations in\nSolid-State NMR.III.Powder Averaging`. The simulation consists of sideband spectra\nfrom a 13C-1H coupled spin system computed at various spinning frequencies with\ndifferent relative tensor orientations between the nuclear shielding and dipolar\ninteraction tensors.\n\n"
      ]
    },
    {
      "cell_type": "code",
      "execution_count": null,
      "metadata": {
        "collapsed": false
      },
      "outputs": [],
      "source": [
        "import matplotlib.pyplot as plt\nfrom mrsimulator import Simulator, SpinSystem\nfrom mrsimulator.methods import BlochDecaySpectrum\nimport mrsimulator.signal_processing as sp\nimport mrsimulator.signal_processing.apodization as apo\nimport numpy as np"
      ]
    },
    {
      "cell_type": "markdown",
      "metadata": {},
      "source": [
        "**Spin Systems**\n\nHere, we create three 13C-1H spin systems with different relative orientations\nbetween the shielding and dipolar tensors. The Euler angle orientations\n$\\alpha=\\gamma=0$ and $\\beta$ values are listed below.\n\n"
      ]
    },
    {
      "cell_type": "code",
      "execution_count": null,
      "metadata": {
        "collapsed": false
      },
      "outputs": [],
      "source": [
        "beta_orientation = [np.pi / 6, 5 * np.pi / 18, np.pi / 2]\n\n# The `variable` spin_systems is a list of three coupled 13C-1H spin systems with\n# different relative shielding and dipolar tensor orientation.\nspin_systems = [\n    SpinSystem(\n        sites=[\n            {\n                \"isotope\": \"13C\",\n                \"isotropic_chemical_shift\": 0.0,  # in ppm\n                \"shielding_symmetric\": {\n                    \"zeta\": 18.87562,  # in ppm\n                    \"eta\": 0.4,\n                    \"beta\": beta,\n                },\n            },\n            {\n                \"isotope\": \"1H\",\n                \"isotropic_chemical_shift\": 0.0,  # in ppm\n            },\n        ],\n        couplings=[\n            {\"site_index\": [0, 1], \"isotropic_j\": 200.0, \"dipolar\": {\"D\": -2.1e4}}\n        ],\n    )\n    for beta in beta_orientation\n]"
      ]
    },
    {
      "cell_type": "markdown",
      "metadata": {},
      "source": [
        "**Methods**\n\nNext, we create methods to simulate the sideband manifolds for the above spin\nsystems at four spinning rates: 3 kHz, 5 kHz, 8 kHz, 12 kHz.\n\n"
      ]
    },
    {
      "cell_type": "code",
      "execution_count": null,
      "metadata": {
        "collapsed": false
      },
      "outputs": [],
      "source": [
        "spin_rates = [3e3, 5e3, 8e3, 12e3]  # in Hz\n\n# The variable `methods` is a list of four BlochDecaySpectrum methods.\nmethods = [\n    BlochDecaySpectrum(\n        channels=[\"13C\"],\n        magnetic_flux_density=9.4,  # in T\n        rotor_frequency=vr,  # in Hz\n        spectral_dimensions=[{\"count\": 2048, \"spectral_width\": 8.0e4}],\n    )\n    for vr in spin_rates\n]"
      ]
    },
    {
      "cell_type": "markdown",
      "metadata": {},
      "source": [
        "**Simulator**\n\nCreate the Simulator object and add the method and the spin system objects.\n\n"
      ]
    },
    {
      "cell_type": "code",
      "execution_count": null,
      "metadata": {
        "collapsed": false
      },
      "outputs": [],
      "source": [
        "sim = Simulator()\nsim.spin_systems += spin_systems  # add the three spin systems\nsim.methods += methods  # add the four methods\nsim.config.integration_volume = \"hemisphere\"  # set averaging to hemisphere\n# decompose spectrum to individual spin systems.\nsim.config.decompose_spectrum = \"spin_system\""
      ]
    },
    {
      "cell_type": "markdown",
      "metadata": {},
      "source": [
        "The run command will simulate twelve spectra corresponding to the three spin systems\nevaluated at four different methods (spinning speeds).\n\n"
      ]
    },
    {
      "cell_type": "code",
      "execution_count": null,
      "metadata": {
        "collapsed": false
      },
      "outputs": [],
      "source": [
        "sim.run()"
      ]
    },
    {
      "cell_type": "markdown",
      "metadata": {},
      "source": [
        "**Post-Simulation Processing**\n\nAdd post-simulation signal processing.\n\n"
      ]
    },
    {
      "cell_type": "code",
      "execution_count": null,
      "metadata": {
        "collapsed": false
      },
      "outputs": [],
      "source": [
        "processor = sp.SignalProcessor(\n    operations=[\n        sp.IFFT(),\n        apo.Exponential(FWHM=\"50 Hz\"),\n        sp.FFT(),\n    ]\n)\n# apply the same post-simulation processing to all the twelve simulations.\nprocessed_data = [\n    processor.apply_operations(data=method.simulation) for method in sim.methods\n]"
      ]
    },
    {
      "cell_type": "markdown",
      "metadata": {},
      "source": [
        "**Plot**\n\nLet's first plot a single simulation, the one corresponding to a relative orientation\nof $\\beta=30^\\circ$ between the shielding and dipolar tensors and a spinning\nspeed of 3 kHz.\n\n"
      ]
    },
    {
      "cell_type": "code",
      "execution_count": null,
      "metadata": {
        "collapsed": false
      },
      "outputs": [],
      "source": [
        "plt.figure(figsize=[4.5, 3.0])\nax = plt.subplot(projection=\"csdm\")\nax.plot(\n    processed_data[0].split()[0].real,\n    color=\"black\",\n    linewidth=1,\n    label=\"$\\\\nu_r=$3 kHz, \\n $\\\\beta=30^\\\\circ$\",\n)\nax.legend()\nax.invert_xaxis()\nplt.tight_layout()\nplt.show()"
      ]
    },
    {
      "cell_type": "markdown",
      "metadata": {},
      "source": [
        "The following is a grid plot showing all twelve simulations. For reference, see\nFigure 11 from [#f1]_.\n\n"
      ]
    },
    {
      "cell_type": "code",
      "execution_count": null,
      "metadata": {
        "collapsed": false
      },
      "outputs": [],
      "source": [
        "fig, ax = plt.subplots(\n    nrows=4,\n    ncols=3,\n    subplot_kw={\"projection\": \"csdm\"},\n    sharex=True,\n    sharey=True,\n    figsize=[8, 10.0],\n)\nfor i, datum in enumerate(processed_data):\n    datum_spin_sys = datum.split()  # get simulation from the three spin systems.\n    for j, item in enumerate(datum_spin_sys):\n        ax[i, j].plot(\n            item.real,\n            color=\"black\",\n            linewidth=1,\n            label=(\n                f\"$\\\\nu_r={spin_rates[i]/1e3: .0f}$ kHz \\n\"\n                f\"$\\\\beta={beta_orientation[j]/np.pi*180: .0f}^\\\\circ$\"\n            ),\n        )\n        ax[i, j].invert_xaxis()\n        ax[i, j].legend()\nplt.tight_layout()\nplt.show()"
      ]
    },
    {
      "cell_type": "markdown",
      "metadata": {},
      "source": [
        ".. [#f1] Ed\u00e9n, M. Computer Simulations in Solid-State NMR. III. Powder Averaging,\n      Concepts in Magnetic Resonance Part A, Vol. 18A(1) 24\u201355 (2003).\n      `DOI: doi.org/10.1002/cmr.a.10065 <https://doi.org/10.1002/cmr.a.10065>`_\n\n"
      ]
    }
  ],
  "metadata": {
    "kernelspec": {
      "display_name": "Python 3",
      "language": "python",
      "name": "python3"
    },
    "language_info": {
      "codemirror_mode": {
        "name": "ipython",
        "version": 3
      },
      "file_extension": ".py",
      "mimetype": "text/x-python",
      "name": "python",
      "nbconvert_exporter": "python",
      "pygments_lexer": "ipython3",
      "version": "3.8.5"
    }
  },
  "nbformat": 4,
  "nbformat_minor": 0
}