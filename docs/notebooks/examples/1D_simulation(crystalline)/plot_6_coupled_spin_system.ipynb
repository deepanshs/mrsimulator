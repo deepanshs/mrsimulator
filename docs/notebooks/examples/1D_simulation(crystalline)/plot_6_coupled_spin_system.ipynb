{
  "cells": [
    {
      "cell_type": "code",
      "execution_count": null,
      "metadata": {
        "collapsed": false
      },
      "outputs": [],
      "source": [
        "# This cell is added by sphinx-gallery\n\n%matplotlib inline\n\nimport mrsimulator\nprint(f'You are using mrsimulator v{mrsimulator.__version__}')"
      ]
    },
    {
      "cell_type": "markdown",
      "metadata": {},
      "source": [
        "\n# Coupled spins 5/2-9/2 (Quad + J-coupling)\n\n27Al-93Nb spin system spectrum.\n"
      ]
    },
    {
      "cell_type": "code",
      "execution_count": null,
      "metadata": {
        "collapsed": false
      },
      "outputs": [],
      "source": [
        "import matplotlib.pyplot as plt\nfrom mrsimulator import Simulator, SpinSystem\nfrom mrsimulator.methods import BlochDecayCTSpectrum\nimport mrsimulator.signal_processing as sp\nimport mrsimulator.signal_processing.apodization as apo"
      ]
    },
    {
      "cell_type": "markdown",
      "metadata": {},
      "source": [
        "**Spin System**\n\nCreate a 27Al-93Nb coupled spin system.\n\n"
      ]
    },
    {
      "cell_type": "code",
      "execution_count": null,
      "metadata": {
        "collapsed": false
      },
      "outputs": [],
      "source": [
        "spin_system = SpinSystem(\n    sites=[\n        {\n            \"isotope\": \"27Al\",\n            \"isotropic_chemical_shift\": 0.0,  # in ppm\n            \"quadrupolar\": {\"Cq\": 5.0e6, \"eta\": 0.0},  # Cq is in Hz\n        },\n        {\n            \"isotope\": \"93Nb\",\n            \"isotropic_chemical_shift\": 0.0,  # in ppm\n        },\n    ],\n    couplings=[{\"site_index\": [0, 1], \"isotropic_j\": 200.0}],  # j-coupling in Hz\n)"
      ]
    },
    {
      "cell_type": "markdown",
      "metadata": {},
      "source": [
        "**Method**\n\nCreate a central transition selective Bloch decay spectrum method.\n\n"
      ]
    },
    {
      "cell_type": "code",
      "execution_count": null,
      "metadata": {
        "collapsed": false
      },
      "outputs": [],
      "source": [
        "method = BlochDecayCTSpectrum(\n    channels=[\"27Al\"],\n    magnetic_flux_density=9.4,  # in T\n    rotor_frequency=5e3,  # in Hz\n    spectral_dimensions=[\n        {\n            \"count\": 2048,\n            \"spectral_width\": 4.0e4,  # in Hz\n            \"reference_offset\": -2e3,  # in Hz\n        }\n    ],\n)"
      ]
    },
    {
      "cell_type": "markdown",
      "metadata": {},
      "source": [
        "**Simulator**\n\nCreate the Simulator object and add the method and the spin system object.\n\n"
      ]
    },
    {
      "cell_type": "code",
      "execution_count": null,
      "metadata": {
        "collapsed": false
      },
      "outputs": [],
      "source": [
        "sim = Simulator()\nsim.spin_systems += [spin_system]  # add the spin system\nsim.methods += [method]  # add the method\nsim.run()"
      ]
    },
    {
      "cell_type": "markdown",
      "metadata": {},
      "source": [
        "**Post-Simulation Processing**\n\nAdd post-simulation signal processing.\n\n"
      ]
    },
    {
      "cell_type": "code",
      "execution_count": null,
      "metadata": {
        "collapsed": false
      },
      "outputs": [],
      "source": [
        "processor = sp.SignalProcessor(\n    operations=[\n        sp.IFFT(),\n        apo.Exponential(FWHM=\"30 Hz\"),\n        sp.FFT(),\n    ]\n)\nprocessed_data = processor.apply_operations(data=sim.methods[0].simulation)"
      ]
    },
    {
      "cell_type": "markdown",
      "metadata": {},
      "source": [
        "**Plot**\n\nThe plot of the simulation before signal processing.\n\n"
      ]
    },
    {
      "cell_type": "code",
      "execution_count": null,
      "metadata": {
        "collapsed": false
      },
      "outputs": [],
      "source": [
        "plt.figure(figsize=[4.5, 3.0])\nax = plt.subplot(projection=\"csdm\")\nax.plot(processed_data.real, color=\"black\", linewidth=0.5)\nax.invert_xaxis()\nplt.tight_layout()\nplt.show()"
      ]
    }
  ],
  "metadata": {
    "kernelspec": {
      "display_name": "Python 3",
      "language": "python",
      "name": "python3"
    },
    "language_info": {
      "codemirror_mode": {
        "name": "ipython",
        "version": 3
      },
      "file_extension": ".py",
      "mimetype": "text/x-python",
      "name": "python",
      "nbconvert_exporter": "python",
      "pygments_lexer": "ipython3",
      "version": "3.8.5"
    }
  },
  "nbformat": 4,
  "nbformat_minor": 0
}