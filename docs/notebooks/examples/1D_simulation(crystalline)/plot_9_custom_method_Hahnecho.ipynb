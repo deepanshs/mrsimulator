{
  "cells": [
    {
      "cell_type": "code",
      "execution_count": null,
      "metadata": {
        "collapsed": false
      },
      "outputs": [],
      "source": [
        "# This cell is added by sphinx-gallery\n!pip install mrsimulator --quiet\n\n\n%matplotlib inline\n\nimport mrsimulator\nprint(f'You are using mrsimulator v{mrsimulator.__version__}')"
      ]
    },
    {
      "cell_type": "markdown",
      "metadata": {},
      "source": [
        "\n# Writing Custom methods (HahnEcho)\n\nWriting custom methods using the Event objects.\n"
      ]
    },
    {
      "cell_type": "markdown",
      "metadata": {},
      "source": [
        "Import the relevant modules\n\n"
      ]
    },
    {
      "cell_type": "code",
      "execution_count": null,
      "metadata": {
        "collapsed": false
      },
      "outputs": [],
      "source": [
        "import matplotlib.pyplot as plt\nimport numpy as np\n\nfrom mrsimulator import Simulator, SpinSystem, Site, Coupling\nfrom mrsimulator.methods import Method1D\nfrom mrsimulator.method.spectral_dimension import SpectralDimension\nfrom mrsimulator.method.event import MixingEvent, SpectralEvent\nfrom mrsimulator.spin_system.tensors import SymmetricTensor"
      ]
    },
    {
      "cell_type": "markdown",
      "metadata": {},
      "source": [
        "For demonstration, we will create two spin systems, one with a single site and other\nwith two spin 1/2 sites.\n\n"
      ]
    },
    {
      "cell_type": "code",
      "execution_count": null,
      "metadata": {
        "collapsed": false
      },
      "outputs": [],
      "source": [
        "S1 = Site(\n    isotope=\"1H\",\n    isotropic_chemical_shift=10,  # in ppm\n    shielding_symmetric=SymmetricTensor(zeta=-80, eta=0.25),  # zeta in ppm\n)\nS2 = Site(isotope=\"1H\", isotropic_chemical_shift=-10)\nS12 = Coupling(\n    site_index=[0, 1], isotropic_j=100, dipolar=SymmetricTensor(D=2000, eta=0, alpha=0)\n)\n\nspin_system_1 = SpinSystem(sites=[S1], label=\"Uncoupled system\")\nspin_system_2 = SpinSystem(sites=[S1, S2], couplings=[S12], label=\"Coupled system\")"
      ]
    },
    {
      "cell_type": "markdown",
      "metadata": {},
      "source": [
        "**Create a custom method**\n\nWriting a custom method is simply specifying an appropriate list of event objects per\nspectral dimension. In this example, we are interested in a one-dimensional Hahnecho\nmethod, and we use the generic `Method1D` class as a template. For a Hahnecho, we will\nuse two types of Event objects---SpectralEvent and MixingEvent.\n\nA SpectralEvent object is where we sample the frequency contributions. The net\nfrequency along a given spectral dimension is a weighted average of the frequencies\nfrom all SpectralEvent objects within a given SpectralDimension, i.e.,\n\n\\begin{align}f = \\sum_j w_j \\times \\nu_j,\\end{align}\n\nwhere $f$ is the net averaged frequency along a spectral dimension, $w_j$\nis the weight (the attribute ``fraction``), and $\\nu_j$ is the frequency from\nthe $j^\\text{th}$ SpectralEvent. The index $j$ runs over all spectral\nevents within a spectral dimension.\n\nIn the case of a one-dimensional Hahnecho method, the frequency is equally averaged\nover two spectral events, corresponding to the symmetry pathway,\n\n\\begin{align}p = 1 \\rightarrow -1.\\end{align}\n\nIn the following code, we define the two SpectralEvent objects with fraction 0.5 and\nthe transition_query on channel-1 of P=[1] and P=[-1], respectively. Notice, the value\nfor the ``P`` attribute is a list. Here, it is a list with a single integer. The list\nnotation, ``[1]``, implies that the query selects all transitions where exactly one\nspin is undergoing a $p=+1$ transition with the remaining spin at $p=0$.\nA similar argument holds for ``[-1]`` query. By implementing query objects, we\ndecouple the method from the spin system, i.e., once a method is defined, it can be\nused to simulate spectra from any given spin system. We will demonstrate this\nmomentarily by simulating a Hahnecho spectrum from single and two-site spin systems.\n\nBesides the SpectralEvent, you may also notice a MixingEvent sandwitched in-between\nthe two SpectralEvent. A MixingEvent does not directly contribute to the frequencies.\nAs the name suggests, a mixing event is used for the mixing of transitions in a\nmulti-event method such as HahnEcho. In the following code, we define a mixing query\non channel-1 by setting the attributes ``tip_angle`` and ``phase`` to $\\pi$ and\n0, respectively. There two parameters are analogous to the pulse angle and phase.\n\n"
      ]
    },
    {
      "cell_type": "code",
      "execution_count": null,
      "metadata": {
        "collapsed": false
      },
      "outputs": [],
      "source": [
        "hahn_echo = Method1D(\n    channels=[\"1H\"],\n    magnetic_flux_density=9.4,  # in T\n    spectral_dimensions=[\n        SpectralDimension(\n            count=512,\n            spectral_width=2e4,  # in Hz\n            events=[\n                SpectralEvent(fraction=0.5, transition_query=[{\"ch1\": {\"P\": [1]}}]),\n                MixingEvent(mixing_query={\"ch1\": {\"tip_angle\": np.pi, \"phase\": 0}}),\n                SpectralEvent(fraction=0.5, transition_query=[{\"ch1\": {\"P\": [-1]}}]),\n            ],\n        )\n    ],\n)"
      ]
    },
    {
      "cell_type": "markdown",
      "metadata": {},
      "source": [
        "You may also visualize the method using the `plot` function.\n\n"
      ]
    },
    {
      "cell_type": "code",
      "execution_count": null,
      "metadata": {
        "collapsed": false
      },
      "outputs": [],
      "source": [
        "hahn_echo.plot()"
      ]
    },
    {
      "cell_type": "markdown",
      "metadata": {},
      "source": [
        "As mentioned before, a method object is decoupled from the spin system object. Notice,\nwhen we get the transition pathways from this method for a single-site spin system, we\nget a single transition pathway.\n\n"
      ]
    },
    {
      "cell_type": "code",
      "execution_count": null,
      "metadata": {
        "collapsed": false
      },
      "outputs": [],
      "source": [
        "print(hahn_echo.get_transition_pathways(spin_system_1))"
      ]
    },
    {
      "cell_type": "markdown",
      "metadata": {},
      "source": [
        "In the case of a homonuclear two-site spin 1/2 spin system, the same method returns\nfour transition pathways.\n\n"
      ]
    },
    {
      "cell_type": "code",
      "execution_count": null,
      "metadata": {
        "collapsed": false
      },
      "outputs": [],
      "source": [
        "print(hahn_echo.get_transition_pathways(spin_system_2))"
      ]
    },
    {
      "cell_type": "markdown",
      "metadata": {},
      "source": [
        "Create the Simulator object, add the method and spin system objects, and run the\nsimulation.\n\n"
      ]
    },
    {
      "cell_type": "code",
      "execution_count": null,
      "metadata": {
        "collapsed": false
      },
      "outputs": [],
      "source": [
        "sim = Simulator()\nsim.spin_systems = [spin_system_1, spin_system_2]  # add the spin systems\nsim.methods = [hahn_echo]  # add the method\nsim.config.decompose_spectrum = \"spin_system\"\n\nsim.run()"
      ]
    },
    {
      "cell_type": "markdown",
      "metadata": {},
      "source": [
        "The simulation from each spin system is stored as a dependent variable within the\nCSDM object. Use the `split` function to split the list of the dependent variables\ninto a list of CSDM objects.\n\n"
      ]
    },
    {
      "cell_type": "code",
      "execution_count": null,
      "metadata": {
        "collapsed": false
      },
      "outputs": [],
      "source": [
        "simulation_results = sim.methods[0].simulation.split()\n\n# The plot of the two simulations.\nfig, ax = plt.subplots(1, 2, figsize=(8.0, 3.0), subplot_kw={\"projection\": \"csdm\"})\nfor i in range(2):\n    ax[i].plot(simulation_results[i].real, color=\"black\", linewidth=1)\n    ax[i].invert_xaxis()\nplt.tight_layout()\nplt.show()"
      ]
    },
    {
      "cell_type": "markdown",
      "metadata": {},
      "source": [
        "Notice, in the single-site spin system, the hahn echo refocuses the isotropic chemical\nshits and chemical shift anisotropies. The end result is a resonance at zero\nfrequency. In the case of the two homonuclear spin 1/2 coupled spin system, the Hahn\necho refocuses the isotropic chemical shits and chemical shift anisotropies, but not\nthe dipolar and `J` couplings.\n\n"
      ]
    }
  ],
  "metadata": {
    "kernelspec": {
      "display_name": "Python 3",
      "language": "python",
      "name": "python3"
    },
    "language_info": {
      "codemirror_mode": {
        "name": "ipython",
        "version": 3
      },
      "file_extension": ".py",
      "mimetype": "text/x-python",
      "name": "python",
      "nbconvert_exporter": "python",
      "pygments_lexer": "ipython3",
      "version": "3.9.2"
    }
  },
  "nbformat": 4,
  "nbformat_minor": 0
}