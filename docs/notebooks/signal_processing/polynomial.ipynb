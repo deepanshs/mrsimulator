{
  "cells": [
    {
      "cell_type": "code",
      "execution_count": null,
      "metadata": {
        "collapsed": false
      },
      "outputs": [],
      "source": [
        "# This cell is added by sphinx-gallery\n!pip install mrsimulator --quiet\n\n\n%matplotlib inline\n\nimport mrsimulator\nprint(f'You are using mrsimulator v{mrsimulator.__version__}')"
      ]
    },
    {
      "cell_type": "markdown",
      "metadata": {},
      "source": [
        "\n# Polynomial Offset\n"
      ]
    },
    {
      "cell_type": "markdown",
      "metadata": {},
      "source": [
        "In this example, we will use the \n:py:class:`~mrsimulator.signal_processing.baseline.Polynomial` class to\noffset the baseline of a dataset by a polynomial function. \n\nBelow we import the necessary modules\n\n"
      ]
    },
    {
      "cell_type": "code",
      "execution_count": null,
      "metadata": {
        "collapsed": false
      },
      "outputs": [],
      "source": [
        "import csdmpy as cp\nimport numpy as np\n\nfrom mrsimulator import signal_processing as sp"
      ]
    },
    {
      "cell_type": "markdown",
      "metadata": {},
      "source": [
        "%%\nFirst we create ``processor``, an instance of the\n:py:class:`~mrsimulator.signal_processing.SignalProcessor` class. The required\nattribute of the SignalProcessor class, *operations*, is a list of operations to which\nwe add a :py:class:`~mrsimulator.signal_processing.baseline.Polynomial` object.\n\nThe required argument for the polynomial offset is *polynomial_dictionary* which is a\nPython dict defining the polynomial coefficients. An arbitrary number of coefficients\nmay be passed.\n\n"
      ]
    },
    {
      "cell_type": "code",
      "execution_count": null,
      "metadata": {
        "collapsed": false
      },
      "outputs": [],
      "source": [
        "processor = sp.SignalProcessor(\n    operations=[\n        sp.baseline.Polynomial(polynomial_dictionary={'c0':10, 'c2':0.00002})\n    ]\n)"
      ]
    },
    {
      "cell_type": "markdown",
      "metadata": {},
      "source": [
        "Here the applied offset will be the following function\n\n\\begin{align}f(x) = 0.00002 /cdot x^2 + 10\\end{align}\n\nNext we create a CSDM object with a test dataset which our signal processor will \noperate on. Here, the dataset spans 500 seconds with a delta function centered at\n250 seconds.\n\n"
      ]
    },
    {
      "cell_type": "code",
      "execution_count": null,
      "metadata": {
        "collapsed": false
      },
      "outputs": [],
      "source": [
        "test_data = np.zeros(500)\ntest_data[250] = 1\ncsdm_object = cp.CSDM(\n    dependent_variables=[cp.as_dependent_variable(test_data)],\n    dimensions=[cp.LinearDimension(count=500, increment=\"1 s\")]\n)"
      ]
    },
    {
      "cell_type": "markdown",
      "metadata": {},
      "source": [
        "Now to apply the processor to the CSDM object, use the\n:py:meth:`~mrsimulator.signal_processing.SignalProcessor.apply_operations` method as\nfollows\n\n"
      ]
    },
    {
      "cell_type": "code",
      "execution_count": null,
      "metadata": {
        "collapsed": false
      },
      "outputs": [],
      "source": [
        "processed_data = processor.apply_operations(data=csdm_object.copy())"
      ]
    },
    {
      "cell_type": "markdown",
      "metadata": {},
      "source": [
        "To see the results of the exponential apodization, we create a simple plot using the \n``matplotlib`` library.\n\n"
      ]
    },
    {
      "cell_type": "code",
      "execution_count": null,
      "metadata": {
        "collapsed": false
      },
      "outputs": [],
      "source": [
        "import matplotlib.pyplot as plt\n_, ax = plt.subplots(1, 2, figsize=(8, 3), subplot_kw={\"projection\": \"csdm\"})\nax[0].plot(csdm_object, color=\"black\", linewidth=1)\nax[0].set_title(\"Before\")\nax[1].plot(processed_data.real, color=\"black\", linewidth=1)\nax[1].set_title(\"After\")\nplt.tight_layout()\nplt.show()"
      ]
    }
  ],
  "metadata": {
    "kernelspec": {
      "display_name": "Python 3",
      "language": "python",
      "name": "python3"
    },
    "language_info": {
      "codemirror_mode": {
        "name": "ipython",
        "version": 3
      },
      "file_extension": ".py",
      "mimetype": "text/x-python",
      "name": "python",
      "nbconvert_exporter": "python",
      "pygments_lexer": "ipython3",
      "version": "3.9.2"
    }
  },
  "nbformat": 4,
  "nbformat_minor": 0
}