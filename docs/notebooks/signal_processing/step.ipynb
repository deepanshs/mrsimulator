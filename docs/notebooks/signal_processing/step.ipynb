{
  "cells": [
    {
      "cell_type": "code",
      "execution_count": null,
      "metadata": {
        "collapsed": false
      },
      "outputs": [],
      "source": [
        "# This cell is added by sphinx-gallery\n!pip install mrsimulator --quiet\n\n\n%matplotlib inline\n\nimport mrsimulator\nprint(f'You are using mrsimulator v{mrsimulator.__version__}')"
      ]
    },
    {
      "cell_type": "markdown",
      "metadata": {},
      "source": [
        "\n# Step Apodization\n"
      ]
    },
    {
      "cell_type": "markdown",
      "metadata": {},
      "source": [
        "In this example, we will use the \n:py:class:`~mrsimulator.signal_processing.apodization.Step` class to apply a pointwise\nstep apodization on the Fourier transform of an example dataset. The step function\nis defined as follows\n\n\\begin{align}f(x) =\\end{align}\n\\begin{cases}\n    1, \\texttt{rising_edge} \\leq x \\leq \\texttt{falling_edge} \\\\\n    0, \\text{otherwise}\n\\end{cases}\n\nwhere ``rising_edge`` is the start of the step function window and ``falling_edge`` \nis the end of the step function window\n\nBelow we import the necessary modules\n\n"
      ]
    },
    {
      "cell_type": "code",
      "execution_count": null,
      "metadata": {
        "collapsed": false
      },
      "outputs": [],
      "source": [
        "import csdmpy as cp\nimport numpy as np\n\nfrom mrsimulator import signal_processing as sp"
      ]
    },
    {
      "cell_type": "markdown",
      "metadata": {},
      "source": [
        "First we create ``processor``, and instance of the\n:py:class:`~mrsimulator.signal_processing.SignalProcessor` class. The required\nattribute of the SignalProcessor class, *operations*, is a list of operations to which\nwe add a :py:class:`~mrsimulator.signal_processing.apodization.Step` object \nsandwitched between two Fourier transformations. Here the step window is between\n-0.01 and 0.01 seconds.\n\n"
      ]
    },
    {
      "cell_type": "code",
      "execution_count": null,
      "metadata": {
        "collapsed": false
      },
      "outputs": [],
      "source": [
        "processor = sp.SignalProcessor(\n    operations=[\n        sp.IFFT(),\n        sp.apodization.Step(rising_edge = \"-0.01 s\", falling_edge = \"0.01 s\"),\n        sp.FFT(),\n    ]\n)"
      ]
    },
    {
      "cell_type": "markdown",
      "metadata": {},
      "source": [
        "Next we create a CSDM object with a test dataset which our signal processor will \noperate on. Here, the dataset is a delta function centered at 250 Hz with a some \napplied Gaussian line broadening.\n\n"
      ]
    },
    {
      "cell_type": "code",
      "execution_count": null,
      "metadata": {
        "collapsed": false
      },
      "outputs": [],
      "source": [
        "test_data = np.zeros(500)\ntest_data[250] = 1\ncsdm_object = cp.CSDM(\n    dependent_variables=[cp.as_dependent_variable(test_data)],\n    dimensions=[cp.LinearDimension(count=500, increment=\"1 Hz\")]\n)\n\n# Create processor to apply line broadening\npre_processor = sp.SignalProcessor(\n    operations=[\n        sp.IFFT(),\n        sp.apodization.Gaussian(FWHM=\"50 Hz\"),\n        sp.FFT(),\n    ]\n)\n\n# Apply Gaussian line broadening\npre_processed_data = pre_processor.apply_operations(data=csdm_object)"
      ]
    },
    {
      "cell_type": "markdown",
      "metadata": {},
      "source": [
        "To apply the previously defined signal processor, we use the\n:py:meth:`~mrsimulator.signal_processing.SignalProcessor.apply_operations` method as\nas follows\n\n"
      ]
    },
    {
      "cell_type": "code",
      "execution_count": null,
      "metadata": {
        "collapsed": false
      },
      "outputs": [],
      "source": [
        "processed_data = processor.apply_operations(data=pre_processed_data.copy())"
      ]
    },
    {
      "cell_type": "markdown",
      "metadata": {},
      "source": [
        "To see the results of the step apodization, we create a simple plot using the \n``matplotlob`` library.\n\n"
      ]
    },
    {
      "cell_type": "code",
      "execution_count": null,
      "metadata": {
        "collapsed": false
      },
      "outputs": [],
      "source": [
        "import matplotlib.pyplot as plt\n_, ax = plt.subplots(1, 2, figsize=(8, 3), subplot_kw={\"projection\": \"csdm\"})\nax[0].plot(pre_processed_data, color=\"black\", linewidth=1)\nax[0].set_title(\"Before\")\nax[1].plot(processed_data.real, color=\"black\", linewidth=1)\nax[1].set_title(\"After\")\nplt.tight_layout()\nplt.show()"
      ]
    }
  ],
  "metadata": {
    "kernelspec": {
      "display_name": "Python 3",
      "language": "python",
      "name": "python3"
    },
    "language_info": {
      "codemirror_mode": {
        "name": "ipython",
        "version": 3
      },
      "file_extension": ".py",
      "mimetype": "text/x-python",
      "name": "python",
      "nbconvert_exporter": "python",
      "pygments_lexer": "ipython3",
      "version": "3.9.2"
    }
  },
  "nbformat": 4,
  "nbformat_minor": 0
}