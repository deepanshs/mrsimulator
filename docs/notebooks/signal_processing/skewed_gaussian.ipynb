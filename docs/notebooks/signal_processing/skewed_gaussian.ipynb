{
  "cells": [
    {
      "cell_type": "code",
      "execution_count": null,
      "metadata": {
        "collapsed": false
      },
      "outputs": [],
      "source": [
        "# This cell is added by sphinx-gallery\n!pip install mrsimulator --quiet\n\n\n%matplotlib inline\n\nimport mrsimulator\nprint(f'You are using mrsimulator v{mrsimulator.__version__}')"
      ]
    },
    {
      "cell_type": "markdown",
      "metadata": {},
      "source": [
        "\n# Skewed Gaussian Apodization\n"
      ]
    },
    {
      "cell_type": "markdown",
      "metadata": {},
      "source": [
        "In this example, we will use the\n:py:class:`~mrsimulator.signal_processing.apodization.SkewedGaussian` class to\napply a apodization on the Foruier transform of an example dataset. The\nskewed Gaussian function is defined as follows\n\n\\begin{align}f(x, \\text{FWHM}, \\aplha) = 2\\phi(x, \\text{FWHM})\\Phi(\\alpha x, \\text{FWHM})\\end{align}\n\nwhere $\\phi(x, \\text{FWHM})$ is a normal PDF and $\\Phi(x, \\text{FWHM})$ is\na normal CDF both with standard deviation \n$\\frac{\\text{FWHM}}{2 \\sqrt{2 \\ln{2}}}$ and $\\alpha$ is the skewness\nparameter.\n\nBelow we import the necessary modules\n\n"
      ]
    },
    {
      "cell_type": "code",
      "execution_count": null,
      "metadata": {
        "collapsed": false
      },
      "outputs": [],
      "source": [
        "import csdmpy as cp\nimport numpy as np\n\nfrom mrsimulator import signal_processing as sp"
      ]
    },
    {
      "cell_type": "markdown",
      "metadata": {},
      "source": [
        "First we create ``processor``, and instance of the\n:py:class:`~mrsimulator.signal_processing.SignalProcessor` class. The required\nattribute of the SignalProcessor class, *operations*, is a list of operations to which\nwe add a :py:class:`~mrsimulator.signal_processing.apodization.SkewedGaussian` object \nsandwitched between two Fourier transformations. Here $\\text{skew} = \\alpha = 2$\nfor the first dependent variable and $\\text{skew} = \\alpha = -3.5$\nand the FWHM is 100 seconds.\n\n"
      ]
    },
    {
      "cell_type": "code",
      "execution_count": null,
      "metadata": {
        "collapsed": false
      },
      "outputs": [],
      "source": [
        "processor = sp.SignalProcessor(\n    operations=[\n        sp.IFFT(),\n        sp.apodization.SkewedGaussian(skew=2, FWHM=\"100 s\", dv_index=0),\n        sp.apodization.SkewedGaussian(skew=-3.5, FWHM=\"100 s\", dv_index=1),\n        sp.FFT(),\n    ]\n)"
      ]
    },
    {
      "cell_type": "markdown",
      "metadata": {},
      "source": [
        "Next we create a CSDM object with a test dataset which our signal processor will\noperate on. Here, the dataset consists of two dependent variables each \nspaning 500 seconds with a delta function centered at\n250 seconds.\n\n"
      ]
    },
    {
      "cell_type": "code",
      "execution_count": null,
      "metadata": {
        "collapsed": false
      },
      "outputs": [],
      "source": [
        "test_data = np.zeros(500)\ntest_data[250] = 1\ncsdm_object = cp.CSDM(\n    dependent_variables=[\n            cp.as_dependent_variable(test_data),\n            cp.as_dependent_variable(test_data),\n        ],\n    dimensions=[cp.LinearDimension(count=500, increment=\"1 s\")]\n)\n# set the labels for dependent variables\ncsdm_object.y[0].name = \"skew=2\"\ncsdm_object.y[1].name = \"skew=-3.5\""
      ]
    },
    {
      "cell_type": "markdown",
      "metadata": {},
      "source": [
        "To apply the previously defined signal processor, we use the\n:py:meth:`~mrsimulator.signal_processing.SignalProcessor.apply_operations` method as\nas follows\n\n"
      ]
    },
    {
      "cell_type": "code",
      "execution_count": null,
      "metadata": {
        "collapsed": false
      },
      "outputs": [],
      "source": [
        "processed_data = processor.apply_operations(data=csdm_object)"
      ]
    },
    {
      "cell_type": "markdown",
      "metadata": {},
      "source": [
        "To see the results of the skewed Gaussian apodization, we create a simple plot using \nthe ``matplotlob`` library.\n\n"
      ]
    },
    {
      "cell_type": "code",
      "execution_count": null,
      "metadata": {
        "collapsed": false
      },
      "outputs": [],
      "source": [
        "import matplotlib.pyplot as plt\n_, ax = plt.subplots(1, 2, figsize=(8, 3.5), subplot_kw={\"projection\": \"csdm\"})\nax[0].plot(csdm_object, color=\"black\", linewidth=1)\nax[0].set_title(\"Before\")\nax[1].plot(processed_data.real, linewidth=1)\nax[1].set_title(\"After\")\nplt.tight_layout()\nplt.show()"
      ]
    }
  ],
  "metadata": {
    "kernelspec": {
      "display_name": "Python 3",
      "language": "python",
      "name": "python3"
    },
    "language_info": {
      "codemirror_mode": {
        "name": "ipython",
        "version": 3
      },
      "file_extension": ".py",
      "mimetype": "text/x-python",
      "name": "python",
      "nbconvert_exporter": "python",
      "pygments_lexer": "ipython3",
      "version": "3.9.2"
    }
  },
  "nbformat": 4,
  "nbformat_minor": 0
}