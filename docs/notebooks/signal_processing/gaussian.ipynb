{
  "cells": [
    {
      "cell_type": "code",
      "execution_count": null,
      "metadata": {
        "collapsed": false
      },
      "outputs": [],
      "source": [
        "# This cell is added by sphinx-gallery\n!pip install mrsimulator --quiet\n\n\n%matplotlib inline\n\nimport mrsimulator\nprint(f'You are using mrsimulator v{mrsimulator.__version__}')"
      ]
    },
    {
      "cell_type": "markdown",
      "metadata": {},
      "source": [
        "\n# Gaussian Apodization\n"
      ]
    },
    {
      "cell_type": "markdown",
      "metadata": {},
      "source": [
        "In this example, we will use the \n:py:class:`~mrsimulator.signal_processing.apodization.Gaussian` class to preform a\npointwise apodization on the Fourier transform of an example dataset. The function\nused for this apodization is defined as follows\n\n\\begin{align}f(x) = e^{-2 \\pi^2 \\sigma^2  x^2}\\end{align}\n\nwhere $\\sigma$ is the sstandard deviation of the Gaussian function and is \nparameterized by the full width as half maximum (FWHM) as\n\n\\begin{align}\\sigma = \\frac{\\text{FWHM}}{2\\sqrt{2\\ln 2}}\\end{align}\n\nBelow we import the necessary modules\n\n"
      ]
    },
    {
      "cell_type": "code",
      "execution_count": null,
      "metadata": {
        "collapsed": false
      },
      "outputs": [],
      "source": [
        "import csdmpy as cp\nimport numpy as np\nfrom mrsimulator import signal_processing as sp"
      ]
    },
    {
      "cell_type": "markdown",
      "metadata": {},
      "source": [
        "First we create ``processor``, an instance of the\n:py:class:`~mrsimulator.signal_processing.SignalProcessor` class. The required\nattribute of the SignalProcessor class, *operations*, is a list of operations to which\nwe add a :py:class:`~mrsimulator.signal_processing.apodization.Gaussian` object\nsandwitched between two Fourier transformations.\n\n"
      ]
    },
    {
      "cell_type": "code",
      "execution_count": null,
      "metadata": {
        "collapsed": false
      },
      "outputs": [],
      "source": [
        "processor = sp.SignalProcessor(\n    operations=[\n        sp.IFFT(),\n        sp.apodization.Gaussian(FWHM=\"100 s\"),\n        sp.FFT(),\n    ]\n)"
      ]
    },
    {
      "cell_type": "markdown",
      "metadata": {},
      "source": [
        "Next we create a CSDM object with a test dataset which our signal processor will\noperate on. Here, the dataset spans 500 seconds with a delta function centered at\n250 seconds.\n\n"
      ]
    },
    {
      "cell_type": "code",
      "execution_count": null,
      "metadata": {
        "collapsed": false
      },
      "outputs": [],
      "source": [
        "test_data = np.zeros(500)\ntest_data[250] = 1\ncsdm_object = cp.CSDM(\n    dependent_variables=[cp.as_dependent_variable(test_data)],\n    dimensions=[cp.LinearDimension(count=500, increment=\"1 s\")]\n)"
      ]
    },
    {
      "cell_type": "markdown",
      "metadata": {},
      "source": [
        "Now to apply the processor to the CSDM object, use the\n:py:meth:`~mrsimulator.signal_processing.SignalProcessor.apply_operations` method as\nfollows\n\n"
      ]
    },
    {
      "cell_type": "code",
      "execution_count": null,
      "metadata": {
        "collapsed": false
      },
      "outputs": [],
      "source": [
        "processed_data = processor.apply_operations(data=csdm_object.copy())"
      ]
    },
    {
      "cell_type": "markdown",
      "metadata": {},
      "source": [
        "To see the results of the Gaussian apodization, we create a simple plot using the \n``matplotlib`` library.\n\n"
      ]
    },
    {
      "cell_type": "code",
      "execution_count": null,
      "metadata": {
        "collapsed": false
      },
      "outputs": [],
      "source": [
        "import matplotlib.pyplot as plt\n_, ax = plt.subplots(1, 2, figsize=(8, 3), subplot_kw={\"projection\": \"csdm\"})\nax[0].plot(csdm_object, color=\"black\", linewidth=1)\nax[0].set_title(\"Before\")\nax[1].plot(processed_data.real, color=\"black\", linewidth=1)\nax[1].set_title(\"After\")\nplt.tight_layout()\nplt.show()"
      ]
    }
  ],
  "metadata": {
    "kernelspec": {
      "display_name": "Python 3",
      "language": "python",
      "name": "python3"
    },
    "language_info": {
      "codemirror_mode": {
        "name": "ipython",
        "version": 3
      },
      "file_extension": ".py",
      "mimetype": "text/x-python",
      "name": "python",
      "nbconvert_exporter": "python",
      "pygments_lexer": "ipython3",
      "version": "3.9.2"
    }
  },
  "nbformat": 4,
  "nbformat_minor": 0
}